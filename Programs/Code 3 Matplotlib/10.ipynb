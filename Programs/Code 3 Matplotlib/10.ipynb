{
 "cells": [
  {
   "cell_type": "code",
   "execution_count": null,
   "metadata": {},
   "outputs": [],
   "source": [
    "#10 Dual x or y axis\n",
    "from sympy import *\n",
    "import matplotlib.ticker as tck\n",
    "import matplotlib.pyplot as plt\n",
    "import numpy as np\n",
    "%matplotlib inline \n",
    "\n",
    "x = range(10)\n",
    "y = range(10)\n",
    "def f(t): \n",
    "   return np.exp(-t) * np.cos(2*np.pi*t) \n",
    "\n",
    "t1 = np.arange(0.0, 9.0, 0.1) \n",
    "#fig, ax = plt.subplots(nrows=1, ncols=2)\n",
    "\n",
    "fig, ax1 = plt.subplots()\n",
    "ax1.plot(x, x,  color='blue')\n",
    "ax1.set_ylabel(r\"area $(m^2)$\", fontsize=18, color=\"blue\")\n",
    "for label in ax1.get_yticklabels():\n",
    "   label.set_color(\"blue\")\n",
    "\n",
    "ax2 = ax1.twinx()\n",
    "ax2.plot(t1, f(t1), linewidth=5.0, color='red')\n",
    "ax2.set_ylabel(r\"volume $(m^3)$\", fontsize=18, color=\"red\")"
   ]
  }
 ],
 "metadata": {
  "kernelspec": {
   "display_name": "Python 3",
   "language": "python",
   "name": "python3"
  },
  "language_info": {
   "codemirror_mode": {
    "name": "ipython",
    "version": 3
   },
   "file_extension": ".py",
   "mimetype": "text/x-python",
   "name": "python",
   "nbconvert_exporter": "python",
   "pygments_lexer": "ipython3",
   "version": "3.6.4"
  }
 },
 "nbformat": 4,
 "nbformat_minor": 2
}
