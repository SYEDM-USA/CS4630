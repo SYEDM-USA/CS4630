{
 "cells": [
  {
   "cell_type": "code",
   "execution_count": null,
   "metadata": {},
   "outputs": [],
   "source": [
    "#4 graph\n",
    "%matplotlib inline\n",
    "from sympy import *\n",
    "import matplotlib.ticker as tck\n",
    "import matplotlib.pyplot as plt\n",
    "import numpy as np\n",
    "%matplotlib inline \n",
    "fig, ax1 = plt.subplots()\n",
    "\n",
    "#add_axes(rect) - rect is a list [x0, y0, width, height]\n",
    "# x0, y0, is lower left\n",
    "#fig.add_axes([0,0,1,1]) fig is as large as canvas\n",
    "#subplot is preferred to add_axes\n",
    "\n",
    "left, bottom, width, height = [0.2, 0.3, 0.4, 0.2]\n",
    "ax2 = fig.add_axes([left, bottom, width, height])\n",
    "\n",
    "ax1.plot(range(10), range(10), color='red')\n",
    "ax2.plot(range(6)[::-1], color='green')"
   ]
  }
 ],
 "metadata": {
  "kernelspec": {
   "display_name": "Python 3",
   "language": "python",
   "name": "python3"
  },
  "language_info": {
   "codemirror_mode": {
    "name": "ipython",
    "version": 3
   },
   "file_extension": ".py",
   "mimetype": "text/x-python",
   "name": "python",
   "nbconvert_exporter": "python",
   "pygments_lexer": "ipython3",
   "version": "3.6.4"
  }
 },
 "nbformat": 4,
 "nbformat_minor": 2
}
