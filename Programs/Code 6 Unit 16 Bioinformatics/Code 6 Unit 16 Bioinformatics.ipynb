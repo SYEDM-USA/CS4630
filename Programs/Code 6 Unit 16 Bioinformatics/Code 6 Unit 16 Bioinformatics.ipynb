{
 "cells": [
  {
   "cell_type": "code",
   "execution_count": null,
   "metadata": {},
   "outputs": [],
   "source": [
    "#1\n",
    "p53 = \"MCNSSCMGGMNRR\"\n",
    "protein = \"SEFTTVLYNFMCNSSCMGGMNRRPILTIIS\"\n",
    "print (protein.find(p53))\n",
    "\n",
    "protein[10:10+len(p53)]"
   ]
  },
  {
   "cell_type": "code",
   "execution_count": null,
   "metadata": {},
   "outputs": [],
   "source": [
    "import re\n",
    "pattern = \"a*b\"\n",
    "re.search(pattern,\"fooaaabcde\")\n",
    "#<_sre.SRE_Match object at 0x809c0>\n",
    "re.match(pattern,\"fooaaabcde\")\n"
   ]
  },
  {
   "cell_type": "code",
   "execution_count": null,
   "metadata": {},
   "outputs": [],
   "source": [
    "import re\n",
    "text = \"My name is Joe\"\n",
    "re.search(r\"[AT]\", text)"
   ]
  },
  {
   "cell_type": "code",
   "execution_count": null,
   "metadata": {},
   "outputs": [],
   "source": [
    "#2\n",
    "import re\n",
    "text = \"My name is Joe\"\n",
    "re.search(r\"[AT]\", text)\n",
    "\n",
    "match = re.search(\"[AJ]\", text)\n",
    "print (match.start(), match.end(), text[11:12])\n",
    "\n"
   ]
  },
  {
   "cell_type": "code",
   "execution_count": null,
   "metadata": {},
   "outputs": [],
   "source": [
    "#4\n",
    "pattern = \"[LIVMFE][FY]PWM[KRQTA]\"\n",
    "seq = \"LHNEANLRIYPWMRSAGADR\"\n",
    "match = re.search(pattern, seq)\n",
    "print (match.start(), match.end())"
   ]
  },
  {
   "cell_type": "code",
   "execution_count": null,
   "metadata": {},
   "outputs": [],
   "source": [
    "#5\n",
    "import re\n",
    "pattern = r\"[LIVMFE][FY]PWM[KRQTA]\"\n",
    "match = re.search(pattern, \"AAAAAAAAAAAAAA\")\n",
    "print (match)"
   ]
  },
  {
   "cell_type": "code",
   "execution_count": null,
   "metadata": {},
   "outputs": [],
   "source": [
    "#6 \n",
    "import re\n",
    "pattern = \"[LIVMFE][FY]PWM[KRQTA]\"\n",
    "sequences = [\"LHNEANLRIYPWMRSAGADR\",\n",
    "                 \"PTVGKQIFPWMKES\",\n",
    "                 \"NEANLKQIFPGAATR\",\n",
    "                 \"VFPWMKMGGAKGGESKRTR\"]\n",
    "for seq in sequences:\n",
    "      match = re.search(pattern, seq)\n",
    "      if match:\n",
    "        print (seq, \"matches\")\n",
    "      else:\n",
    "        print (seq, \"does not have the motif\")\n",
    "    \n"
   ]
  },
  {
   "cell_type": "code",
   "execution_count": null,
   "metadata": {},
   "outputs": [],
   "source": [
    "import re\n",
    "pattern = \"[ASD]{3,5}([LI])[^P]{2,5}\"\n",
    "seq = \"EASALWTRD\"\n",
    "match = re.search(pattern, seq)\n",
    "print (match.start(), match.end() )\n",
    "match.start(1), match.end(1)"
   ]
  },
  {
   "cell_type": "code",
   "execution_count": null,
   "metadata": {},
   "outputs": [],
   "source": [
    "#8\n",
    "import re\n",
    "#match - ONLY @ start; search - anywhere\n",
    "#findall - as list; finditer - as iterator\n",
    "pat = '[a-z]+'\n",
    "print ( re.search(pat, \"\") )  #none\n",
    "look = re.search(pat, \"  hel\")\n",
    "print (re.match(pat, \"  hel\"), 'search:', look)\n",
    "print (look.group(), look.start(), look.span())\n",
    "\n",
    "pat = re.compile(r'\\d+') #look for number\n",
    "text = '12 Matt, 25 Cindy  8 Luke, ab Lisa'\n",
    "pat.findall(text)\n",
    "\n",
    "iterator = pat.finditer(text)\n",
    "for match in iterator:\n",
    "   print(match.span())"
   ]
  },
  {
   "cell_type": "code",
   "execution_count": null,
   "metadata": {},
   "outputs": [],
   "source": [
    "#9\n",
    "import re\n",
    "text = \"Name: Joe Age: 21\"\n",
    "pattern = \"Name: ([^ ]+) +Age: ([0123456789]+)\"\n",
    "match = re.search(pattern, text)\n",
    "print (match.start(1))\n",
    "print (match.end(1))\n",
    "\n",
    "print (match.group(0)) # entire RE\n",
    "print (match.group(1)) # 1st ()\n",
    "print (match.group(2)) # 2nd ()\n",
    "\n"
   ]
  },
  {
   "cell_type": "code",
   "execution_count": null,
   "metadata": {},
   "outputs": [],
   "source": []
  },
  {
   "cell_type": "code",
   "execution_count": null,
   "metadata": {},
   "outputs": [],
   "source": [
    "#10\n",
    "import re\n",
    "lookFor =  \"\\w+@(\\w+\\.)+(com|org|net|edu)\"\n",
    "foundIt = re.match(lookFor,\"megan@abc.xyz.com\")\n",
    "print (foundIt.group())"
   ]
  },
  {
   "cell_type": "code",
   "execution_count": null,
   "metadata": {},
   "outputs": [],
   "source": [
    "#11\n",
    "import re\n",
    "lookFor = \"(\\w+)@((\\w+\\.)+(com|org|net|edu))\"\n",
    "foundIt = re.match(lookFor,\"megan@abc.xyz.com\")\n",
    "print (foundIt.group(1))\n",
    "print(foundIt.group(2))\n",
    "print(foundIt.groups())\n"
   ]
  },
  {
   "cell_type": "code",
   "execution_count": null,
   "metadata": {},
   "outputs": [],
   "source": [
    "#12\n",
    "import re\n",
    "myText = \"Hey() , she and I are 2 friends!\"\n",
    "split1 = re.findall( \"[\\w']+|[.,!?;]\", myText)\n",
    "split2 = re.findall( \"[\\w']+\", myText)\n",
    "print (myText)\n",
    "print(split1)\n",
    "print(split2)\n",
    "subText = re.sub('(she|I)', 'Tracy' , myText)\n",
    "print('she->Tracy, I>Tracy', subText)\n",
    "nums = myText.split(' ', 2)\n",
    "for num in nums:\n",
    "     print ('> ' + num)\n"
   ]
  },
  {
   "cell_type": "code",
   "execution_count": 1,
   "metadata": {},
   "outputs": [
    {
     "name": "stdout",
     "output_type": "stream",
     "text": [
      "megan\n",
      "abc.xyz.com\n",
      "megan\n",
      "abc.xyz.com\n"
     ]
    }
   ],
   "source": [
    "#13 compile, place holder\n",
    "import re\n",
    "lookFor =\"(?P<name>\\w+)@(?P<host>(\\w+\\.)+(com|org|net|edu))\"\n",
    "compileLookFor = re.compile(lookFor)\n",
    "compFound = compileLookFor.search(\"megan@abc.xyz.com\")\n",
    "normalFound = re.search \\\n",
    "    (lookFor, \"megan@abc.xyz.com\")\n",
    "print (normalFound.group('name'))\n",
    "print (normalFound.group('host'))\n",
    "print (compFound.group('name'))\n",
    "print (compFound.group('host'))"
   ]
  },
  {
   "cell_type": "code",
   "execution_count": 2,
   "metadata": {},
   "outputs": [
    {
     "name": "stdout",
     "output_type": "stream",
     "text": [
      " hello how are u doing? \n",
      " helloay howay arezay uzay doingay\n"
     ]
    }
   ],
   "source": [
    "#14\n",
    "import re\n",
    "def piglatin1(word):\n",
    "    \"\"\"if word starts with consonants, move to end, but add 'ay'\n",
    "    ELSE 'starts with vowels' keep as it is, but add azy \"\"\"\n",
    "    match = cpat.match(word)\n",
    "    if match:\n",
    "        consonants = match.group(1)\n",
    "        rest = match.group(2)\n",
    "        return consonants + rest + 'ay'\n",
    "    else:\n",
    "        return word + \"zay\"\n",
    "\n",
    "def piglatin(string):\n",
    "  return \" \".join( [piglatin1(w) for w in string.split()] )\n",
    "\n",
    "pat = '([bcdfghjklmnpqrstvwxyz]+)(\\w+)'\n",
    "cpat = re.compile(pat)\n",
    "\n",
    "myText = \"hello how are u doing?\"\n",
    "print (' '+myText,'\\n', piglatin (myText))\n"
   ]
  },
  {
   "cell_type": "code",
   "execution_count": null,
   "metadata": {},
   "outputs": [],
   "source": []
  }
 ],
 "metadata": {
  "kernelspec": {
   "display_name": "Python 3",
   "language": "python",
   "name": "python3"
  },
  "language_info": {
   "codemirror_mode": {
    "name": "ipython",
    "version": 3
   },
   "file_extension": ".py",
   "mimetype": "text/x-python",
   "name": "python",
   "nbconvert_exporter": "python",
   "pygments_lexer": "ipython3",
   "version": "3.6.4"
  }
 },
 "nbformat": 4,
 "nbformat_minor": 2
}
