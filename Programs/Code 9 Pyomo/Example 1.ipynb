{
 "cells": [
  {
   "cell_type": "code",
   "execution_count": 1,
   "metadata": {},
   "outputs": [
    {
     "name": "stdout",
     "output_type": "stream",
     "text": [
      "\n",
      "Problem: \n",
      "- Name: unknown\n",
      "  Lower bound: 4335.0\n",
      "  Upper bound: 4335.0\n",
      "  Number of objectives: 1\n",
      "  Number of constraints: 4\n",
      "  Number of variables: 3\n",
      "  Number of nonzeros: 7\n",
      "  Sense: maximize\n",
      "Solver: \n",
      "- Status: ok\n",
      "  Termination condition: optimal\n",
      "  Statistics: \n",
      "    Branch and bound: \n",
      "      Number of bounded subproblems: 0\n",
      "      Number of created subproblems: 0\n",
      "  Error rc: 0\n",
      "  Time: 0.03800821304321289\n",
      "Solution: \n",
      "- number of solutions: 0\n",
      "  number of solutions displayed: 0\n",
      "\n",
      "x[1] 270.0\n",
      "x[2] 75.0\n"
     ]
    }
   ],
   "source": [
    "#1 Use Pyomo to solve Example 1: Product Mix\n",
    "#https://pyomo.readthedocs.io/en/stable/\n",
    "\n",
    "#install pyomo\n",
    "#conda install -c conda-forge pyomo\n",
    "\n",
    "from pyomo.environ import * \n",
    "from pyomo.opt import SolverFactory\n",
    "\n",
    "'''\n",
    "Example 1: Product Mix\n",
    "Maximize:  13 x1 + 11 x2\n",
    "\n",
    "Constraints: 4 X1 + 5 x2 <= 1500\n",
    "             5 x1 + 3 x2 <= 1575\n",
    "               x1 + 2 x2 <=  420\n",
    "             x1, x2 >= 0\n",
    "             \n",
    "'''\n",
    "model = ConcreteModel()  #create a model\n",
    "\n",
    "model.x = Var([1,2], domain=NonNegativeReals)  #using 2 variables, >= 0\n",
    "\n",
    "model.OBJ = Objective(expr = 13*model.x[1] + 11*model.x[2], sense=maximize)\n",
    "\n",
    "model.Constraint1 = Constraint(expr = 4*model.x[1] + 5*model.x[2] <= 1500)\n",
    "model.Constraint2 = Constraint(expr = 5*model.x[1] + 3*model.x[2] <= 1575)\n",
    "model.Constraint3 = Constraint(expr =   model.x[1] + 2*model.x[2] <=  420)\n",
    "\n",
    "opt = SolverFactory('glpk')  #pyomo has many solvers\n",
    "results = opt.solve(model)\n",
    "print (results)\n",
    "\n",
    "# If you like, you can print values for each variable explicitly\n",
    "for i in model.x:\n",
    "  print ( str(model.x[i]), model.x[i].value)"
   ]
  },
  {
   "cell_type": "code",
   "execution_count": null,
   "metadata": {},
   "outputs": [],
   "source": []
  },
  {
   "cell_type": "code",
   "execution_count": null,
   "metadata": {},
   "outputs": [],
   "source": []
  }
 ],
 "metadata": {
  "kernelspec": {
   "display_name": "Python 3",
   "language": "python",
   "name": "python3"
  },
  "language_info": {
   "codemirror_mode": {
    "name": "ipython",
    "version": 3
   },
   "file_extension": ".py",
   "mimetype": "text/x-python",
   "name": "python",
   "nbconvert_exporter": "python",
   "pygments_lexer": "ipython3",
   "version": "3.7.4"
  }
 },
 "nbformat": 4,
 "nbformat_minor": 2
}
