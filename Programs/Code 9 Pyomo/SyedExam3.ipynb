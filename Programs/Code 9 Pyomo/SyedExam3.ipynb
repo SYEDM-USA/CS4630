{
 "cells": [
  {
   "cell_type": "markdown",
   "metadata": {},
   "source": [
    "# Problem 1"
   ]
  },
  {
   "cell_type": "code",
   "execution_count": 63,
   "metadata": {},
   "outputs": [
    {
     "name": "stdout",
     "output_type": "stream",
     "text": [
      "critical value, T-statistic, p value, alpha : 2.23 ; -2.96 ; 0.01; 0.05\n",
      "The null hypothesis is  rejected with alpha=  0.05 since t-value -2.958 falls  outside  critical value ± 2.228\n"
     ]
    }
   ],
   "source": [
    "from sympy import *\n",
    "import numpy as np\n",
    "from scipy import stats\n",
    "\n",
    "sample_ = [5260,5470,5640,6180,6390,6515,6805,7515,7515,8230,8770]\n",
    "alpha = 0.05\n",
    "n = len(sample_)\n",
    "meanSample = np.mean(sample_)\n",
    "meanClaim = 7725\n",
    "stdDevSample = np.std(sample_)\n",
    "criticalValue = stats.t.isf([alpha / 2], [[n - 1]])[0][0]\n",
    "tvalue = (meanSample - meanClaim) / (stdDevSample / np.sqrt(n))\n",
    "pvalue = stats.t.sf(np.abs(tvalue), n - 1) * 2  \n",
    "print(\"critical value, T-statistic, p value, alpha : %.2f ; %.2f ; %.2f; %.2f\" %(criticalValue , tvalue, pvalue, alpha))\n",
    "string1,string2 = '',  ' outside '\n",
    "if np.abs(tvalue) < criticalValue: \n",
    "    string1,string2 = ' not ' , ' between '\n",
    "print('The null hypothesis is', string1, 'rejected with alpha= ', alpha,'since t-value %.3f falls'  %(tvalue), string2, 'critical value ± %.3f' %(criticalValue))\n"
   ]
  },
  {
   "cell_type": "markdown",
   "metadata": {},
   "source": [
    "# Problem 2"
   ]
  },
  {
   "cell_type": "code",
   "execution_count": 61,
   "metadata": {},
   "outputs": [
    {
     "name": "stdout",
     "output_type": "stream",
     "text": [
      "Optimum, x, y: 37.5, 3.75, 7.5\n"
     ]
    }
   ],
   "source": [
    "from pyomo.environ import * \n",
    "from pyomo.opt import SolverFactory\n",
    "\n",
    "model = ConcreteModel()\n",
    "model.x = Var([1,2], domain=NonNegativeReals)\n",
    "model.OBJ = Objective(expr = 2*model.x[1] + 3*model.x[2], sense=minimize)\n",
    "\n",
    "model.Constraint1 = Constraint(expr = 2*model.x[1] + 3*model.x[2] >= 30)\n",
    "model.Constraint2 = Constraint(expr = 1*model.x[1] + 5*model.x[2] >= 20)\n",
    "model.Constraint3 = Constraint(expr = 2* model.x[1] - 1*model.x[2] >=  0)\n",
    "\n",
    "opt = SolverFactory('glpk')\n",
    "results = opt.solve(model)\n",
    "values_ = []\n",
    "for i in model.x:\n",
    "    values_.append(model.x[i].value)\n",
    "print('Optimum, x, y: '+str(4*values_[0]+3*values_[1])+\", \"+str(values_[0])+\", \"+str(values_[1]))"
   ]
  }
 ],
 "metadata": {
  "kernelspec": {
   "display_name": "Python 3",
   "language": "python",
   "name": "python3"
  },
  "language_info": {
   "codemirror_mode": {
    "name": "ipython",
    "version": 3
   },
   "file_extension": ".py",
   "mimetype": "text/x-python",
   "name": "python",
   "nbconvert_exporter": "python",
   "pygments_lexer": "ipython3",
   "version": "3.7.4"
  }
 },
 "nbformat": 4,
 "nbformat_minor": 2
}
