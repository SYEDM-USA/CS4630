{
 "cells": [
  {
   "cell_type": "code",
   "execution_count": null,
   "metadata": {},
   "outputs": [],
   "source": [
    "#6 substitution\n",
    "\n",
    "from sympy import *\n",
    "import numpy as np\n",
    "init_printing()         #pretty print expressions\n",
    "\n",
    "x, y, z = symbols('x, y, z')\n",
    "expr = cos(x) + 1 + sin (z)\n",
    "\n",
    "print (expr.subs(x,y))\n",
    "display (expr, expr.subs(x,y), cos(x).subs(x,pi))\n",
    "\n",
    "print ('sub 0 for x, 1 for y: ', expr.subs({x:0, y:1})) # many subs; dict or tuple fine\n",
    "expr = x*y\n",
    "display (expr, expr.subs(y,x**y))"
   ]
  },
  {
   "cell_type": "code",
   "execution_count": null,
   "metadata": {},
   "outputs": [],
   "source": []
  }
 ],
 "metadata": {
  "kernelspec": {
   "display_name": "Python 3",
   "language": "python",
   "name": "python3"
  },
  "language_info": {
   "codemirror_mode": {
    "name": "ipython",
    "version": 3
   },
   "file_extension": ".py",
   "mimetype": "text/x-python",
   "name": "python",
   "nbconvert_exporter": "python",
   "pygments_lexer": "ipython3",
   "version": "3.7.3"
  }
 },
 "nbformat": 4,
 "nbformat_minor": 2
}
