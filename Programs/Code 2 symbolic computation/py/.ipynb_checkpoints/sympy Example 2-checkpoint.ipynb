{
 "cells": [
  {
   "cell_type": "code",
   "execution_count": 12,
   "metadata": {},
   "outputs": [
    {
     "name": "stdout",
     "output_type": "stream",
     "text": [
      "x**2 + z (x**2 + z)**2\n"
     ]
    }
   ],
   "source": [
    "#1 define symbols & use them\n",
    "from sympy import *\n",
    "import numpy as np\n",
    "\n",
    "x, y = symbols('x, z') # x to variable x, y to variable z\n",
    "\n",
    "a = x * x + y\n",
    "print (a, a**2)\n",
    "\n"
   ]
  },
  {
   "cell_type": "code",
   "execution_count": 13,
   "metadata": {},
   "outputs": [
    {
     "name": "stdout",
     "output_type": "stream",
     "text": [
      "x**2 + x + y\n"
     ]
    },
    {
     "data": {
      "image/png": "[encoded data removed]",
      "text/latex": [
       "$$x^{2} + x + y$$"
      ],
      "text/plain": [
       " 2        \n",
       "x  + x + y"
      ]
     },
     "metadata": {},
     "output_type": "display_data"
    },
    {
     "data": {
      "image/png": "[encoded data removed]",
      "text/latex": [
       "$$x^{2} + x + 2 y$$"
      ],
      "text/plain": [
       " 2          \n",
       "x  + x + 2⋅y"
      ]
     },
     "metadata": {},
     "output_type": "display_data"
    }
   ],
   "source": [
    "#2 print expressions better\n",
    "\n",
    "from sympy import *\n",
    "import numpy as np\n",
    "init_printing()         #pretty print expressions\n",
    "x, y, z = symbols('x, y, z')\n",
    "\n",
    "z = x * x + y + x\n",
    "print (z)\n",
    "display (z, z + y)"
   ]
  },
  {
   "cell_type": "code",
   "execution_count": 16,
   "metadata": {},
   "outputs": [
    {
     "data": {
      "image/png": "[encoded data removed]",
      "text/latex": [
       "$$x^{2} + y$$"
      ],
      "text/plain": [
       " 2    \n",
       "x  + y"
      ]
     },
     "metadata": {},
     "output_type": "display_data"
    },
    {
     "data": {
      "image/png": "[encoded data removed]",
      "text/latex": [
       "$$x^{2} + 2 y$$"
      ],
      "text/plain": [
       " 2      \n",
       "x  + 2⋅y"
      ]
     },
     "metadata": {},
     "output_type": "display_data"
    },
    {
     "data": {
      "image/png": "[encoded data removed]",
      "text/latex": [
       "$$x^{2} + y$$"
      ],
      "text/plain": [
       " 2    \n",
       "x  + y"
      ]
     },
     "metadata": {},
     "output_type": "display_data"
    },
    {
     "data": {
      "image/png": "[encoded data removed]",
      "text/latex": [
       "$$x^{6} + 3 x^{4} y + 3 x^{2} y^{2} + y^{3}$$"
      ],
      "text/plain": [
       " 6      4        2  2    3\n",
       "x  + 3⋅x ⋅y + 3⋅x ⋅y  + y "
      ]
     },
     "metadata": {},
     "output_type": "display_data"
    },
    {
     "data": {
      "image/png": "[encoded data removed]",
      "text/latex": [
       "$$\\left(x^{2} + y\\right)^{3}$$"
      ],
      "text/plain": [
       "        3\n",
       "⎛ 2    ⎞ \n",
       "⎝x  + y⎠ "
      ]
     },
     "metadata": {},
     "output_type": "display_data"
    },
    {
     "data": {
      "image/png": "[encoded data removed]",
      "text/latex": [
       "$$x$$"
      ],
      "text/plain": [
       "x"
      ]
     },
     "metadata": {},
     "output_type": "display_data"
    }
   ],
   "source": [
    "#3 invoke some primitives\n",
    "\n",
    "from sympy import *\n",
    "import numpy as np\n",
    "init_printing()         #pretty print expressions\n",
    "x, y, z = symbols('x, y, z')\n",
    "\n",
    "z = x * x + y\n",
    "display (z, z + y)\n",
    "\n",
    "ZPower3 = expand (z** 3)\n",
    "factorZPower3 = factor (ZPower3)\n",
    "display (z, ZPower3, factorZPower3)\n",
    "\n",
    "z = simplify(x**2-y**2-(x+y)*(x-y) + x)\n",
    "display (z)"
   ]
  },
  {
   "cell_type": "code",
   "execution_count": 48,
   "metadata": {},
   "outputs": [
    {
     "data": {
      "image/png": "[encoded data removed]",
      "text/latex": [
       "$$\\left(x + y\\right) \\left(x + 2 y\\right) \\left(x + 3 y\\right)$$"
      ],
      "text/plain": [
       "(x + y)⋅(x + 2⋅y)⋅(x + 3⋅y)"
      ]
     },
     "metadata": {},
     "output_type": "display_data"
    },
    {
     "data": {
      "image/png": "[encoded data removed]",
      "text/latex": [
       "$$x^{3} + 6 x^{2} y + 11 x y^{2} + 6 y^{3}$$"
      ],
      "text/plain": [
       " 3      2           2      3\n",
       "x  + 6⋅x ⋅y + 11⋅x⋅y  + 6⋅y "
      ]
     },
     "metadata": {},
     "output_type": "display_data"
    }
   ],
   "source": [
    "#4 product, expand\n",
    "\n",
    "from sympy import *\n",
    "import numpy as np\n",
    "init_printing()         #pretty print expressions\n",
    "x, y, i = symbols('x, y, i')\n",
    "\n",
    "expr = product((x+i*y), (i, 1, 3))\n",
    "display (expr, expr.expand())\n"
   ]
  },
  {
   "cell_type": "code",
   "execution_count": 55,
   "metadata": {},
   "outputs": [
    {
     "data": {
      "image/png": "[encoded data removed]",
      "text/latex": [
       "$$x$$"
      ],
      "text/plain": [
       "x"
      ]
     },
     "metadata": {},
     "output_type": "display_data"
    },
    {
     "data": {
      "image/png": "[encoded data removed]",
      "text/latex": [
       "$$x^{3} + x^{2} + x + 1$$"
      ],
      "text/plain": [
       " 3    2        \n",
       "x  + x  + x + 1"
      ]
     },
     "metadata": {},
     "output_type": "display_data"
    },
    {
     "data": {
      "image/png": "[encoded data removed]",
      "text/latex": [
       "$$\\frac{x + 1}{x - 1}$$"
      ],
      "text/plain": [
       "x + 1\n",
       "─────\n",
       "x - 1"
      ]
     },
     "metadata": {},
     "output_type": "display_data"
    }
   ],
   "source": [
    "#5 simplify\n",
    "\n",
    "from sympy import *\n",
    "import numpy as np\n",
    "init_printing()         #pretty print expressions\n",
    "x, y, z = symbols('x, y, z')\n",
    "\n",
    "\n",
    "z = simplify(x**2-y**2-(x+y)*(x-y) + x)\n",
    "display (z)\n",
    "display (cancel((x**4 - 1)/(x-1)))\n",
    "\n",
    "display (cancel((x**2 + 2* x + 1)/(x**2 - 1)) )\n"
   ]
  },
  {
   "cell_type": "code",
   "execution_count": 56,
   "metadata": {},
   "outputs": [
    {
     "name": "stdout",
     "output_type": "stream",
     "text": [
      "sin(z) + cos(y) + 1\n"
     ]
    },
    {
     "data": {
      "image/png": "[encoded data removed]",
      "text/latex": [
       "$$\\sin{\\left (z \\right )} + \\cos{\\left (x \\right )} + 1$$"
      ],
      "text/plain": [
       "sin(z) + cos(x) + 1"
      ]
     },
     "metadata": {},
     "output_type": "display_data"
    },
    {
     "data": {
      "image/png": "[encoded data removed]",
      "text/latex": [
       "$$\\sin{\\left (z \\right )} + \\cos{\\left (y \\right )} + 1$$"
      ],
      "text/plain": [
       "sin(z) + cos(y) + 1"
      ]
     },
     "metadata": {},
     "output_type": "display_data"
    },
    {
     "data": {
      "image/png": "[encoded data removed]",
      "text/latex": [
       "$$-1$$"
      ],
      "text/plain": [
       "-1"
      ]
     },
     "metadata": {},
     "output_type": "display_data"
    },
    {
     "name": "stdout",
     "output_type": "stream",
     "text": [
      "sub 0 for x, 1 for y:  sin(z) + 2\n"
     ]
    },
    {
     "data": {
      "image/png": "[encoded data removed]",
      "text/latex": [
       "$$x y$$"
      ],
      "text/plain": [
       "x⋅y"
      ]
     },
     "metadata": {},
     "output_type": "display_data"
    },
    {
     "data": {
      "image/png": "[encoded data removed]",
      "text/latex": [
       "$$x x^{y}$$"
      ],
      "text/plain": [
       "   y\n",
       "x⋅x "
      ]
     },
     "metadata": {},
     "output_type": "display_data"
    }
   ],
   "source": [
    "#6 substitution\n",
    "\n",
    "from sympy import *\n",
    "import numpy as np\n",
    "init_printing()         #pretty print expressions\n",
    "\n",
    "x, y, z = symbols('x, y, z')\n",
    "expr = cos(x) + 1 + sin (z)\n",
    "\n",
    "print (expr.subs(x,y))\n",
    "display (expr, expr.subs(x,y), cos(x).subs(x,pi))\n",
    "\n",
    "print ('sub 0 for x, 1 for y: ', expr.subs({x:0, y:1})) # many subs; dict or tuple fine\n",
    "expr = x*y\n",
    "display (expr, expr.subs(y,x**y))"
   ]
  },
  {
   "cell_type": "code",
   "execution_count": 59,
   "metadata": {},
   "outputs": [
    {
     "name": "stdout",
     "output_type": "stream",
     "text": [
      "{x: 2, y: -3}\n"
     ]
    },
    {
     "data": {
      "image/png": "[encoded data removed]",
      "text/latex": [
       "$$\\left \\{ x : 2, \\quad y : -3\\right \\}$$"
      ],
      "text/plain": [
       "{x: 2, y: -3}"
      ]
     },
     "metadata": {},
     "output_type": "display_data"
    }
   ],
   "source": [
    "#7 solve linear equations\n",
    "\n",
    "from sympy import *\n",
    "import numpy as np\n",
    "init_printing()         #pretty print\n",
    "\n",
    "x, y, z = symbols('x, y, z')\n",
    "eq1 =   3*x +   5*y + 9  #3x + 5y = -9\n",
    "eq2 = x + 4*y +10  #x  + 4y = -10\n",
    "print ( solve([eq1, eq2], (x, y))) \n",
    "display ( solve([eq1, eq2], (x, y)))"
   ]
  },
  {
   "cell_type": "code",
   "execution_count": null,
   "metadata": {},
   "outputs": [],
   "source": [
    "#6 differentiate\n",
    "\n",
    "from sympy import *\n",
    "import numpy as np\n",
    "init_printing()         #pretty print expressions\n",
    "x, y, i = symbols('x, y, i')\n",
    "\n",
    "expr = product((x+i*y), (i, 1, 3))\n",
    "display (expr, expr.expand())\n",
    "\n",
    "diffWRTxTwice = expr.diff(x, 2)\n",
    "display (diffWRTxTwice)\n",
    "print (diffWRTxTwice)\n",
    "\n",
    "display (expr.diff(y, 3) )"
   ]
  }
 ],
 "metadata": {
  "kernelspec": {
   "display_name": "Python 3",
   "language": "python",
   "name": "python3"
  },
  "language_info": {
   "codemirror_mode": {
    "name": "ipython",
    "version": 3
   },
   "file_extension": ".py",
   "mimetype": "text/x-python",
   "name": "python",
   "nbconvert_exporter": "python",
   "pygments_lexer": "ipython3",
   "version": "3.7.3"
  }
 },
 "nbformat": 4,
 "nbformat_minor": 2
}
