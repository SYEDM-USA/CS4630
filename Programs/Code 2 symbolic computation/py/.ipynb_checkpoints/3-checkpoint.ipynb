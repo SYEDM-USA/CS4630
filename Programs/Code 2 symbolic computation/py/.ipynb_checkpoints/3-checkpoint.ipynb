{
 "cells": [
  {
   "cell_type": "code",
   "execution_count": null,
   "metadata": {},
   "outputs": [],
   "source": [
    "#3 invoke some primitives\n",
    "\n",
    "from sympy import *\n",
    "import numpy as np\n",
    "init_printing()         #pretty print \n",
    "x, y, z = symbols('x, y, z')\n",
    "\n",
    "z = x * x + y\n",
    "display (z, z + y)\n",
    "\n",
    "ZPower3 = expand (z** 3)\n",
    "factorZPower3 = factor (ZPower3)\n",
    "display (z, ZPower3, factorZPower3)\n",
    "\n",
    "z = simplify(x**2-y**2-(x+y)*(x-y) + x)\n",
    "display (z)"
   ]
  },
  {
   "cell_type": "code",
   "execution_count": null,
   "metadata": {},
   "outputs": [],
   "source": []
  }
 ],
 "metadata": {
  "kernelspec": {
   "display_name": "Python 3",
   "language": "python",
   "name": "python3"
  },
  "language_info": {
   "codemirror_mode": {
    "name": "ipython",
    "version": 3
   },
   "file_extension": ".py",
   "mimetype": "text/x-python",
   "name": "python",
   "nbconvert_exporter": "python",
   "pygments_lexer": "ipython3",
   "version": "3.7.3"
  }
 },
 "nbformat": 4,
 "nbformat_minor": 2
}
