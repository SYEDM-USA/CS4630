{
 "cells": [
  {
   "cell_type": "code",
   "execution_count": null,
   "metadata": {},
   "outputs": [],
   "source": [
    "#5 simplify\n",
    "\n",
    "from sympy import *\n",
    "import numpy as np\n",
    "init_printing()         #pretty print expressions\n",
    "x, y, z = symbols('x, y, z')\n",
    "\n",
    "\n",
    "z = simplify(x**2-y**2-(x+y)*(x-y) + x)\n",
    "display (z)\n",
    "display (cancel((x**4 - 1)/(x-1)))\n",
    "\n",
    "display (cancel((x**2 + 2* x + 1)/(x**2 - 1)) )"
   ]
  },
  {
   "cell_type": "code",
   "execution_count": null,
   "metadata": {},
   "outputs": [],
   "source": []
  }
 ],
 "metadata": {
  "kernelspec": {
   "display_name": "Python 3",
   "language": "python",
   "name": "python3"
  },
  "language_info": {
   "codemirror_mode": {
    "name": "ipython",
    "version": 3
   },
   "file_extension": ".py",
   "mimetype": "text/x-python",
   "name": "python",
   "nbconvert_exporter": "python",
   "pygments_lexer": "ipython3",
   "version": "3.7.3"
  }
 },
 "nbformat": 4,
 "nbformat_minor": 2
}
