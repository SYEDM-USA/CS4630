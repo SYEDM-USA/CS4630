{
 "cells": [
  {
   "cell_type": "code",
   "execution_count": null,
   "metadata": {},
   "outputs": [],
   "source": [
    "#2 solve simulatenous equations\n",
    "\n",
    "from sympy import *\n",
    "import numpy as np\n",
    "init_printing()         #pretty print\n",
    "\n",
    "x, y, z = symbols('x, y, z')\n",
    "eq1 =   3*x +   5*y + 9  #3x + 5y = -9\n",
    "eq2 = x + 4*y +10  #x  + 4y = -10\n",
    "print ( solve([eq1, eq2], (x, y))) \n",
    "display ( solve([eq1, eq2], (x, y)))"
   ]
  },
  {
   "cell_type": "code",
   "execution_count": null,
   "metadata": {},
   "outputs": [],
   "source": []
  }
 ],
 "metadata": {
  "kernelspec": {
   "display_name": "Python 3",
   "language": "python",
   "name": "python3"
  },
  "language_info": {
   "codemirror_mode": {
    "name": "ipython",
    "version": 3
   },
   "file_extension": ".py",
   "mimetype": "text/x-python",
   "name": "python",
   "nbconvert_exporter": "python",
   "pygments_lexer": "ipython3",
   "version": "3.7.3"
  }
 },
 "nbformat": 4,
 "nbformat_minor": 2
}
