{
 "cells": [
  {
   "cell_type": "code",
   "execution_count": 9,
   "metadata": {
    "scrolled": false
   },
   "outputs": [
    {
     "name": "stdout",
     "output_type": "stream",
     "text": [
      "Spit out Discharge ...\n",
      "20100.0\n",
      "16900.0\n",
      "14700.0\n",
      "11900.0\n",
      "9850.0\n",
      "8280.0\n"
     ]
    }
   ],
   "source": [
    "from suds.client import Client\n",
    "from datetime import datetime\n",
    "\n",
    "site_url = 'http://hydroportal.cuahsi.org/nwisuv/cuahsi_1_1.asmx?WSDL'\n",
    "NWIS = Client(site_url).service\n",
    "discharge = NWIS.GetValuesObject('NWISUV:04193500','NWISUV:00060',\n",
    "                datetime.strptime('3/5/2020','%m/%d/%Y'),\n",
    "                datetime.strptime('3/7/2020','%m/%d/%Y')  )\n",
    "                                 \n",
    "print ('Spit out Discharge ...')\n",
    "#check len(response.timeSeries[0]) is non-zero before the call please:-)\n",
    "for val in discharge.timeSeries[0].values[0].value : \n",
    "    print (float(val.value))\n"
   ]
  },
  {
   "cell_type": "code",
   "execution_count": null,
   "metadata": {},
   "outputs": [],
   "source": []
  },
  {
   "cell_type": "code",
   "execution_count": null,
   "metadata": {},
   "outputs": [],
   "source": []
  },
  {
   "cell_type": "code",
   "execution_count": null,
   "metadata": {},
   "outputs": [],
   "source": []
  }
 ],
 "metadata": {
  "kernelspec": {
   "display_name": "Python 3",
   "language": "python",
   "name": "python3"
  },
  "language_info": {
   "codemirror_mode": {
    "name": "ipython",
    "version": 3
   },
   "file_extension": ".py",
   "mimetype": "text/x-python",
   "name": "python",
   "nbconvert_exporter": "python",
   "pygments_lexer": "ipython3",
   "version": "3.7.4"
  }
 },
 "nbformat": 4,
 "nbformat_minor": 2
}
