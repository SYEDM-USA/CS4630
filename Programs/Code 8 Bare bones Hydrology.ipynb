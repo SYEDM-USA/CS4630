{
 "cells": [
  {
   "cell_type": "code",
   "execution_count": 40,
   "metadata": {
    "scrolled": false
   },
   "outputs": [
    {
     "name": "stdout",
     "output_type": "stream",
     "text": [
      "Spit out Discharge ...\n",
      "<class 'datetime.datetime'>\n"
     ]
    }
   ],
   "source": [
    "from suds.client import Client\n",
    "from datetime import datetime\n",
    "\n",
    "site_url = 'http://hydroportal.cuahsi.org/nwisuv/cuahsi_1_1.asmx?WSDL'\n",
    "NWIS = Client(site_url).service\n",
    "discharge = NWIS.GetValuesObject('NWISUV:04193500','NWISUV:00060',\n",
    "                datetime.strptime('3/5/2020','%m/%d/%Y'),\n",
    "                datetime.strptime('3/7/2020','%m/%d/%Y')  )\n",
    "                                 \n",
    "print ('Spit out Discharge ...')\n",
    "x = []\n",
    "#check len(response.timeSeries[0]) is non-zero before the call please:-)\n",
    "for val in discharge.timeSeries[0].values[0].value : \n",
    "    x.append(val._dateTime)\n",
    "    #print (float(val.value))\n",
    "\n",
    "print(type(x[0]))"
   ]
  },
  {
   "cell_type": "code",
   "execution_count": 42,
   "metadata": {},
   "outputs": [
    {
     "name": "stdout",
     "output_type": "stream",
     "text": [
      "<class 'datetime.datetime'>\n"
     ]
    }
   ],
   "source": [
    "from datetime import timedelta, datetime\n",
    "\n",
    "\n",
    "start_dt = datetime(2015, 12, 20,0,0)\n",
    "end_dt = datetime(2015, 12, 25,23,45)\n",
    "index = 0\n",
    "x = start_dt\n",
    "all_time_series = []\n",
    "while not x == end_dt:\n",
    "    x = x + timedelta(minutes = 15)\n",
    "    all_time_series.append(x.strftime('%Y-%m-%d %H:%M'))\n",
    "\n",
    "print(type(x))"
   ]
  },
  {
   "cell_type": "code",
   "execution_count": 1,
   "metadata": {},
   "outputs": [
    {
     "name": "stdout",
     "output_type": "stream",
     "text": [
      "DatetimeIndex(['2020-04-01', '2020-04-02', '2020-04-03', '2020-04-04',\n",
      "               '2020-04-05', '2020-04-06', '2020-04-07'],\n",
      "              dtype='datetime64[ns]', freq='D')\n",
      "[datetime.datetime(2020, 4, 1, 0, 0), datetime.datetime(2020, 4, 1, 0, 15), datetime.datetime(2020, 4, 1, 0, 30), datetime.datetime(2020, 4, 1, 0, 45), datetime.datetime(2020, 4, 1, 1, 0), datetime.datetime(2020, 4, 1, 1, 15), datetime.datetime(2020, 4, 1, 1, 30), datetime.datetime(2020, 4, 1, 1, 45), datetime.datetime(2020, 4, 1, 2, 0), datetime.datetime(2020, 4, 1, 2, 15), datetime.datetime(2020, 4, 1, 2, 30), datetime.datetime(2020, 4, 1, 2, 45), datetime.datetime(2020, 4, 1, 3, 0), datetime.datetime(2020, 4, 1, 3, 15), datetime.datetime(2020, 4, 1, 3, 30), datetime.datetime(2020, 4, 1, 3, 45), datetime.datetime(2020, 4, 1, 4, 0), datetime.datetime(2020, 4, 1, 4, 15), datetime.datetime(2020, 4, 1, 4, 30), datetime.datetime(2020, 4, 1, 4, 45), datetime.datetime(2020, 4, 1, 5, 0), datetime.datetime(2020, 4, 1, 5, 15), datetime.datetime(2020, 4, 1, 5, 30), datetime.datetime(2020, 4, 1, 5, 45), datetime.datetime(2020, 4, 1, 6, 0), datetime.datetime(2020, 4, 1, 6, 15), datetime.datetime(2020, 4, 1, 6, 30), datetime.datetime(2020, 4, 1, 6, 45), datetime.datetime(2020, 4, 1, 7, 0), datetime.datetime(2020, 4, 1, 7, 15), datetime.datetime(2020, 4, 1, 7, 30), datetime.datetime(2020, 4, 1, 7, 45), datetime.datetime(2020, 4, 1, 8, 0), datetime.datetime(2020, 4, 1, 8, 15), datetime.datetime(2020, 4, 1, 8, 30), datetime.datetime(2020, 4, 1, 8, 45), datetime.datetime(2020, 4, 1, 9, 0), datetime.datetime(2020, 4, 1, 9, 15), datetime.datetime(2020, 4, 1, 9, 30), datetime.datetime(2020, 4, 1, 9, 45), datetime.datetime(2020, 4, 1, 10, 0), datetime.datetime(2020, 4, 1, 10, 15), datetime.datetime(2020, 4, 1, 10, 30), datetime.datetime(2020, 4, 1, 10, 45), datetime.datetime(2020, 4, 1, 11, 0), datetime.datetime(2020, 4, 1, 11, 15), datetime.datetime(2020, 4, 1, 11, 30), datetime.datetime(2020, 4, 1, 11, 45), datetime.datetime(2020, 4, 1, 12, 0), datetime.datetime(2020, 4, 1, 12, 15), datetime.datetime(2020, 4, 1, 12, 30), datetime.datetime(2020, 4, 1, 12, 45), datetime.datetime(2020, 4, 1, 13, 0), datetime.datetime(2020, 4, 1, 13, 15), datetime.datetime(2020, 4, 1, 13, 30), datetime.datetime(2020, 4, 1, 13, 45), datetime.datetime(2020, 4, 1, 14, 0), datetime.datetime(2020, 4, 1, 14, 15), datetime.datetime(2020, 4, 1, 14, 30), datetime.datetime(2020, 4, 1, 14, 45), datetime.datetime(2020, 4, 1, 15, 0), datetime.datetime(2020, 4, 1, 15, 15), datetime.datetime(2020, 4, 1, 15, 30), datetime.datetime(2020, 4, 1, 15, 45), datetime.datetime(2020, 4, 1, 16, 0), datetime.datetime(2020, 4, 1, 16, 15), datetime.datetime(2020, 4, 1, 16, 30), datetime.datetime(2020, 4, 1, 16, 45), datetime.datetime(2020, 4, 1, 17, 0), datetime.datetime(2020, 4, 1, 17, 15), datetime.datetime(2020, 4, 1, 17, 30), datetime.datetime(2020, 4, 1, 17, 45), datetime.datetime(2020, 4, 1, 18, 0), datetime.datetime(2020, 4, 1, 18, 15), datetime.datetime(2020, 4, 1, 18, 30), datetime.datetime(2020, 4, 1, 18, 45), datetime.datetime(2020, 4, 1, 19, 0), datetime.datetime(2020, 4, 1, 19, 15), datetime.datetime(2020, 4, 1, 19, 30), datetime.datetime(2020, 4, 1, 19, 45), datetime.datetime(2020, 4, 1, 20, 0), datetime.datetime(2020, 4, 1, 20, 15), datetime.datetime(2020, 4, 1, 20, 30), datetime.datetime(2020, 4, 1, 20, 45), datetime.datetime(2020, 4, 1, 21, 0), datetime.datetime(2020, 4, 1, 21, 15), datetime.datetime(2020, 4, 1, 21, 30), datetime.datetime(2020, 4, 1, 21, 45), datetime.datetime(2020, 4, 1, 22, 0), datetime.datetime(2020, 4, 1, 22, 15), datetime.datetime(2020, 4, 1, 22, 30), datetime.datetime(2020, 4, 1, 22, 45), datetime.datetime(2020, 4, 1, 23, 0), datetime.datetime(2020, 4, 1, 23, 15), datetime.datetime(2020, 4, 1, 23, 30), datetime.datetime(2020, 4, 1, 23, 45), datetime.datetime(2020, 4, 2, 0, 0), datetime.datetime(2020, 4, 2, 0, 15), datetime.datetime(2020, 4, 2, 0, 30), datetime.datetime(2020, 4, 2, 0, 45), datetime.datetime(2020, 4, 2, 1, 0), datetime.datetime(2020, 4, 2, 1, 15), datetime.datetime(2020, 4, 2, 1, 30), datetime.datetime(2020, 4, 2, 1, 45), datetime.datetime(2020, 4, 2, 2, 0), datetime.datetime(2020, 4, 2, 2, 15), datetime.datetime(2020, 4, 2, 2, 30), datetime.datetime(2020, 4, 2, 2, 45), datetime.datetime(2020, 4, 2, 3, 0), datetime.datetime(2020, 4, 2, 3, 15), datetime.datetime(2020, 4, 2, 3, 30), datetime.datetime(2020, 4, 2, 3, 45), datetime.datetime(2020, 4, 2, 4, 0), datetime.datetime(2020, 4, 2, 4, 15), datetime.datetime(2020, 4, 2, 4, 30), datetime.datetime(2020, 4, 2, 4, 45), datetime.datetime(2020, 4, 2, 5, 0), datetime.datetime(2020, 4, 2, 5, 15), datetime.datetime(2020, 4, 2, 5, 30), datetime.datetime(2020, 4, 2, 5, 45), datetime.datetime(2020, 4, 2, 6, 0), datetime.datetime(2020, 4, 2, 6, 15), datetime.datetime(2020, 4, 2, 6, 30), datetime.datetime(2020, 4, 2, 6, 45), datetime.datetime(2020, 4, 2, 7, 0), datetime.datetime(2020, 4, 2, 7, 15), datetime.datetime(2020, 4, 2, 7, 30), datetime.datetime(2020, 4, 2, 7, 45), datetime.datetime(2020, 4, 2, 8, 0), datetime.datetime(2020, 4, 2, 8, 15), datetime.datetime(2020, 4, 2, 8, 30), datetime.datetime(2020, 4, 2, 8, 45), datetime.datetime(2020, 4, 2, 9, 0), datetime.datetime(2020, 4, 2, 9, 15), datetime.datetime(2020, 4, 2, 9, 30), datetime.datetime(2020, 4, 2, 9, 45), datetime.datetime(2020, 4, 2, 10, 0), datetime.datetime(2020, 4, 2, 10, 15), datetime.datetime(2020, 4, 2, 10, 30), datetime.datetime(2020, 4, 2, 10, 45), datetime.datetime(2020, 4, 2, 11, 0), datetime.datetime(2020, 4, 2, 11, 15), datetime.datetime(2020, 4, 2, 11, 30), datetime.datetime(2020, 4, 2, 11, 45), datetime.datetime(2020, 4, 2, 12, 0), datetime.datetime(2020, 4, 2, 12, 15), datetime.datetime(2020, 4, 2, 12, 30), datetime.datetime(2020, 4, 2, 12, 45), datetime.datetime(2020, 4, 2, 13, 0), datetime.datetime(2020, 4, 2, 13, 15), datetime.datetime(2020, 4, 2, 13, 30), datetime.datetime(2020, 4, 2, 13, 45), datetime.datetime(2020, 4, 2, 14, 0), datetime.datetime(2020, 4, 2, 14, 15), datetime.datetime(2020, 4, 2, 14, 30), datetime.datetime(2020, 4, 2, 14, 45), datetime.datetime(2020, 4, 2, 15, 0), datetime.datetime(2020, 4, 2, 15, 15), datetime.datetime(2020, 4, 2, 15, 30), datetime.datetime(2020, 4, 2, 15, 45), datetime.datetime(2020, 4, 2, 16, 0), datetime.datetime(2020, 4, 2, 16, 15), datetime.datetime(2020, 4, 2, 16, 30), datetime.datetime(2020, 4, 2, 16, 45), datetime.datetime(2020, 4, 2, 17, 0), datetime.datetime(2020, 4, 2, 17, 15), datetime.datetime(2020, 4, 2, 17, 30), datetime.datetime(2020, 4, 2, 17, 45), datetime.datetime(2020, 4, 2, 18, 0), datetime.datetime(2020, 4, 2, 18, 15), datetime.datetime(2020, 4, 2, 18, 30), datetime.datetime(2020, 4, 2, 18, 45), datetime.datetime(2020, 4, 2, 19, 0), datetime.datetime(2020, 4, 2, 19, 15), datetime.datetime(2020, 4, 2, 19, 30), datetime.datetime(2020, 4, 2, 19, 45), datetime.datetime(2020, 4, 2, 20, 0), datetime.datetime(2020, 4, 2, 20, 15), datetime.datetime(2020, 4, 2, 20, 30), datetime.datetime(2020, 4, 2, 20, 45), datetime.datetime(2020, 4, 2, 21, 0), datetime.datetime(2020, 4, 2, 21, 15), datetime.datetime(2020, 4, 2, 21, 30), datetime.datetime(2020, 4, 2, 21, 45), datetime.datetime(2020, 4, 2, 22, 0), datetime.datetime(2020, 4, 2, 22, 15), datetime.datetime(2020, 4, 2, 22, 30), datetime.datetime(2020, 4, 2, 22, 45), datetime.datetime(2020, 4, 2, 23, 0), datetime.datetime(2020, 4, 2, 23, 15), datetime.datetime(2020, 4, 2, 23, 30), datetime.datetime(2020, 4, 2, 23, 45), datetime.datetime(2020, 4, 3, 0, 0), datetime.datetime(2020, 4, 3, 0, 15), datetime.datetime(2020, 4, 3, 0, 30), datetime.datetime(2020, 4, 3, 0, 45), datetime.datetime(2020, 4, 3, 1, 0), datetime.datetime(2020, 4, 3, 1, 15), datetime.datetime(2020, 4, 3, 1, 30), datetime.datetime(2020, 4, 3, 1, 45), datetime.datetime(2020, 4, 3, 2, 0), datetime.datetime(2020, 4, 3, 2, 15), datetime.datetime(2020, 4, 3, 2, 30), datetime.datetime(2020, 4, 3, 2, 45), datetime.datetime(2020, 4, 3, 3, 0), datetime.datetime(2020, 4, 3, 3, 15), datetime.datetime(2020, 4, 3, 3, 30), datetime.datetime(2020, 4, 3, 3, 45), datetime.datetime(2020, 4, 3, 4, 0), datetime.datetime(2020, 4, 3, 4, 15), datetime.datetime(2020, 4, 3, 4, 30), datetime.datetime(2020, 4, 3, 4, 45), datetime.datetime(2020, 4, 3, 5, 0), datetime.datetime(2020, 4, 3, 5, 15), datetime.datetime(2020, 4, 3, 5, 30), datetime.datetime(2020, 4, 3, 5, 45), datetime.datetime(2020, 4, 3, 6, 0), datetime.datetime(2020, 4, 3, 6, 15), datetime.datetime(2020, 4, 3, 6, 30), datetime.datetime(2020, 4, 3, 6, 45), datetime.datetime(2020, 4, 3, 7, 0), datetime.datetime(2020, 4, 3, 7, 15), datetime.datetime(2020, 4, 3, 7, 30), datetime.datetime(2020, 4, 3, 7, 45), datetime.datetime(2020, 4, 3, 8, 0), datetime.datetime(2020, 4, 3, 8, 15), datetime.datetime(2020, 4, 3, 8, 30), datetime.datetime(2020, 4, 3, 8, 45), datetime.datetime(2020, 4, 3, 9, 0), datetime.datetime(2020, 4, 3, 9, 15), datetime.datetime(2020, 4, 3, 9, 30), datetime.datetime(2020, 4, 3, 9, 45), datetime.datetime(2020, 4, 3, 10, 0), datetime.datetime(2020, 4, 3, 10, 15), datetime.datetime(2020, 4, 3, 10, 30), datetime.datetime(2020, 4, 3, 10, 45), datetime.datetime(2020, 4, 3, 11, 0), datetime.datetime(2020, 4, 3, 11, 15), datetime.datetime(2020, 4, 3, 11, 30), datetime.datetime(2020, 4, 3, 11, 45), datetime.datetime(2020, 4, 3, 12, 0), datetime.datetime(2020, 4, 3, 12, 15), datetime.datetime(2020, 4, 3, 12, 30), datetime.datetime(2020, 4, 3, 12, 45), datetime.datetime(2020, 4, 3, 13, 0), datetime.datetime(2020, 4, 3, 13, 15), datetime.datetime(2020, 4, 3, 13, 30), datetime.datetime(2020, 4, 3, 13, 45), datetime.datetime(2020, 4, 3, 14, 0), datetime.datetime(2020, 4, 3, 14, 15), datetime.datetime(2020, 4, 3, 14, 30), datetime.datetime(2020, 4, 3, 14, 45), datetime.datetime(2020, 4, 3, 15, 0), datetime.datetime(2020, 4, 3, 15, 15), datetime.datetime(2020, 4, 3, 15, 30), datetime.datetime(2020, 4, 3, 15, 45), datetime.datetime(2020, 4, 3, 16, 0), datetime.datetime(2020, 4, 3, 16, 15), datetime.datetime(2020, 4, 3, 16, 30), datetime.datetime(2020, 4, 3, 16, 45), datetime.datetime(2020, 4, 3, 17, 0), datetime.datetime(2020, 4, 3, 17, 15), datetime.datetime(2020, 4, 3, 17, 30), datetime.datetime(2020, 4, 3, 17, 45), datetime.datetime(2020, 4, 3, 18, 0), datetime.datetime(2020, 4, 3, 18, 15), datetime.datetime(2020, 4, 3, 18, 30), datetime.datetime(2020, 4, 3, 18, 45), datetime.datetime(2020, 4, 3, 19, 0), datetime.datetime(2020, 4, 3, 19, 15), datetime.datetime(2020, 4, 3, 19, 30), datetime.datetime(2020, 4, 3, 19, 45), datetime.datetime(2020, 4, 3, 20, 0), datetime.datetime(2020, 4, 3, 20, 15), datetime.datetime(2020, 4, 3, 20, 30), datetime.datetime(2020, 4, 3, 20, 45), datetime.datetime(2020, 4, 3, 21, 0), datetime.datetime(2020, 4, 3, 21, 15), datetime.datetime(2020, 4, 3, 21, 30), datetime.datetime(2020, 4, 3, 21, 45), datetime.datetime(2020, 4, 3, 22, 0), datetime.datetime(2020, 4, 3, 22, 15), datetime.datetime(2020, 4, 3, 22, 30), datetime.datetime(2020, 4, 3, 22, 45), datetime.datetime(2020, 4, 3, 23, 0), datetime.datetime(2020, 4, 3, 23, 15), datetime.datetime(2020, 4, 3, 23, 30), datetime.datetime(2020, 4, 3, 23, 45), datetime.datetime(2020, 4, 4, 0, 0), datetime.datetime(2020, 4, 4, 0, 15), datetime.datetime(2020, 4, 4, 0, 30), datetime.datetime(2020, 4, 4, 0, 45), datetime.datetime(2020, 4, 4, 1, 0), datetime.datetime(2020, 4, 4, 1, 15), datetime.datetime(2020, 4, 4, 1, 30), datetime.datetime(2020, 4, 4, 1, 45), datetime.datetime(2020, 4, 4, 2, 0), datetime.datetime(2020, 4, 4, 2, 15), datetime.datetime(2020, 4, 4, 2, 30), datetime.datetime(2020, 4, 4, 2, 45), datetime.datetime(2020, 4, 4, 3, 0), datetime.datetime(2020, 4, 4, 3, 15), datetime.datetime(2020, 4, 4, 3, 30), datetime.datetime(2020, 4, 4, 3, 45), datetime.datetime(2020, 4, 4, 4, 0), datetime.datetime(2020, 4, 4, 4, 15), datetime.datetime(2020, 4, 4, 4, 30), datetime.datetime(2020, 4, 4, 4, 45), datetime.datetime(2020, 4, 4, 5, 0), datetime.datetime(2020, 4, 4, 5, 15), datetime.datetime(2020, 4, 4, 5, 30), datetime.datetime(2020, 4, 4, 5, 45), datetime.datetime(2020, 4, 4, 6, 0), datetime.datetime(2020, 4, 4, 6, 15), datetime.datetime(2020, 4, 4, 6, 30), datetime.datetime(2020, 4, 4, 6, 45), datetime.datetime(2020, 4, 4, 7, 0), datetime.datetime(2020, 4, 4, 7, 15), datetime.datetime(2020, 4, 4, 7, 30), datetime.datetime(2020, 4, 4, 7, 45), datetime.datetime(2020, 4, 4, 8, 0), datetime.datetime(2020, 4, 4, 8, 15), datetime.datetime(2020, 4, 4, 8, 30), datetime.datetime(2020, 4, 4, 8, 45), datetime.datetime(2020, 4, 4, 9, 0), datetime.datetime(2020, 4, 4, 9, 15), datetime.datetime(2020, 4, 4, 9, 30), datetime.datetime(2020, 4, 4, 9, 45), datetime.datetime(2020, 4, 4, 10, 0), datetime.datetime(2020, 4, 4, 10, 15), datetime.datetime(2020, 4, 4, 10, 30), datetime.datetime(2020, 4, 4, 10, 45), datetime.datetime(2020, 4, 4, 11, 0), datetime.datetime(2020, 4, 4, 11, 15), datetime.datetime(2020, 4, 4, 11, 30), datetime.datetime(2020, 4, 4, 11, 45), datetime.datetime(2020, 4, 4, 12, 0), datetime.datetime(2020, 4, 4, 12, 15), datetime.datetime(2020, 4, 4, 12, 30), datetime.datetime(2020, 4, 4, 12, 45), datetime.datetime(2020, 4, 4, 13, 0), datetime.datetime(2020, 4, 4, 13, 15), datetime.datetime(2020, 4, 4, 13, 30), datetime.datetime(2020, 4, 4, 13, 45), datetime.datetime(2020, 4, 4, 14, 0), datetime.datetime(2020, 4, 4, 14, 15), datetime.datetime(2020, 4, 4, 14, 30), datetime.datetime(2020, 4, 4, 14, 45), datetime.datetime(2020, 4, 4, 15, 0), datetime.datetime(2020, 4, 4, 15, 15), datetime.datetime(2020, 4, 4, 15, 30), datetime.datetime(2020, 4, 4, 15, 45), datetime.datetime(2020, 4, 4, 16, 0), datetime.datetime(2020, 4, 4, 16, 15), datetime.datetime(2020, 4, 4, 16, 30), datetime.datetime(2020, 4, 4, 16, 45), datetime.datetime(2020, 4, 4, 17, 0), datetime.datetime(2020, 4, 4, 17, 15), datetime.datetime(2020, 4, 4, 17, 30), datetime.datetime(2020, 4, 4, 17, 45), datetime.datetime(2020, 4, 4, 18, 0), datetime.datetime(2020, 4, 4, 18, 15), datetime.datetime(2020, 4, 4, 18, 30), datetime.datetime(2020, 4, 4, 18, 45), datetime.datetime(2020, 4, 4, 19, 0), datetime.datetime(2020, 4, 4, 19, 15), datetime.datetime(2020, 4, 4, 19, 30), datetime.datetime(2020, 4, 4, 19, 45), datetime.datetime(2020, 4, 4, 20, 0), datetime.datetime(2020, 4, 4, 20, 15), datetime.datetime(2020, 4, 4, 20, 30), datetime.datetime(2020, 4, 4, 20, 45), datetime.datetime(2020, 4, 4, 21, 0), datetime.datetime(2020, 4, 4, 21, 15), datetime.datetime(2020, 4, 4, 21, 30), datetime.datetime(2020, 4, 4, 21, 45), datetime.datetime(2020, 4, 4, 22, 0), datetime.datetime(2020, 4, 4, 22, 15), datetime.datetime(2020, 4, 4, 22, 30), datetime.datetime(2020, 4, 4, 22, 45), datetime.datetime(2020, 4, 4, 23, 0), datetime.datetime(2020, 4, 4, 23, 15), datetime.datetime(2020, 4, 4, 23, 30), datetime.datetime(2020, 4, 4, 23, 45), datetime.datetime(2020, 4, 5, 0, 0), datetime.datetime(2020, 4, 5, 0, 15), datetime.datetime(2020, 4, 5, 0, 30), datetime.datetime(2020, 4, 5, 0, 45), datetime.datetime(2020, 4, 5, 1, 0), datetime.datetime(2020, 4, 5, 1, 15), datetime.datetime(2020, 4, 5, 1, 30), datetime.datetime(2020, 4, 5, 1, 45), datetime.datetime(2020, 4, 5, 2, 0), datetime.datetime(2020, 4, 5, 2, 15), datetime.datetime(2020, 4, 5, 2, 30), datetime.datetime(2020, 4, 5, 2, 45), datetime.datetime(2020, 4, 5, 3, 0), datetime.datetime(2020, 4, 5, 3, 15), datetime.datetime(2020, 4, 5, 3, 30), datetime.datetime(2020, 4, 5, 3, 45), datetime.datetime(2020, 4, 5, 4, 0), datetime.datetime(2020, 4, 5, 4, 15), datetime.datetime(2020, 4, 5, 4, 30), datetime.datetime(2020, 4, 5, 4, 45), datetime.datetime(2020, 4, 5, 5, 0), datetime.datetime(2020, 4, 5, 5, 15), datetime.datetime(2020, 4, 5, 5, 30), datetime.datetime(2020, 4, 5, 5, 45), datetime.datetime(2020, 4, 5, 6, 0), datetime.datetime(2020, 4, 5, 6, 15), datetime.datetime(2020, 4, 5, 6, 30), datetime.datetime(2020, 4, 5, 6, 45), datetime.datetime(2020, 4, 5, 7, 0), datetime.datetime(2020, 4, 5, 7, 15), datetime.datetime(2020, 4, 5, 7, 30), datetime.datetime(2020, 4, 5, 7, 45), datetime.datetime(2020, 4, 5, 8, 0), datetime.datetime(2020, 4, 5, 8, 15), datetime.datetime(2020, 4, 5, 8, 30), datetime.datetime(2020, 4, 5, 8, 45), datetime.datetime(2020, 4, 5, 9, 0), datetime.datetime(2020, 4, 5, 9, 15), datetime.datetime(2020, 4, 5, 9, 30), datetime.datetime(2020, 4, 5, 9, 45), datetime.datetime(2020, 4, 5, 10, 0), datetime.datetime(2020, 4, 5, 10, 15), datetime.datetime(2020, 4, 5, 10, 30), datetime.datetime(2020, 4, 5, 10, 45), datetime.datetime(2020, 4, 5, 11, 0), datetime.datetime(2020, 4, 5, 11, 15), datetime.datetime(2020, 4, 5, 11, 30), datetime.datetime(2020, 4, 5, 11, 45), datetime.datetime(2020, 4, 5, 12, 0), datetime.datetime(2020, 4, 5, 12, 15), datetime.datetime(2020, 4, 5, 12, 30), datetime.datetime(2020, 4, 5, 12, 45), datetime.datetime(2020, 4, 5, 13, 0), datetime.datetime(2020, 4, 5, 13, 15), datetime.datetime(2020, 4, 5, 13, 30), datetime.datetime(2020, 4, 5, 13, 45), datetime.datetime(2020, 4, 5, 14, 0), datetime.datetime(2020, 4, 5, 14, 15), datetime.datetime(2020, 4, 5, 14, 30), datetime.datetime(2020, 4, 5, 14, 45), datetime.datetime(2020, 4, 5, 15, 0), datetime.datetime(2020, 4, 5, 15, 15), datetime.datetime(2020, 4, 5, 15, 30), datetime.datetime(2020, 4, 5, 15, 45), datetime.datetime(2020, 4, 5, 16, 0), datetime.datetime(2020, 4, 5, 16, 15), datetime.datetime(2020, 4, 5, 16, 30), datetime.datetime(2020, 4, 5, 16, 45), datetime.datetime(2020, 4, 5, 17, 0), datetime.datetime(2020, 4, 5, 17, 15), datetime.datetime(2020, 4, 5, 17, 30), datetime.datetime(2020, 4, 5, 17, 45), datetime.datetime(2020, 4, 5, 18, 0), datetime.datetime(2020, 4, 5, 18, 15), datetime.datetime(2020, 4, 5, 18, 30), datetime.datetime(2020, 4, 5, 18, 45), datetime.datetime(2020, 4, 5, 19, 0), datetime.datetime(2020, 4, 5, 19, 15), datetime.datetime(2020, 4, 5, 19, 30), datetime.datetime(2020, 4, 5, 19, 45), datetime.datetime(2020, 4, 5, 20, 0), datetime.datetime(2020, 4, 5, 20, 15), datetime.datetime(2020, 4, 5, 20, 30), datetime.datetime(2020, 4, 5, 20, 45), datetime.datetime(2020, 4, 5, 21, 0), datetime.datetime(2020, 4, 5, 21, 15), datetime.datetime(2020, 4, 5, 21, 30), datetime.datetime(2020, 4, 5, 21, 45), datetime.datetime(2020, 4, 5, 22, 0), datetime.datetime(2020, 4, 5, 22, 15), datetime.datetime(2020, 4, 5, 22, 30), datetime.datetime(2020, 4, 5, 22, 45), datetime.datetime(2020, 4, 5, 23, 0), datetime.datetime(2020, 4, 5, 23, 15), datetime.datetime(2020, 4, 5, 23, 30), datetime.datetime(2020, 4, 5, 23, 45), datetime.datetime(2020, 4, 6, 0, 0), datetime.datetime(2020, 4, 6, 0, 15), datetime.datetime(2020, 4, 6, 0, 30), datetime.datetime(2020, 4, 6, 0, 45), datetime.datetime(2020, 4, 6, 1, 0), datetime.datetime(2020, 4, 6, 1, 15), datetime.datetime(2020, 4, 6, 1, 30), datetime.datetime(2020, 4, 6, 1, 45), datetime.datetime(2020, 4, 6, 2, 0), datetime.datetime(2020, 4, 6, 2, 15), datetime.datetime(2020, 4, 6, 2, 30), datetime.datetime(2020, 4, 6, 2, 45), datetime.datetime(2020, 4, 6, 3, 0), datetime.datetime(2020, 4, 6, 3, 15), datetime.datetime(2020, 4, 6, 3, 30), datetime.datetime(2020, 4, 6, 3, 45), datetime.datetime(2020, 4, 6, 4, 0), datetime.datetime(2020, 4, 6, 4, 15), datetime.datetime(2020, 4, 6, 4, 30), datetime.datetime(2020, 4, 6, 4, 45), datetime.datetime(2020, 4, 6, 5, 0), datetime.datetime(2020, 4, 6, 5, 15), datetime.datetime(2020, 4, 6, 5, 30), datetime.datetime(2020, 4, 6, 5, 45), datetime.datetime(2020, 4, 6, 6, 0), datetime.datetime(2020, 4, 6, 6, 15), datetime.datetime(2020, 4, 6, 6, 30), datetime.datetime(2020, 4, 6, 6, 45), datetime.datetime(2020, 4, 6, 7, 0), datetime.datetime(2020, 4, 6, 7, 15), datetime.datetime(2020, 4, 6, 7, 30), datetime.datetime(2020, 4, 6, 7, 45), datetime.datetime(2020, 4, 6, 8, 0), datetime.datetime(2020, 4, 6, 8, 15), datetime.datetime(2020, 4, 6, 8, 30), datetime.datetime(2020, 4, 6, 8, 45), datetime.datetime(2020, 4, 6, 9, 0), datetime.datetime(2020, 4, 6, 9, 15), datetime.datetime(2020, 4, 6, 9, 30), datetime.datetime(2020, 4, 6, 9, 45), datetime.datetime(2020, 4, 6, 10, 0), datetime.datetime(2020, 4, 6, 10, 15), datetime.datetime(2020, 4, 6, 10, 30), datetime.datetime(2020, 4, 6, 10, 45), datetime.datetime(2020, 4, 6, 11, 0), datetime.datetime(2020, 4, 6, 11, 15), datetime.datetime(2020, 4, 6, 11, 30), datetime.datetime(2020, 4, 6, 11, 45), datetime.datetime(2020, 4, 6, 12, 0), datetime.datetime(2020, 4, 6, 12, 15), datetime.datetime(2020, 4, 6, 12, 30), datetime.datetime(2020, 4, 6, 12, 45), datetime.datetime(2020, 4, 6, 13, 0), datetime.datetime(2020, 4, 6, 13, 15), datetime.datetime(2020, 4, 6, 13, 30), datetime.datetime(2020, 4, 6, 13, 45), datetime.datetime(2020, 4, 6, 14, 0), datetime.datetime(2020, 4, 6, 14, 15), datetime.datetime(2020, 4, 6, 14, 30), datetime.datetime(2020, 4, 6, 14, 45), datetime.datetime(2020, 4, 6, 15, 0), datetime.datetime(2020, 4, 6, 15, 15), datetime.datetime(2020, 4, 6, 15, 30), datetime.datetime(2020, 4, 6, 15, 45), datetime.datetime(2020, 4, 6, 16, 0), datetime.datetime(2020, 4, 6, 16, 15), datetime.datetime(2020, 4, 6, 16, 30), datetime.datetime(2020, 4, 6, 16, 45), datetime.datetime(2020, 4, 6, 17, 0), datetime.datetime(2020, 4, 6, 17, 15), datetime.datetime(2020, 4, 6, 17, 30), datetime.datetime(2020, 4, 6, 17, 45), datetime.datetime(2020, 4, 6, 18, 0), datetime.datetime(2020, 4, 6, 18, 15), datetime.datetime(2020, 4, 6, 18, 30), datetime.datetime(2020, 4, 6, 18, 45), datetime.datetime(2020, 4, 6, 19, 0), datetime.datetime(2020, 4, 6, 19, 15), datetime.datetime(2020, 4, 6, 19, 30), datetime.datetime(2020, 4, 6, 19, 45), datetime.datetime(2020, 4, 6, 20, 0), datetime.datetime(2020, 4, 6, 20, 15), datetime.datetime(2020, 4, 6, 20, 30), datetime.datetime(2020, 4, 6, 20, 45), datetime.datetime(2020, 4, 6, 21, 0), datetime.datetime(2020, 4, 6, 21, 15), datetime.datetime(2020, 4, 6, 21, 30), datetime.datetime(2020, 4, 6, 21, 45), datetime.datetime(2020, 4, 6, 22, 0), datetime.datetime(2020, 4, 6, 22, 15), datetime.datetime(2020, 4, 6, 22, 30), datetime.datetime(2020, 4, 6, 22, 45), datetime.datetime(2020, 4, 6, 23, 0), datetime.datetime(2020, 4, 6, 23, 15), datetime.datetime(2020, 4, 6, 23, 30), datetime.datetime(2020, 4, 6, 23, 45), datetime.datetime(2020, 4, 7, 0, 0), datetime.datetime(2020, 4, 7, 0, 15), datetime.datetime(2020, 4, 7, 0, 30), datetime.datetime(2020, 4, 7, 0, 45), datetime.datetime(2020, 4, 7, 1, 0), datetime.datetime(2020, 4, 7, 1, 15), datetime.datetime(2020, 4, 7, 1, 30), datetime.datetime(2020, 4, 7, 1, 45), datetime.datetime(2020, 4, 7, 2, 0), datetime.datetime(2020, 4, 7, 2, 15), datetime.datetime(2020, 4, 7, 2, 30), datetime.datetime(2020, 4, 7, 2, 45), datetime.datetime(2020, 4, 7, 3, 0), datetime.datetime(2020, 4, 7, 3, 15), datetime.datetime(2020, 4, 7, 3, 30), datetime.datetime(2020, 4, 7, 3, 45), datetime.datetime(2020, 4, 7, 4, 0), datetime.datetime(2020, 4, 7, 4, 15), datetime.datetime(2020, 4, 7, 4, 30), datetime.datetime(2020, 4, 7, 4, 45), datetime.datetime(2020, 4, 7, 5, 0), datetime.datetime(2020, 4, 7, 5, 15), datetime.datetime(2020, 4, 7, 5, 30), datetime.datetime(2020, 4, 7, 5, 45), datetime.datetime(2020, 4, 7, 6, 0), datetime.datetime(2020, 4, 7, 6, 15), datetime.datetime(2020, 4, 7, 6, 30), datetime.datetime(2020, 4, 7, 6, 45), datetime.datetime(2020, 4, 7, 7, 0), datetime.datetime(2020, 4, 7, 7, 15), datetime.datetime(2020, 4, 7, 7, 30), datetime.datetime(2020, 4, 7, 7, 45), datetime.datetime(2020, 4, 7, 8, 0), datetime.datetime(2020, 4, 7, 8, 15), datetime.datetime(2020, 4, 7, 8, 30), datetime.datetime(2020, 4, 7, 8, 45), datetime.datetime(2020, 4, 7, 9, 0), datetime.datetime(2020, 4, 7, 9, 15), datetime.datetime(2020, 4, 7, 9, 30), datetime.datetime(2020, 4, 7, 9, 45), datetime.datetime(2020, 4, 7, 10, 0), datetime.datetime(2020, 4, 7, 10, 15), datetime.datetime(2020, 4, 7, 10, 30), datetime.datetime(2020, 4, 7, 10, 45), datetime.datetime(2020, 4, 7, 11, 0), datetime.datetime(2020, 4, 7, 11, 15), datetime.datetime(2020, 4, 7, 11, 30), datetime.datetime(2020, 4, 7, 11, 45), datetime.datetime(2020, 4, 7, 12, 0), datetime.datetime(2020, 4, 7, 12, 15), datetime.datetime(2020, 4, 7, 12, 30), datetime.datetime(2020, 4, 7, 12, 45), datetime.datetime(2020, 4, 7, 13, 0), datetime.datetime(2020, 4, 7, 13, 15), datetime.datetime(2020, 4, 7, 13, 30), datetime.datetime(2020, 4, 7, 13, 45), datetime.datetime(2020, 4, 7, 14, 0), datetime.datetime(2020, 4, 7, 14, 15), datetime.datetime(2020, 4, 7, 14, 30), datetime.datetime(2020, 4, 7, 14, 45), datetime.datetime(2020, 4, 7, 15, 0), datetime.datetime(2020, 4, 7, 15, 15), datetime.datetime(2020, 4, 7, 15, 30), datetime.datetime(2020, 4, 7, 15, 45), datetime.datetime(2020, 4, 7, 16, 0), datetime.datetime(2020, 4, 7, 16, 15), datetime.datetime(2020, 4, 7, 16, 30), datetime.datetime(2020, 4, 7, 16, 45), datetime.datetime(2020, 4, 7, 17, 0), datetime.datetime(2020, 4, 7, 17, 15), datetime.datetime(2020, 4, 7, 17, 30), datetime.datetime(2020, 4, 7, 17, 45), datetime.datetime(2020, 4, 7, 18, 0), datetime.datetime(2020, 4, 7, 18, 15), datetime.datetime(2020, 4, 7, 18, 30), datetime.datetime(2020, 4, 7, 18, 45), datetime.datetime(2020, 4, 7, 19, 0), datetime.datetime(2020, 4, 7, 19, 15), datetime.datetime(2020, 4, 7, 19, 30), datetime.datetime(2020, 4, 7, 19, 45), datetime.datetime(2020, 4, 7, 20, 0), datetime.datetime(2020, 4, 7, 20, 15), datetime.datetime(2020, 4, 7, 20, 30), datetime.datetime(2020, 4, 7, 20, 45), datetime.datetime(2020, 4, 7, 21, 0), datetime.datetime(2020, 4, 7, 21, 15), datetime.datetime(2020, 4, 7, 21, 30), datetime.datetime(2020, 4, 7, 21, 45), datetime.datetime(2020, 4, 7, 22, 0), datetime.datetime(2020, 4, 7, 22, 15), datetime.datetime(2020, 4, 7, 22, 30), datetime.datetime(2020, 4, 7, 22, 45), datetime.datetime(2020, 4, 7, 23, 0), datetime.datetime(2020, 4, 7, 23, 15), datetime.datetime(2020, 4, 7, 23, 30), datetime.datetime(2020, 4, 7, 23, 45)] [17.8, 17.8, 17.8, 17.7, 17.7, 17.7, 17.6, 17.6, 17.6, 17.5, 17.5, 17.5, 17.4, 17.4, 17.4, 17.3, 17.3, 17.2, 17.2, 17.2, 17.1, 17.1, 17.1, 17.0, 17.0, 17.0, 17.0, 17.0, 17.0, 17.0, 17.0, 17.0, 17.0, 17.0, 16.9, 16.9, 17.0, 17.0, 17.0, 17.0, 17.0, 17.0, 17.0, 17.0, 17.1, 17.1, 17.1, 17.2, 17.2, 17.2, 17.3, 17.3, 17.3, 17.3, 17.4, 17.4, 17.5, 17.5, 17.6, 17.6, 17.7, 17.7, 17.8, 17.8, 17.9, 17.9, 17.9, 18.0, 18.0, 18.0, 18.1, 18.1, 18.1, 18.2, 18.2, 18.2, 18.2, 18.2, 18.2, 18.2, 18.2, 18.2, 18.2, 18.2, 18.2, 18.2, 18.2, 18.2, 18.2, 18.2, 18.2, 18.2, 18.2, 18.2, 18.1, 18.1, 18.1, 18.1, 18.0, 18.0, 18.0, 17.9, 17.9, 17.8, 17.8, 17.8, 17.7, 17.7, 17.7, 17.6, 17.6, 17.6, 17.5, 17.5, 17.5, 17.5, 17.4, 17.4, 17.4, 17.4, 17.4, 17.4, 17.4, 17.4, 17.4, 17.4, 17.3, 17.3, 17.3, 17.3, 17.3, 17.3, 17.3, 17.3, 17.3, 17.3, 17.3, 17.3, 17.3, 17.3, 17.3, 17.3, 17.4, 17.4, 17.4, 17.4, 17.4, 17.5, 17.5, 17.5, 17.5, 17.6, 17.6, 17.6, 17.6, 17.6, 17.6, 17.6, 17.7, 17.7, 17.7, 17.7, 17.8, 17.8, 17.8, 17.8, 17.8, 17.8, 17.8, 17.8, 17.9, 17.9, 17.9, 17.9, 17.9, 17.9, 17.9, 17.9, 17.9, 17.9, 17.8, 17.8, 17.8, 17.8, 17.8, 17.8, 17.8, 17.8, 17.8, 17.8, 17.8, 17.8, 17.8, 17.8, 17.8, 17.8, 17.8, 17.8, 17.8, 17.8, 17.7, 17.7, 17.7, 17.7, 17.7, 17.7, 17.7, 17.7, 17.7, 17.7, 17.6, 17.6, 17.6, 17.6, 17.6, 17.6, 17.6, 17.6, 17.6, 17.6, 17.6, 17.6, 17.6, 17.6, 17.6, 17.6, 17.6, 17.6, 17.6, 17.7, 17.7, 17.7, 17.6, 17.6, 17.6, 17.6, 17.6, 17.6, 17.6, 17.6, 17.5, 17.5, 17.5, 17.5, 17.5, 17.5, 17.5, 17.5, 17.5, 17.5, 17.5, 17.4, 17.4, 17.4, 17.4, 17.4, 17.4, 17.4, 17.4, 17.3, 17.3, 17.3, 17.3, 17.2, 17.2, 17.1, 17.1, 17.1, 17.0, 17.0, 17.0, 17.0, 16.9, 16.9, 16.9, 16.8, 16.8, 16.7, 16.7, 16.7, 16.6, 16.6, 16.6, 16.6, 16.5, 16.5, 16.5, 16.4, 16.4, 16.4, 16.4, 16.4, 16.4, 16.4, 16.4, 16.4, 16.4, 16.4, 16.4, 16.4, 16.4, 16.4, 16.4, 16.3, 16.3, 16.3, 16.3, 16.3, 16.3, 16.3, 16.3, 16.3, 16.3, 16.3, 16.3, 16.3, 16.3, 16.3, 16.3, 16.2, 16.2, 16.2, 16.2, 16.2, 16.2, 16.2, 16.2, 16.2, 16.2, 16.2, 16.2, 16.2, 16.2, 16.2, 16.2, 16.2, 16.2, 16.2, 16.1, 16.1, 16.1, 16.1, 16.0, 16.0, 16.1, 16.2, 16.2, 16.2, 16.2, 16.1, 16.0, 16.0, 15.9, 15.9, 15.8, 15.9, 15.9, 16.0, 16.0, 16.0, 16.0, 16.0, 16.0, 16.1, 16.1, 16.1, 16.1, 16.1, 16.1, 16.0, 16.0, 16.0, 15.9, 15.8, 15.8, 15.8, 15.7, 15.7, 15.7, 15.7, 15.7, 15.7, 15.7, 15.7, 15.8, 15.8, 15.8, 15.8, 15.8, 15.9, 15.9, 15.9, 15.9, 15.9, 15.9, 16.0, 15.9, 15.9, 15.9, 15.9, 15.9, 15.9, 15.9, 15.9, 15.9, 15.9, 15.9, 15.9, 15.9, 15.9, 15.9, 15.9, 15.9, 15.9, 15.9, 15.9, 15.9, 15.9, 15.9, 15.9, 16.0, 16.0, 16.0, 16.0, 16.0, 16.0, 16.0, 16.0, 16.0, 16.0, 16.0, 16.0, 16.0, 16.1, 16.1, 16.1, 16.1, 16.1, 16.1, 16.2, 16.2, 16.2, 16.3, 16.3, 16.4, 16.4, 16.4, 16.5, 16.5, 16.5, 16.6, 16.6, 16.6, 16.7, 16.7, 16.7, 16.7, 16.7, 16.8, 16.8, 16.8, 16.8, 16.8, 16.8, 16.9, 16.9, 16.9, 16.9, 16.9, 17.0, 17.0, 17.0, 17.0, 17.0, 17.0, 17.0, 16.9, 16.9, 16.9, 16.9, 16.9, 16.8, 16.8, 16.8, 16.8, 16.8, 16.8, 16.7, 16.7, 16.7, 16.7, 16.7, 16.6, 16.6, 16.6, 16.6, 16.6, 16.6, 16.6, 16.6, 16.6, 16.6, 16.6, 16.6, 16.6, 16.6, 16.6, 16.5, 16.5, 16.5, 16.5, 16.5, 16.6, 16.6, 16.6, 16.6, 16.6, 16.6, 16.6, 16.6, 16.7, 16.7, 16.7, 16.7, 16.8, 16.8, 16.8, 16.9, 16.9, 16.9, 16.9, 17.0, 17.0, 17.0, 17.0, 17.0, 17.1, 17.1, 17.1, 17.1, 17.1, 17.2, 17.2, 17.2, 17.2, 17.2, 17.3, 17.3, 17.3, 17.3, 17.4, 17.4, 17.4, 17.4, 17.4, 17.4, 17.4, 17.4, 17.4, 17.4, 17.4, 17.4, 17.4, 17.3, 17.3, 17.3, 17.3, 17.3, 17.3, 17.2, 17.2, 17.2, 17.2, 17.2, 17.2, 17.2, 17.1, 17.1, 17.1, 17.1, 17.1, 17.1, 17.1, 17.0, 17.0, 17.0, 17.0, 17.0, 17.0, 17.0, 17.0, 17.0, 17.0, 17.0, 17.0, 17.0, 17.0, 17.0, 17.0, 16.9, 16.9, 16.9, 16.9, 16.9, 16.9, 16.9, 16.9, 16.9, 16.9, 16.9, 16.9, 16.9, 16.9, 16.9, 16.9, 17.0, 17.0, 17.0, 17.0, 17.0, 17.1, 17.1, 17.2, 17.2, 17.2, 17.3, 17.3, 17.4, 17.4, 17.5, 17.5, 17.6, 17.7, 17.8, 17.8, 17.9, 17.9, 18.0, 18.0, 18.1, 18.1, 18.2, 18.3, 18.3, 18.4, 18.5, 18.5, 18.6, 18.6, 18.7, 18.7, 18.8, 18.8, 18.8, 18.8, 18.8, 18.8, 18.8, 18.8, 18.7, 18.7, 18.7, 18.6, 18.6, 18.6, 18.5, 18.5, 18.4, 18.4, 18.4, 18.4, 18.3]\n"
     ]
    }
   ],
   "source": [
    "import numpy as np\n",
    "import pandas as pd\n",
    "from suds.client import Client\n",
    "\n",
    "\n",
    "\n",
    "\n",
    "def array_dates_val(data):\n",
    "    #check len(response.timeSeries[0]) is non-zero before above call:-)\n",
    "    # Loop through the values and load into the blank lists using append\n",
    "    Dates,Values = [],[]\n",
    "    for v in data:\n",
    "        Values.append(float(v.value))\n",
    "        Dates.append(v._dateTime)\n",
    "    return Dates,Values\n",
    "\n",
    "\n",
    "\n",
    "\n",
    "\n",
    "dates = pd.date_range('2020-04-01','2020-04-07')\n",
    "print(dates)\n",
    "\n",
    "\n",
    "wsdlURL = 'http://hydroportal.cuahsi.org/nwisuv/cuahsi_1_1.asmx?WSDL'\n",
    "siteCode = 'NWISUV:08048000'\n",
    "\n",
    "\n",
    "variableCode_wat_c = 'NWISUV:00010'\n",
    "variableCode_air_f = 'NWISUV:00021'\n",
    "variableCode_winspd_mh = 'NWISUV:00035'\n",
    "variableCode_disch_c3s = 'NWISUV:00060'\n",
    "\n",
    "\n",
    "beginDate = '2020-04-01'\n",
    "endDate = '2020-04-07'\n",
    "\n",
    "# Create a new object named \"NWIS\" for calling the web service methods\n",
    "NWIS = Client(wsdlURL).service\n",
    "\n",
    "#Every one-half hour data for these dates!\n",
    "response_wat_c = NWIS.GetValuesObject(siteCode, variableCode_wat_c, beginDate, endDate) \n",
    "response_air_f = NWIS.GetValuesObject(siteCode, variableCode_air_f, beginDate, endDate) \n",
    "response_winspd_mh = NWIS.GetValuesObject(siteCode, variableCode_winspd_mh, beginDate, endDate) \n",
    "response_disch_c3s = NWIS.GetValuesObject(siteCode, variableCode_disch_c3s, beginDate, endDate) \n",
    "\n",
    "if not len(response_wat_c.timeSeries[0]) == 0:\n",
    "    values_wat_c = response_wat_c.timeSeries[0].values[0].value\n",
    "if not len(response_air_f.timeSeries[0]) == 0:\n",
    "    values_air_f = response_air_f.timeSeries[0].values[0].value\n",
    "if not len(response_winspd_mh.timeSeries[0]) == 0:\n",
    "    values_winspd_mh = response_winspd_mh.timeSeries[0].values[0].value\n",
    "if not len(response_disch_c3s.timeSeries[0]) == 0:\n",
    "    values_disch_c3s = response_disch_c3s.timeSeries[0].values[0].value\n",
    "\n",
    "if values_wat_c and values_air_f and values_winspd_mh and values_disch_c3s:\n",
    "        Dates_1,Data_1 = array_dates_val(values_wat_c)\n",
    "        Dates_2,Data_2 = array_dates_val(values_air_f)\n",
    "        Dates_3,Data_3 = array_dates_val(values_winspd_mh)\n",
    "        Dates_4,Data_4 = array_dates_val(values_disch_c3s)\n",
    "        #print(len(Dates_1),len(Data_1))\n",
    "        #print(len(Dates_2),len(Data_2))\n",
    "        #print(len(Dates_3),len(Data_3))\n",
    "        #print(len(Dates_4),len(Data_4))\n",
    "        \n",
    "print(Dates_1,Data_1)\n",
    "        \n",
    "titl = [\"Water Temp Celcius\",\"Air Temp Fahrenheit\",\"Wind Speed m/h\",\"Discharge 100c3/s\"]\n",
    "        \n",
    "        \n",
    "#df = pd.DataFrame({titl[0]:Data_1, titl[1]:Data_2, titl[2]:Data_3,titl[3]:Data_4}, index = Dates_1)\n",
    "#display(df)\n",
    "\n",
    "\n",
    "\n",
    "\n",
    "#2020-04-01 2020-04-07 08048000\n"
   ]
  },
  {
   "cell_type": "code",
   "execution_count": null,
   "metadata": {},
   "outputs": [],
   "source": []
  },
  {
   "cell_type": "code",
   "execution_count": null,
   "metadata": {},
   "outputs": [],
   "source": []
  }
 ],
 "metadata": {
  "kernelspec": {
   "display_name": "Python 3",
   "language": "python",
   "name": "python3"
  },
  "language_info": {
   "codemirror_mode": {
    "name": "ipython",
    "version": 3
   },
   "file_extension": ".py",
   "mimetype": "text/x-python",
   "name": "python",
   "nbconvert_exporter": "python",
   "pygments_lexer": "ipython3",
   "version": "3.7.4"
  }
 },
 "nbformat": 4,
 "nbformat_minor": 2
}
