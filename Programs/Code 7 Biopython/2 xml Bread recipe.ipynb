{
 "cells": [
  {
   "cell_type": "code",
   "execution_count": 1,
   "metadata": {},
   "outputs": [
    {
     "name": "stdout",
     "output_type": "stream",
     "text": [
      "recipe\n",
      "title {} Basic bread\n",
      "title {} Basic bread\n",
      "ingredient {'amount': '8', 'unit': 'dL'} Flour\n",
      "ingredient {'amount': '10', 'unit': 'grams'} Yeast\n",
      "ingredient {'amount': '4', 'unit': 'dL', 'state': 'warm'} Water\n",
      "ingredient {'amount': '1', 'unit': 'teaspoon'} Salt\n",
      "instructions {} \n",
      "     \n",
      "ingredient {'amount': '8', 'unit': 'dL'} Flour\n",
      "ingredient {'amount': '10', 'unit': 'grams'} Yeast\n",
      "ingredient {'amount': '4', 'unit': 'dL', 'state': 'warm'} Water\n",
      "ingredient {'amount': '1', 'unit': 'teaspoon'} Salt\n"
     ]
    }
   ],
   "source": [
    "#2 Parse the XML file and get the recipe element\n",
    "#See Unit 17 slide 20 - 24\n",
    "import xml.etree.ElementTree as ET\n",
    "\n",
    "document = ET.parse(\"3 Data Bread recipe.xml\")\n",
    "root = document.getroot()\n",
    "\n",
    "# What is the root?\n",
    "print (root.tag)\n",
    "\n",
    "\n",
    "# Get (single) title element in recipe elem\n",
    "ele = root.find('title')\n",
    "print (ele.tag, ele.attrib, ele.text)\n",
    "\n",
    "# All elements in recipe element\n",
    "for ele in root:\n",
    "    print (ele.tag, ele.attrib, ele.text)\n",
    "\n",
    "# All ingredients in recipe element\n",
    "for ele in root.findall('ingredient'):\n",
    "    print (ele.tag, ele.attrib, ele.text)\n",
    "    \n"
   ]
  },
  {
   "cell_type": "code",
   "execution_count": null,
   "metadata": {},
   "outputs": [],
   "source": []
  },
  {
   "cell_type": "code",
   "execution_count": null,
   "metadata": {},
   "outputs": [],
   "source": []
  },
  {
   "cell_type": "code",
   "execution_count": null,
   "metadata": {},
   "outputs": [],
   "source": []
  },
  {
   "cell_type": "code",
   "execution_count": null,
   "metadata": {},
   "outputs": [],
   "source": []
  },
  {
   "cell_type": "code",
   "execution_count": null,
   "metadata": {},
   "outputs": [],
   "source": []
  },
  {
   "cell_type": "code",
   "execution_count": null,
   "metadata": {},
   "outputs": [],
   "source": []
  },
  {
   "cell_type": "code",
   "execution_count": null,
   "metadata": {},
   "outputs": [],
   "source": []
  },
  {
   "cell_type": "code",
   "execution_count": null,
   "metadata": {},
   "outputs": [],
   "source": []
  },
  {
   "cell_type": "code",
   "execution_count": null,
   "metadata": {},
   "outputs": [],
   "source": []
  },
  {
   "cell_type": "code",
   "execution_count": null,
   "metadata": {},
   "outputs": [],
   "source": []
  }
 ],
 "metadata": {
  "kernelspec": {
   "display_name": "Python 3",
   "language": "python",
   "name": "python3"
  },
  "language_info": {
   "codemirror_mode": {
    "name": "ipython",
    "version": 3
   },
   "file_extension": ".py",
   "mimetype": "text/x-python",
   "name": "python",
   "nbconvert_exporter": "python",
   "pygments_lexer": "ipython3",
   "version": "3.6.4"
  }
 },
 "nbformat": 4,
 "nbformat_minor": 2
}
