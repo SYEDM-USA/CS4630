{
 "cells": [
  {
   "cell_type": "code",
   "execution_count": 6,
   "metadata": {},
   "outputs": [
    {
     "name": "stdout",
     "output_type": "stream",
     "text": [
      "EU490707 3\n"
     ]
    }
   ],
   "source": [
    "\n",
    "#4 Get a GenBank record and print some stuff ...\n",
    "#GenBank,the NIH genetic sequence database, is an annotated set of \n",
    "#           all publicly available DNA sequences\n",
    "#GenBank can be searched in mnay ways, for example: \n",
    "#           search for sequence identifiers and annotations using Entrez\n",
    "\n",
    "from Bio import Entrez, SeqIO\n",
    "Entrez.email = \"kresman@bgsu.edu\" \n",
    "handle = Entrez.efetch(db=\"nucleotide\", id=\"186972394\",rettype=\"gb\", retmode=\"text\")\n",
    "record = SeqIO.read(handle, \"genbank\")\n",
    "\n",
    "print (record.name, len(record.features))\n",
    "\n",
    "handle.close()\n"
   ]
  },
  {
   "cell_type": "code",
   "execution_count": null,
   "metadata": {},
   "outputs": [],
   "source": []
  },
  {
   "cell_type": "code",
   "execution_count": null,
   "metadata": {},
   "outputs": [],
   "source": []
  },
  {
   "cell_type": "code",
   "execution_count": null,
   "metadata": {},
   "outputs": [],
   "source": []
  }
 ],
 "metadata": {
  "kernelspec": {
   "display_name": "Python 3",
   "language": "python",
   "name": "python3"
  },
  "language_info": {
   "codemirror_mode": {
    "name": "ipython",
    "version": 3
   },
   "file_extension": ".py",
   "mimetype": "text/x-python",
   "name": "python",
   "nbconvert_exporter": "python",
   "pygments_lexer": "ipython3",
   "version": "3.6.4"
  }
 },
 "nbformat": 4,
 "nbformat_minor": 2
}
