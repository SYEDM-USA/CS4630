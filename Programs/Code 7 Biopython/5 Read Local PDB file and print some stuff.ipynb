{
 "cells": [
  {
   "cell_type": "code",
   "execution_count": 1,
   "metadata": {},
   "outputs": [
    {
     "name": "stdout",
     "output_type": "stream",
     "text": [
      "# chains 1\n"
     ]
    }
   ],
   "source": [
    "#5 Read a local PDF file and print how many chains it has\n",
    "\n",
    "import Bio.PDB.PDBParser\n",
    "import sys\n",
    "\n",
    "parser=Bio.PDB.PDBParser(QUIET=True)\n",
    "structure=parser.get_structure(\"1HPV\",\"5 Data Sample PDB file ala_phe_ala.pdb\")\n",
    "model=structure[0]\n",
    "print (\"# chains\", len (model))\n",
    "\n"
   ]
  },
  {
   "cell_type": "code",
   "execution_count": null,
   "metadata": {},
   "outputs": [],
   "source": []
  },
  {
   "cell_type": "code",
   "execution_count": null,
   "metadata": {},
   "outputs": [],
   "source": []
  }
 ],
 "metadata": {
  "kernelspec": {
   "display_name": "Python 3",
   "language": "python",
   "name": "python3"
  },
  "language_info": {
   "codemirror_mode": {
    "name": "ipython",
    "version": 3
   },
   "file_extension": ".py",
   "mimetype": "text/x-python",
   "name": "python",
   "nbconvert_exporter": "python",
   "pygments_lexer": "ipython3",
   "version": "3.6.4"
  }
 },
 "nbformat": 4,
 "nbformat_minor": 2
}
