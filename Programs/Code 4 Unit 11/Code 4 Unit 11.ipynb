{
 "cells": [
  {
   "cell_type": "code",
   "execution_count": 78,
   "metadata": {},
   "outputs": [
    {
     "name": "stdout",
     "output_type": "stream",
     "text": [
      "5/4 (5, 4)\n",
      "5\n"
     ]
    }
   ],
   "source": [
    "#1 print expressions better\n",
    "\n",
    "#1 rational\n",
    "from sympy import *\n",
    "init_printing()         \n",
    "x, y, z = symbols('x, y, z')\n",
    "\n",
    "z = 1.25\n",
    "myRational = Rational(z)\n",
    "print (myRational, myRational.as_numer_denom())\n",
    "print (myRational.as_numer_denom()[0])\n",
    "\n"
   ]
  },
  {
   "cell_type": "code",
   "execution_count": 40,
   "metadata": {},
   "outputs": [
    {
     "name": "stdout",
     "output_type": "stream",
     "text": [
      "True\n",
      "True\n",
      "sqrt(2)\n",
      "False\n"
     ]
    }
   ],
   "source": [
    "#2 rational\n",
    "from sympy import *\n",
    "init_printing()         \n",
    "x, y, z = symbols('x, y, z')\n",
    "\n",
    "z = 1.25\n",
    "myRational = Rational(z)\n",
    "print (myRational.is_rational)\n",
    "w = symbols ('w', integer = true)\n",
    "print (w.is_rational)\n",
    "v = symbols ('v', float = true)\n",
    "v=sqrt(2)\n",
    "print (v)\n",
    "print (v.is_rational)"
   ]
  },
  {
   "cell_type": "code",
   "execution_count": null,
   "metadata": {},
   "outputs": [],
   "source": [
    "#3 gcd, lcm\n",
    "from sympy import *\n",
    "init_printing()         \n",
    "x, y, z = symbols('x, y, z')\n",
    "\n",
    "print (lcm (10,15))\n",
    "print (lcm([1,2,3,4]))\n",
    "print (gcd([10,20,30]))"
   ]
  },
  {
   "cell_type": "code",
   "execution_count": 45,
   "metadata": {},
   "outputs": [
    {
     "data": {
      "image/png": "[encoded data removed]",
      "text/latex": [
       "$$1$$"
      ],
      "text/plain": [
       "1"
      ]
     },
     "metadata": {},
     "output_type": "display_data"
    }
   ],
   "source": [
    "#4 limits\n",
    "from sympy import *\n",
    "import matplotlib.ticker as tck\n",
    "import matplotlib.pyplot as plt\n",
    "import numpy as np\n",
    "%matplotlib inline \n",
    "\n",
    "x, y, z = symbols('x, y, z')\n",
    "\n",
    "z = limit(x*sin(1/x), x, oo)\n",
    "display (z) \n"
   ]
  },
  {
   "cell_type": "code",
   "execution_count": 46,
   "metadata": {},
   "outputs": [
    {
     "data": {
      "text/plain": [
       "mpf('0.333333333333333333333333333333317')"
      ]
     },
     "metadata": {},
     "output_type": "display_data"
    }
   ],
   "source": [
    "#5 multiprecision computation\n",
    "from sympy import *\n",
    "import matplotlib.ticker as tck\n",
    "import matplotlib.pyplot as plt\n",
    "import numpy as np\n",
    "%matplotlib inline \n",
    "\n",
    "#mpmath - multiprecision math  - another package just like sympy\n",
    "import mpmath \n",
    "mpmath.mp.dps = 30    # 30 digits of precision \n",
    "display (mpmath.mpf(\"1/3\"))  \n",
    "\n"
   ]
  },
  {
   "cell_type": "code",
   "execution_count": 54,
   "metadata": {},
   "outputs": [
    {
     "data": {
      "image/png": "[encoded data removed]",
      "text/latex": [
       "$$1$$"
      ],
      "text/plain": [
       "1"
      ]
     },
     "metadata": {},
     "output_type": "display_data"
    },
    {
     "data": {
      "image/png": "[encoded data removed]",
      "text/latex": [
       "$$\\cosh{\\left (2 x \\right )}$$"
      ],
      "text/plain": [
       "cosh(2⋅x)"
      ]
     },
     "metadata": {},
     "output_type": "display_data"
    }
   ],
   "source": [
    "#6 trig functions\n",
    "from sympy import *\n",
    "import matplotlib.ticker as tck\n",
    "import matplotlib.pyplot as plt\n",
    "import numpy as np\n",
    "%matplotlib inline \n",
    "x, y, z = symbols('x, y, z')\n",
    "trigX = sin(2*x) + cos(2*x)\n",
    "expand_trig(trigX)\n",
    "\n",
    "#trigsimp: simplify trigonometric expressions\n",
    "display ( trigsimp( sin(x)**2 + cos(x)**2 ) )\n",
    "display ( trigsimp( cosh(x)**2 + sinh(x)**2 ) )\n"
   ]
  },
  {
   "cell_type": "code",
   "execution_count": 62,
   "metadata": {},
   "outputs": [
    {
     "data": {
      "image/png": "[encoded data removed]",
      "text/latex": [
       "$$2 \\sqrt{2}$$"
      ],
      "text/plain": [
       "2⋅√2"
      ]
     },
     "metadata": {},
     "output_type": "display_data"
    },
    {
     "data": {
      "image/png": "[encoded data removed]",
      "text/latex": [
       "$$2.82842712474619$$"
      ],
      "text/plain": [
       "2.82842712474619"
      ]
     },
     "metadata": {},
     "output_type": "display_data"
    },
    {
     "name": "stdout",
     "output_type": "stream",
     "text": [
      "3.141592654\n"
     ]
    }
   ],
   "source": [
    "#7 evaluate functions - evalf\n",
    "from sympy import *\n",
    "import matplotlib.ticker as tck\n",
    "import matplotlib.pyplot as plt\n",
    "import numpy as np\n",
    "%matplotlib inline \n",
    "x, y, z = symbols('x, y, z')\n",
    "simplify('x**2+2*x+4')  #simplify expr\n",
    "x = sqrt(8)\n",
    "display (x, x.evalf())  #evaluate expr\n",
    "print (pi.evalf(10)) #10 decimal places"
   ]
  },
  {
   "cell_type": "code",
   "execution_count": 65,
   "metadata": {},
   "outputs": [
    {
     "data": {
      "image/png": "[encoded data removed]",
      "text/latex": [
       "$$\\left(x + y\\right) \\left(x + 2 y\\right) \\left(x + 3 y\\right) \\left(x + 4 y\\right)$$"
      ],
      "text/plain": [
       "(x + y)⋅(x + 2⋅y)⋅(x + 3⋅y)⋅(x + 4⋅y)"
      ]
     },
     "metadata": {},
     "output_type": "display_data"
    },
    {
     "name": "stdout",
     "output_type": "stream",
     "text": [
      "12*(2*x + 5*y)\n"
     ]
    },
    {
     "data": {
      "image/png": "[encoded data removed]",
      "text/latex": [
       "$$12 \\left(2 x + 5 y\\right)$$"
      ],
      "text/plain": [
       "12⋅(2⋅x + 5⋅y)"
      ]
     },
     "execution_count": 65,
     "metadata": {},
     "output_type": "execute_result"
    }
   ],
   "source": [
    "#8 differentiation\n",
    "from sympy import *\n",
    "import matplotlib.ticker as tck\n",
    "import matplotlib.pyplot as plt\n",
    "import numpy as np\n",
    "%matplotlib inline \n",
    "x, y, z, i = symbols('x, y, z, i')\n",
    "expr = product((x+i*y), (i, 1, 4 ))\n",
    "display (expr)\n",
    "print ( expr.diff(x, 3))\n",
    "expr = expr.expand()\n",
    "expr.diff(x, 3)"
   ]
  },
  {
   "cell_type": "code",
   "execution_count": 76,
   "metadata": {},
   "outputs": [
    {
     "data": {
      "image/png": "[encoded data removed]",
      "text/latex": [
       "$$- \\cos{\\left (x \\right )}$$"
      ],
      "text/plain": [
       "-cos(x)"
      ]
     },
     "metadata": {},
     "output_type": "display_data"
    },
    {
     "data": {
      "image/png": "[encoded data removed]",
      "text/latex": [
       "$$\\int_{-1}^{1}\\int_{0}^{2} \\left(x + y\\right)^{3} e^{y} \\log{\\left (x \\right )} \\sin{\\left (\\theta \\right )}\\, dx\\, dy$$"
      ],
      "text/plain": [
       "1  2                                     \n",
       "⌠  ⌠                                     \n",
       "⎮  ⎮        3  y                         \n",
       "⎮  ⎮ (x + y) ⋅ℯ ⋅log(x)⋅sin(\\theta) dx dy\n",
       "⌡  ⌡                                     \n",
       "-1 0                                     "
      ]
     },
     "metadata": {},
     "output_type": "display_data"
    },
    {
     "data": {
      "image/png": "[encoded data removed]",
      "text/latex": [
       "$$- \\frac{1}{9 e} \\left(- 192 \\cos{\\left (\\theta \\right )} + 126 \\log{\\left (2 \\right )} \\cos{\\left (\\theta \\right )}\\right) - 6 e \\log{\\left (2 \\right )} \\cos{\\left (\\theta \\right )}$$"
      ],
      "text/plain": [
       "                                               -1                         \n",
       "  (-192⋅cos(\\theta) + 126⋅log(2)⋅cos(\\theta))⋅ℯ                           \n",
       "- ─────────────────────────────────────────────── - 6⋅ℯ⋅log(2)⋅cos(\\theta)\n",
       "                         9                                                "
      ]
     },
     "metadata": {},
     "output_type": "display_data"
    }
   ],
   "source": [
    "#8 differentiation\n",
    "from sympy import *\n",
    "import matplotlib.ticker as tck\n",
    "import matplotlib.pyplot as plt\n",
    "%matplotlib inline \n",
    "init_printing(use_latex=True)\n",
    "x, y, z = symbols('x, y, z')\n",
    "display (integrate(sin(x)))\n",
    "theta = symbols(\"\\\\theta\")\n",
    "expr = sin(theta) * exp(y)*log(x)*(x+y)**3\n",
    "expr = Integral(expr,(x,0,2))    \n",
    "expr = Integral (expr,(y,-1,1))\n",
    "display ((expr))\n",
    "expr = integrate(expr)   #do it\n",
    "display ( (expr))"
   ]
  },
  {
   "cell_type": "code",
   "execution_count": null,
   "metadata": {},
   "outputs": [],
   "source": []
  }
 ],
 "metadata": {
  "kernelspec": {
   "display_name": "Python 3",
   "language": "python",
   "name": "python3"
  },
  "language_info": {
   "codemirror_mode": {
    "name": "ipython",
    "version": 3
   },
   "file_extension": ".py",
   "mimetype": "text/x-python",
   "name": "python",
   "nbconvert_exporter": "python",
   "pygments_lexer": "ipython3",
   "version": "3.6.4"
  }
 },
 "nbformat": 4,
 "nbformat_minor": 2
}
