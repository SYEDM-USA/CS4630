{
 "cells": [
  {
   "cell_type": "code",
   "execution_count": null,
   "metadata": {},
   "outputs": [],
   "source": [
    "from tkinter import *\n",
    "from tkinter.ttk import *\n",
    "window = Tk()\n",
    "window.title(\"Basic GUI demo\")\n",
    "window.geometry('300x250')\n",
    "lblCell = Label(window, text=\"My1stGUI \")\n",
    "lblCell.grid(column=0, row=0)\n",
    "\n",
    "txtCell = Entry(window,width=5)\n",
    "txtCell.grid(column=1, row=0)\n",
    "\n",
    "dropDown = Combobox(window, width=5)\n",
    "dropDown['values']= ('w', 'x', 3, \"Text\")\n",
    "dropDown.current(0) #set the selected item\n",
    "dropDown.grid(column=2, row=0)\n",
    "\n",
    "def clicked():\n",
    "    lblCell.configure(text=\"Ouch, input: \" \\\n",
    "    + txtCell.get() + \" dropDown: \" + dropDown.get())\n",
    "\n",
    "btnCell = Button(window, text=\"Try me?\", command=clicked)\n",
    "btnCell.grid(column = 3, row=0)\n",
    "window.mainloop()"
   ]
  }
 ],
 "metadata": {
  "kernelspec": {
   "display_name": "Python 3",
   "language": "python",
   "name": "python3"
  },
  "language_info": {
   "codemirror_mode": {
    "name": "ipython",
    "version": 3
   },
   "file_extension": ".py",
   "mimetype": "text/x-python",
   "name": "python",
   "nbconvert_exporter": "python",
   "pygments_lexer": "ipython3",
   "version": "3.7.3"
  }
 },
 "nbformat": 4,
 "nbformat_minor": 2
}
