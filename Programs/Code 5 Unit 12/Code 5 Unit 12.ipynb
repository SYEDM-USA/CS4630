{
 "cells": [
  {
   "cell_type": "code",
   "execution_count": 10,
   "metadata": {},
   "outputs": [
    {
     "data": {
      "text/plain": [
       "Text(-50, 30, 'angle')"
      ]
     },
     "execution_count": 10,
     "metadata": {},
     "output_type": "execute_result"
    },
    {
     "data": {
      "image/png": "[encoded data removed]",
      "text/plain": [
       "<Figure size 432x288 with 1 Axes>"
      ]
     },
     "metadata": {
      "needs_background": "light"
     },
     "output_type": "display_data"
    }
   ],
   "source": [
    "#1 Annotation\n",
    "%matplotlib inline\n",
    "import numpy as np\n",
    "import matplotlib.pyplot as plt \n",
    "\n",
    "from matplotlib.pyplot import figure, show\n",
    "from matplotlib.patches import Ellipse\n",
    "import numpy as np\n",
    "\n",
    "fig = figure(1)\n",
    "ax = fig.add_subplot(111, autoscale_on=False, xlim=(-1,5), ylim=(-4,3))\n",
    "\n",
    "t = np.arange(0.0, 5.0, 0.01)\n",
    "s = np.cos(2*np.pi*t)\n",
    "line, = ax.plot(t, s, lw=3, color='purple')\n",
    "\n",
    "ax.annotate('arrowstyle', xy=(0, 1),  xycoords='data',\n",
    "                xytext=(-50, 30), textcoords='offset points',\n",
    "                arrowprops=dict(arrowstyle=\"->\")\n",
    "                )\n",
    "ax.annotate('angle', xy=(3., 1),  xycoords='data',\n",
    "                xytext=(-50, 30), textcoords='offset points',\n",
    "                bbox=dict(boxstyle=\"round\", fc='0.8'),\n",
    "                arrowprops=dict(arrowstyle=\"->\",\n",
    "                                connectionstyle=\"angle,angleA=0,angleB=80,rad=10\"),\n",
    "                )\n"
   ]
  },
  {
   "cell_type": "code",
   "execution_count": 2,
   "metadata": {},
   "outputs": [
    {
     "data": {
      "image/png": "[encoded data removed]",
      "text/plain": [
       "<Figure size 576x360 with 1 Axes>"
      ]
     },
     "metadata": {
      "needs_background": "light"
     },
     "output_type": "display_data"
    }
   ],
   "source": [
    "#2 Annotation\n",
    "%matplotlib inline\n",
    "import numpy as np\n",
    "import matplotlib.pyplot as plt \n",
    "\n",
    "from matplotlib.pyplot import figure, show\n",
    "from matplotlib.patches import Ellipse\n",
    "import numpy as np\n",
    "\n",
    "if 1:\n",
    "    fig = figure(1,figsize=(8,5))\n",
    "    ax = fig.add_subplot(111, autoscale_on=False, xlim=(-1,5), ylim=(-5,3))\n",
    "\n",
    "    el = Ellipse((2, -1), 0.5, 0.5)\n",
    "    ax.add_patch(el)\n",
    "\n",
    "    ax.annotate('$->$', xy=(2., -1),  xycoords='data',\n",
    "                xytext=(-150, -140), textcoords='offset points',\n",
    "                bbox=dict(boxstyle=\"round\", fc=\"0.8\"),\n",
    "                arrowprops=dict(arrowstyle=\"->\",\n",
    "                                patchB=el,\n",
    "                                connectionstyle=\"angle,angleA=90,angleB=0,rad=10\"),\n",
    "                )\n",
    "\n",
    "    ax.annotate('fancy', xy=(2., -1),  xycoords='data',\n",
    "                xytext=(-100, 60), textcoords='offset points',\n",
    "                size=20,\n",
    "                #bbox=dict(boxstyle=\"round\", fc=\"0.8\"),\n",
    "                arrowprops=dict(arrowstyle=\"fancy\",\n",
    "                                fc=\"0.6\", ec=\"none\",\n",
    "                                patchB=el,\n",
    "                                connectionstyle=\"angle3,angleA=0,angleB=-90\"),\n",
    "                )\n",
    "\n",
    "    ann = ax.annotate('wedge', xy=(2., -1),  xycoords='data',\n",
    "                xytext=(0, -45), textcoords='offset points',\n",
    "                size=20,\n",
    "                bbox=dict(boxstyle=\"round\", fc=(1.0, 0.7, 0.7), ec=(1., .5, .5)),\n",
    "                arrowprops=dict(arrowstyle=\"wedge,tail_width=1.\",\n",
    "                                fc=(1.0, 0.7, 0.7), ec=(1., .5, .5),\n",
    "                                patchA=None,\n",
    "                                patchB=el,\n",
    "                                relpos=(0.2, 0.8),\n",
    "                                connectionstyle=\"arc3,rad=-0.1\"),\n",
    "                )\n",
    "\n",
    "\n"
   ]
  },
  {
   "cell_type": "code",
   "execution_count": 1,
   "metadata": {},
   "outputs": [],
   "source": [
    "#4 histogram\n",
    "import numpy as np \n",
    "import matplotlib.pyplot as plt \n",
    "\n",
    "mu, sigma = 100, 15 \n",
    "x = mu + sigma * np.random.randn(10000) \n",
    "\n",
    "# the histogram of the data \n",
    "n, bins, patches = plt.hist(x, 50, density=True, facecolor='g', alpha=0.75) \n",
    "\n",
    "plt.xlabel('Smarts') \n",
    "plt.ylabel('Probability') \n",
    "plt.title('Histogram of IQ') \n",
    "plt.text(60, .025, r'$\\mu=100,\\ \\sigma=15$') \n",
    "plt.axis([40, 160, 0, 0.03]) \n",
    "plt.grid(True)"
   ]
  },
  {
   "cell_type": "code",
   "execution_count": null,
   "metadata": {},
   "outputs": [],
   "source": [
    "#5 bar chart\n",
    "%matplotlib inline\n",
    "import numpy as np \n",
    "import matplotlib.pyplot as plt \n",
    "n = np.array([0,1,2,3,4,5])\n",
    "labels = [\"Baseline\", \"System\"]\n",
    "data =   [3.75 , 4.75]\n",
    "\n",
    "xlocations = np.array(range(len(data)))+0.5\n",
    "width = 0.5\n",
    "plt.bar(xlocations, data, width=width)\n",
    "plt.yticks(range(0, 8))\n",
    "plt.xticks(xlocations+ width/2, labels)\n",
    "plt.xlim(0, xlocations[-1]+width*2)\n",
    "plt.title(\"Average Ratings on the Training Set\")"
   ]
  },
  {
   "cell_type": "code",
   "execution_count": null,
   "metadata": {},
   "outputs": [],
   "source": [
    "#6 bunch of charts\n",
    "%matplotlib inline\n",
    "import numpy as np \n",
    "import matplotlib.pyplot as plt \n",
    "n = np.array([0,1,2,3,4,5])\n",
    "fig, axes = plt.subplots(1, 4, figsize=(18,3))\n",
    "axes[0].scatter(x, x + 0.25*np.random.randn(len(x)))\n",
    "axes[0].set_title(\"scatter\")\n",
    "\n",
    "axes[1].step(n, n**2, lw=2)\n",
    "axes[1].set_title(\"step\")\n",
    "\n",
    "axes[2].bar(n, n**2, align=\"center\", width=0.5, alpha=0.5)\n",
    "axes[2].set_title(\"bar\")\n",
    "\n",
    "axes[3].fill_between(n, n**2, n**3, color='green', alpha=0.2)\n",
    "axes[3].set_title(\"fill_between\")\n",
    "axes[3].set_ylabel('between y1 and 0')"
   ]
  },
  {
   "cell_type": "code",
   "execution_count": null,
   "metadata": {},
   "outputs": [],
   "source": [
    "#8 scatter plot\n",
    "import numpy as np\n",
    "import pylab as plt\n",
    "\n",
    "x = np.random.random(50)\n",
    "y = np.random.random(50)\n",
    "c = np.random.random(50)  # color of points\n",
    "s = 500 * np.random.random(50)  # size of points\n",
    "\n",
    "fig, ax = plt.subplots()\n",
    "im = ax.scatter(x, y, c=c, s=s, cmap=plt.cm.jet)\n",
    "\n",
    "# Add a colorbar\n",
    "fig.colorbar(im, ax=ax)\n",
    "\n",
    "# set the color limits - not necessary here, but good to know how.\n",
    "im.set_clim(0.0, 1.0)"
   ]
  },
  {
   "cell_type": "code",
   "execution_count": null,
   "metadata": {},
   "outputs": [],
   "source": [
    "#9 3D plot\n",
    "%matplotlib inline\n",
    "import numpy as np \n",
    "import matplotlib.pyplot as plt \n",
    "from mpl_toolkits.mplot3d import Axes3D\n",
    "fig = plt.figure()\n",
    "ax = fig.add_subplot(111, projection='3d')\n",
    "\n",
    "x =[1,2,3,4,5,6,7,8,9,10]\n",
    "y =[5,6,2,3,13,4,1,2,4,8]\n",
    "z =[2,3,3,3,5,7,9,11,9,10]\n",
    "\n",
    "ax.scatter(x, y, z, c='r', marker='o')\n",
    "\n",
    "ax.set_xlabel('X Label')\n",
    "ax.set_ylabel('Y Label')\n",
    "ax.set_zlabel('Z Label')"
   ]
  },
  {
   "cell_type": "code",
   "execution_count": null,
   "metadata": {},
   "outputs": [],
   "source": [
    "#11 linear fit\n",
    "import numpy\n",
    "from matplotlib.pyplot import *\n",
    "\n",
    "x = [-7.30000, -4.10000, -1.70000, -0.02564,\n",
    "     1.50000, 4.50000, 9.10000]\n",
    "y = [-0.80000, -0.50000, -0.20000, 0.00000,\n",
    "     0.20000, 0.50000, 0.80000]\n",
    "\n",
    "coefficients = numpy.polyfit(x, y, 1)\n",
    "polynomial = numpy.poly1d(coefficients)\n",
    "ys = polynomial(x)\n",
    "print (coefficients)\n",
    "print (polynomial)\n",
    "\n",
    "plot(x, y, 'o')\n",
    "plot(x, ys)\n",
    "ylabel('y')\n",
    "xlabel('x')\n",
    "xlim(-10,10)\n",
    "ylim(-1,1)\n",
    "#http://sdtidbits.blogspot.com/2009/03/curve-fitting-and-plotting-in-python.html\n"
   ]
  },
  {
   "cell_type": "code",
   "execution_count": null,
   "metadata": {},
   "outputs": [],
   "source": [
    "#12 polynomial fit\n",
    "import numpy as np\n",
    "import matplotlib.pyplot as plt\n",
    "\n",
    "np.random.seed(12)\n",
    "\n",
    "x = np.linspace(0, 1, 20)\n",
    "y = np.cos(x) + 0.3*np.random.rand(20)\n",
    "p = np.poly1d(np.polyfit(x, y, 5))\n",
    "\n",
    "t = np.linspace(0, 1, 200)\n",
    "plt.plot(x, y, 'o', t, p(t), '-')\n"
   ]
  },
  {
   "cell_type": "code",
   "execution_count": null,
   "metadata": {},
   "outputs": [],
   "source": []
  }
 ],
 "metadata": {
  "kernelspec": {
   "display_name": "Python 3",
   "language": "python",
   "name": "python3"
  },
  "language_info": {
   "codemirror_mode": {
    "name": "ipython",
    "version": 3
   },
   "file_extension": ".py",
   "mimetype": "text/x-python",
   "name": "python",
   "nbconvert_exporter": "python",
   "pygments_lexer": "ipython3",
   "version": "3.7.4"
  }
 },
 "nbformat": 4,
 "nbformat_minor": 2
}
