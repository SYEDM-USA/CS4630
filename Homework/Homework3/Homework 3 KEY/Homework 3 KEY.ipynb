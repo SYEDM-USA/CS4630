{
 "cells": [
  {
   "cell_type": "code",
   "execution_count": 3,
   "metadata": {
    "scrolled": true
   },
   "outputs": [
    {
     "name": "stdout",
     "output_type": "stream",
     "text": [
      "Reactant, Product, Combined:\n",
      " [{'Hg': 1, 'O': 2, 'H': 2}, {'H': 3, 'P': 1, 'O': 4}] \n",
      " [{'Hg': -3, 'P': -2, 'O': -8}, {'H': -2, 'O': -1}] \n",
      " [{'Hg': 1, 'O': 2, 'H': 2}, {'H': 3, 'P': 1, 'O': 4}, {'Hg': -3, 'P': -2, 'O': -8}, {'H': -2, 'O': -1}]\n",
      "\n",
      "Eqn Symbols: (s0, s1, s2, s3) \n",
      "Distinct Atoms: ['P', 'Hg', 'H', 'O']\n",
      "Equation: [s1 - 2*s2, s0 - 3*s2, 2*s0 + 3*s1 - 2*s3, 2*s0 + 4*s1 - 8*s2 - s3] \n",
      "\n",
      "Solution: {s2: s3/6, s0: s3/2, s1: s3/3}\n",
      "Final Coeff: {s2: 1, s0: 3, s1: 2, s3: 6}\n",
      "\n",
      "Input and Balanced Eqns:\n",
      " Hg(OH)2  + H3PO4  = Hg3(PO4)2 + H2O \n",
      " 3Hg(OH)2  +2 H3PO4   = 1 Hg3(PO4)2 +6 H2O\n"
     ]
    }
   ],
   "source": [
    "from Helper2 import *\n",
    "from sympy import *\n",
    "\n",
    "fRead = open('homework3SampeInput.txt')\n",
    "myInputEqn = fRead.readline().strip()\n",
    "myEqn = myInputEqn.split('=')\n",
    "\n",
    "#myCompunds[0] is reactant, [1] is product or rigt side\n",
    "myCompunds = [eachSide.split('+') for eachSide in myEqn]\n",
    "\n",
    "reactantList =  [atomCount (eachComp) for eachComp in myCompunds[0]]\n",
    "productList = [atomCount (eachComp) for eachComp in myCompunds[1]]\n",
    "productListNeg = [{atom:-qty  for atom,qty in nextComp.items()} for nextComp in productList]\n",
    "\n",
    "combinedList = reactantList + productListNeg\n",
    "print ('Reactant, Product, Combined:\\n', reactantList, \"\\n\", productListNeg,\"\\n\", combinedList )\n",
    "\n",
    "mySymbols = symbols('s0:%d'%(  len(myCompunds[0]) + len(myCompunds[1]) ))\n",
    "distAtomList = list( set( [atom for nextComp in reactantList for atom,qty in nextComp.items()] ))\n",
    "print (\"\\nEqn Symbols:\", mySymbols, \"\\nDistinct Atoms:\", distAtomList)\n",
    "\n",
    "#construct the #distAtomList linear equations\n",
    "equation = []\n",
    "i = 0 \n",
    "for atom in distAtomList:\n",
    "    equation.append(0)\n",
    "    for x in combinedList:\n",
    "        if atom in x:\n",
    "            equation[i] = equation[i] + (mySymbols[combinedList.index(x)] * x[atom])\n",
    "    i = i + 1\n",
    "                              \n",
    "solnNonFreeVar = (solve (equation, mySymbols) )\n",
    "print(\"Equation:\", equation, \"\\n\\nSolution:\", solnNonFreeVar)\n",
    "\n",
    "#find lcm, make soln whole, add free variables, get final coeff, print result & done\n",
    "leastMultiple = lcm([val.as_numer_denom()[1] for key,val in solnNonFreeVar.items()])  \n",
    "#print (\"Least Multiple\", leastMultiple)\n",
    "\n",
    "solnWhole = {k:leastMultiple*v for k,v in solnNonFreeVar.items()}\n",
    "#print (\"non-free:\", solnWhole)\n",
    "\n",
    "solnWholeSymbol = [k for k,v in solnWhole.items()]\n",
    "solnWholeExpr =   [v for k,v in solnWhole.items()]\n",
    "\n",
    "for nextSymbol in mySymbols:  \n",
    "  solnWholeExpr   = [nextSoln.subs(nextSymbol, 1  ) for nextSoln in solnWholeExpr ]\n",
    "finalResult = {nextSymbol:intValue for nextSymbol, intValue in zip(solnWholeSymbol, solnWholeExpr) }\n",
    "\n",
    "#For free variables, set val = leastMultiple, as done in the 2nd parameter below\n",
    "for nextSymbol in mySymbols:\n",
    "    finalResult[nextSymbol] = finalResult.get(nextSymbol,leastMultiple)\n",
    "print (\"Final Coeff:\", finalResult)\n",
    "\n",
    "#print the balanced equation\n",
    "total = myCompunds[0] + myCompunds[1]\n",
    "balancedEqn, filler = \"\",\"\"\n",
    "for idx in range(len(mySymbols)):\n",
    "  if idx == len(myCompunds[0]): filler = \" = \" \n",
    "  key = mySymbols[idx]\n",
    "  if key in finalResult:\n",
    "     balancedEqn += filler + str(finalResult[key]) + total[idx] \n",
    "  filler = \"+\" \n",
    "print (\"\\nInput and Balanced Eqns:\\n\", myInputEqn, \"\\n\", balancedEqn)\n"
   ]
  },
  {
   "cell_type": "code",
   "execution_count": null,
   "metadata": {},
   "outputs": [],
   "source": []
  },
  {
   "cell_type": "code",
   "execution_count": null,
   "metadata": {},
   "outputs": [],
   "source": []
  },
  {
   "cell_type": "code",
   "execution_count": null,
   "metadata": {},
   "outputs": [],
   "source": []
  },
  {
   "cell_type": "code",
   "execution_count": null,
   "metadata": {},
   "outputs": [],
   "source": []
  }
 ],
 "metadata": {
  "kernelspec": {
   "display_name": "Python 3",
   "language": "python",
   "name": "python3"
  },
  "language_info": {
   "codemirror_mode": {
    "name": "ipython",
    "version": 3
   },
   "file_extension": ".py",
   "mimetype": "text/x-python",
   "name": "python",
   "nbconvert_exporter": "python",
   "pygments_lexer": "ipython3",
   "version": "3.7.4"
  }
 },
 "nbformat": 4,
 "nbformat_minor": 2
}
