{
 "cells": [
  {
   "cell_type": "code",
   "execution_count": 1,
   "metadata": {},
   "outputs": [],
   "source": [
    "from Helper2 import atomCount\n",
    "from sympy import *\n",
    "import re\n",
    "\n",
    "\n",
    "def matrix_hash_elements(reactants_elems,product_elems):\n",
    "    keys_arr = []\n",
    "    final_keys_arr =[]\n",
    "    temp_keys = []\n",
    "    hash_elem_r= []\n",
    "    hash_elem_p = []\n",
    "    for i in range(len(reactants_elems)):\n",
    "        hash_elem_r.append(atomCount(reactants_elems[i]))\n",
    "        temp_keys.append([*hash_elem_r[i].keys()])\n",
    "    \n",
    "    for i in range(len(product_elems)):\n",
    "        hash_elem_p.append(atomCount(product_elems[i]))\n",
    "    \n",
    "\n",
    "    for i in temp_keys:\n",
    "        keys_arr += i\n",
    "    \n",
    "    for j in keys_arr:\n",
    "        if j not in final_keys_arr:\n",
    "            final_keys_arr.append(j)\n",
    "            \n",
    "    #print(final_keys_arr)\n",
    "    return final_keys_arr,hash_elem_r,hash_elem_p\n",
    "    \n",
    "    \n",
    "def final_matrix(array_elem,hash_r,hash_p):\n",
    "    \n",
    "    re_arr = [[0 for x in range(len(array_elem))] for x in range(len(hash_r))]\n",
    "    for i in range(len(hash_r)):\n",
    "        for j in range(len(array_elem)):\n",
    "            re_arr[i][j] = hash_r[i].get(array_elem[j])\n",
    "            if re_arr[i][j]== None: re_arr[i][j] = 0\n",
    "            \n",
    "    pr_arr = [[0 for x in range(len(array_elem))] for x in range(len(hash_p))]\n",
    "    for i in range(len(hash_p)):\n",
    "        for j in range(len(array_elem)):\n",
    "            pr_arr[i][j] = hash_p[i].get(array_elem[j])\n",
    "            if pr_arr[i][j]== None: pr_arr[i][j] = 0\n",
    "            pr_arr[i][j] = -1*pr_arr[i][j]\n",
    "    \n",
    "    Mat_r = []\n",
    "    for i in range(len(re_arr)):\n",
    "        Mat_r.append(re_arr[i])\n",
    "    for i in range(len(pr_arr)):\n",
    "        Mat_r.append(pr_arr[i])\n",
    "    Matrix_Final = Matrix(Mat_r)\n",
    "    \n",
    "    return Matrix_Final,re_arr,pr_arr\n",
    "   \n",
    "    \n",
    "def end_wt_output(Matrix_Final):\n",
    "    mat = Matrix_Final.T\n",
    "   \n",
    "    #print(mat)\n",
    "    nspace = mat.nullspace()\n",
    "    #print(nspace)\n",
    "    \n",
    "    \n",
    "    if len(nspace) == 0:\n",
    "        return None\n",
    "    else:\n",
    "        divisor = 1\n",
    "        for x in nspace[0].T.tolist()[0]: divisor = gcd(divisor, x)\n",
    "        coefs = list(map(lambda x: str(x / divisor), nspace[0].T.tolist()[0]))\n",
    "        \n",
    "        #don't include '1' coefficient\n",
    "        coefs = list(map(lambda x: '' if x == '1' else x, coefs))\n",
    "        \n",
    "    return coefs\n",
    "\n",
    "#def solve_system(Matr_ix):\n",
    "    \n",
    "\n",
    "    \n",
    "    \n",
    "    \n",
    "def output_fil(coefficients,reactants,products):\n",
    "    outfile = open(\"answer.txt\",\"a\")\n",
    "    \n",
    "    outline = \"\"\n",
    "    for i in range(len(reactants)):\n",
    "        outline = outline + str(coefficients[i])+reactants[i]\n",
    "        outline = outline + \" + \"\n",
    "    \n",
    "    outline = outline[:-3]\n",
    "    outline = outline + \" = \"\n",
    "    \n",
    "    for i in range(len(products)):\n",
    "        outline = outline + str(coefficients[i+len(reactants)])+products[i]\n",
    "        outline = outline + \" + \"\n",
    "    outline = outline[:-3]\n",
    "    \n",
    "    outfile.write(outline)\n",
    "    outfile.write(\"\\n\")\n",
    "    \n",
    "    outfile.close\n",
    "    \n",
    "def get_matrix(equation):\n",
    "    hash_r,hash_p,arr_elem = [],[],[]\n",
    "    split_equation = equation.split('=')\n",
    "    \n",
    "    reactants_eq = split_equation[0]\n",
    "    products_eq = split_equation[1]\n",
    "    \n",
    "    reactants = reactants_eq.split('+')\n",
    "    products = products_eq.split('+')\n",
    "    \n",
    "    for i in range(len(reactants)):\n",
    "        reactants[i] = reactants[i].strip()\n",
    "    for i in range(len(products)):\n",
    "        products[i] = products[i].strip()    \n",
    "    \n",
    "    arr_elem,hash_r,hash_p= matrix_hash_elements(reactants,products)\n",
    "    \n",
    "    Matrix_Final,re_arr,pr_arr = final_matrix(arr_elem,hash_r,hash_p)\n",
    "    \n",
    "    coefficients = end_wt_output(Matrix_Final)\n",
    "    \n",
    "    output_fil(coefficients,reactants,products)\n",
    "    \n",
    "    #print(arr_elem)\n",
    "    #print(hash_r)\n",
    "    #print(hash_p)\n",
    "    #print(Matrix_Final)\n",
    "    #print(re_arr)\n",
    "    #print(pr_arr)\n",
    "    #print(coefficients)\n",
    "    \n",
    "def start():\n",
    "    Equations = open(\"homework3SampeInput.txt\", \"r\")\n",
    "    \n",
    "    lines = []\n",
    "    for line in Equations:\n",
    "        lines.append(line.strip())\n",
    "    \n",
    "    no_lines = len(lines)\n",
    "    for i in range(no_lines):\n",
    "        get_matrix(lines[i])\n",
    "    \n",
    "    \n",
    "    Equations.close\n",
    "    \n",
    "    #no_lines = len(lines)\n",
    "    #for i in range(no_lines):\n",
    "    #    print(lines[i])\n",
    "    \n",
    "       \n",
    "\n",
    "start()"
   ]
  },
  {
   "cell_type": "code",
   "execution_count": null,
   "metadata": {},
   "outputs": [],
   "source": []
  },
  {
   "cell_type": "code",
   "execution_count": 13,
   "metadata": {},
   "outputs": [
    {
     "data": {
      "image/png": "[encoded data removed]",
      "text/latex": [
       "$\\displaystyle \\left( X_{0}, \\  X_{1}, \\  X_{2}, \\  X_{3}, \\  X_{4}\\right)$"
      ],
      "text/plain": [
       "(X₀, X₁, X₂, X₃, X₄)"
      ]
     },
     "metadata": {},
     "output_type": "display_data"
    }
   ],
   "source": [
    "from sympy import *\n",
    "import numpy as np\n",
    "\n",
    "x, y, z = symbols('x, y, z')\n",
    "\n",
    "\n",
    "a = x * x + y\n",
    "\n",
    "#print (a, a**2)\n",
    "\n",
    "makeSymbolsX0thruX9 = symbols('X0:%d'%5 )   \n",
    "\n",
    "display (makeSymbolsX0thruX9)\n",
    "\n"
   ]
  },
  {
   "cell_type": "code",
   "execution_count": 36,
   "metadata": {},
   "outputs": [
    {
     "data": {
      "text/latex": [
       "$\\displaystyle \\left[\\begin{matrix}4 & 0 & 1 & 0\\\\10 & 0 & 0 & 2\\\\0 & 2 & 2 & 1\\end{matrix}\\right]$"
      ],
      "text/plain": [
       "⎡4   0  1  0⎤\n",
       "⎢           ⎥\n",
       "⎢10  0  0  2⎥\n",
       "⎢           ⎥\n",
       "⎣0   2  2  1⎦"
      ]
     },
     "metadata": {},
     "output_type": "display_data"
    },
    {
     "data": {
      "image/png": "[encoded data removed]",
      "text/latex": [
       "$\\displaystyle \\left\\{\\left( \\frac{1}{5}, \\  \\frac{13}{10}, \\  - \\frac{4}{5}\\right)\\right\\}$"
      ],
      "text/plain": [
       "⎧⎛     13      ⎞⎫\n",
       "⎨⎜1/5, ──, -4/5⎟⎬\n",
       "⎩⎝     10      ⎠⎭"
      ]
     },
     "metadata": {},
     "output_type": "display_data"
    },
    {
     "data": {
      "image/png": "[encoded data removed]",
      "text/latex": [
       "$\\displaystyle \\frac{1}{5}$"
      ],
      "text/plain": [
       "1/5"
      ]
     },
     "metadata": {},
     "output_type": "display_data"
    },
    {
     "data": {
      "image/png": "[encoded data removed]",
      "text/latex": [
       "$\\displaystyle \\frac{13}{10}$"
      ],
      "text/plain": [
       "13\n",
       "──\n",
       "10"
      ]
     },
     "metadata": {},
     "output_type": "display_data"
    },
    {
     "data": {
      "image/png": "[encoded data removed]",
      "text/latex": [
       "$\\displaystyle - \\frac{4}{5}$"
      ],
      "text/plain": [
       "-4/5"
      ]
     },
     "metadata": {},
     "output_type": "display_data"
    },
    {
     "data": {
      "image/png": "[encoded data removed]",
      "text/latex": [
       "$\\displaystyle \\left[ 2, \\  13, \\  8, \\  10\\right]$"
      ],
      "text/plain": [
       "[2, 13, 8, 10]"
      ]
     },
     "metadata": {},
     "output_type": "display_data"
    }
   ],
   "source": [
    "from sympy import *\n",
    "import numpy as np\n",
    "\n",
    "x, y, z,w = symbols('x, y, z,w')\n",
    "\n",
    "#eq1 = 3*x + 5*y + 9  #3x + 5y = -9\n",
    "#eq2 =   x + 4*y +10  #x  + 4y = -10\n",
    "\n",
    "\n",
    "equa1 = 4*x-z\n",
    "equa2 = 10*x-2*w\n",
    "equa3 = 2*y-2*z-w\n",
    "\n",
    "\n",
    "\n",
    "Matx = Matrix(([4,0,1,0],[10,0,0,2],[0,2,2,1]))\n",
    "\n",
    "display(Matx)\n",
    "\n",
    "#hash_v = solve([equa1, equa2,equa3], (x, y,z))\n",
    "\n",
    "hash_v = linsolve(Matx, (x, y,z))\n",
    "\n",
    "display(hash_v)\n",
    "\n",
    "display(hash_v.args[0][0])\n",
    "display(hash_v.args[0][1])\n",
    "display(hash_v.args[0][2])\n",
    "\n",
    "a,b,c = hash_v.args[0][0],hash_v.args[0][1],hash_v.args[0][2]\n",
    "\n",
    "cof = gcd(cof,a)\n",
    "cof = gcd(cof,b)\n",
    "cof = gcd(cof,c)\n",
    "\n",
    "coef = []\n",
    "\n",
    "coef.append(abs(a/cof))\n",
    "coef.append(abs(b/cof))\n",
    "coef.append(abs(c/cof))\n",
    "coef.append(1/cof)\n",
    "\n",
    "display(coef)\n",
    "#display(cof)\n"
   ]
  },
  {
   "cell_type": "code",
   "execution_count": null,
   "metadata": {},
   "outputs": [],
   "source": []
  },
  {
   "cell_type": "code",
   "execution_count": 85,
   "metadata": {},
   "outputs": [
    {
     "data": {
      "image/png": "[encoded data removed]",
      "text/latex": [
       "$\\displaystyle \\left\\{\\left( \\frac{1}{5}, \\  \\frac{13}{10}, \\  - \\frac{4}{5}\\right)\\right\\}$"
      ],
      "text/plain": [
       "⎧⎛     13      ⎞⎫\n",
       "⎨⎜1/5, ──, -4/5⎟⎬\n",
       "⎩⎝     10      ⎠⎭"
      ]
     },
     "metadata": {},
     "output_type": "display_data"
    },
    {
     "ename": "TypeError",
     "evalue": "'tuple' object does not support item assignment",
     "output_type": "error",
     "traceback": [
      "\u001b[1;31m---------------------------------------------------------------------------\u001b[0m",
      "\u001b[1;31mTypeError\u001b[0m                                 Traceback (most recent call last)",
      "\u001b[1;32m<ipython-input-85-4d19b82f7bd5>\u001b[0m in \u001b[0;36m<module>\u001b[1;34m\u001b[0m\n\u001b[0;32m     16\u001b[0m \u001b[1;33m\u001b[0m\u001b[0m\n\u001b[0;32m     17\u001b[0m \u001b[1;32mfor\u001b[0m \u001b[0mi\u001b[0m \u001b[1;32min\u001b[0m \u001b[0mrange\u001b[0m\u001b[1;33m(\u001b[0m\u001b[0mlen\u001b[0m\u001b[1;33m(\u001b[0m\u001b[0mhash_v\u001b[0m\u001b[1;33m.\u001b[0m\u001b[0margs\u001b[0m\u001b[1;33m[\u001b[0m\u001b[1;36m0\u001b[0m\u001b[1;33m]\u001b[0m\u001b[1;33m)\u001b[0m\u001b[1;33m)\u001b[0m\u001b[1;33m:\u001b[0m\u001b[1;33m\u001b[0m\u001b[1;33m\u001b[0m\u001b[0m\n\u001b[1;32m---> 18\u001b[1;33m         \u001b[0mmakeSymbolsX0thruX9\u001b[0m\u001b[1;33m[\u001b[0m\u001b[0mi\u001b[0m\u001b[1;33m]\u001b[0m \u001b[1;33m=\u001b[0m \u001b[0mhash_v\u001b[0m\u001b[1;33m.\u001b[0m\u001b[0margs\u001b[0m\u001b[1;33m[\u001b[0m\u001b[1;36m0\u001b[0m\u001b[1;33m]\u001b[0m\u001b[1;33m[\u001b[0m\u001b[0mi\u001b[0m\u001b[1;33m]\u001b[0m\u001b[1;33m\u001b[0m\u001b[1;33m\u001b[0m\u001b[0m\n\u001b[0m\u001b[0;32m     19\u001b[0m \u001b[1;33m\u001b[0m\u001b[0m\n\u001b[0;32m     20\u001b[0m \u001b[0mdisplay\u001b[0m\u001b[1;33m(\u001b[0m\u001b[0mmakeSymbolsX0thruX9\u001b[0m\u001b[1;33m)\u001b[0m\u001b[1;33m\u001b[0m\u001b[1;33m\u001b[0m\u001b[0m\n",
      "\u001b[1;31mTypeError\u001b[0m: 'tuple' object does not support item assignment"
     ]
    }
   ],
   "source": [
    "from sympy import *\n",
    "\n",
    "\n",
    "makeSymbolsX0thruX9 = symbols('X0:%d'%4)\n",
    "#display(makeSymbolsX0thruX9[0])\n",
    "\n",
    "\n",
    "Matx = Matrix(([4,0,1,0],[10,0,0,2],[0,2,2,1]))\n",
    "\n",
    "hash_v = linsolve(Matx)\n",
    "\n",
    "display(hash_v)\n",
    "\n",
    "coefs = []\n",
    "\n",
    "#display(makeSymbolsX0thruX9[0])\n",
    "\n",
    "for i in range(len(hash_v.args[0])):\n",
    "        makeSymbolsX0thruX9[i] = hash_v.args[0][i]\n",
    "    \n",
    "display(makeSymbolsX0thruX9)\n",
    "    \n",
    "#for i in range(len(hash_v.args[0])):\n",
    "#        coefs.append(abs(hash_v.args[0][i])\n",
    "                     \n",
    "\n"
   ]
  },
  {
   "cell_type": "code",
   "execution_count": 136,
   "metadata": {},
   "outputs": [
    {
     "data": {
      "image/png": "[encoded data removed]",
      "text/latex": [
       "$\\displaystyle \\left[ 4 X_{0} + X_{2}, \\  10 X_{0} + 2 X_{3}, \\  2 X_{1} + 2 X_{2} + X_{3}\\right]$"
      ],
      "text/plain": [
       "[4⋅X₀ + X₂, 10⋅X₀ + 2⋅X₃, 2⋅X₁ + 2⋅X₂ + X₃]"
      ]
     },
     "metadata": {},
     "output_type": "display_data"
    },
    {
     "data": {
      "image/png": "[encoded data removed]",
      "text/latex": [
       "$\\displaystyle \\left\\{ X_{0} : - \\frac{X_{3}}{5}, \\  X_{1} : - \\frac{13 X_{3}}{10}, \\  X_{2} : \\frac{4 X_{3}}{5}\\right\\}$"
      ],
      "text/plain": [
       "⎧    -X₃       -13⋅X₃       4⋅X₃⎫\n",
       "⎨X₀: ────, X₁: ───────, X₂: ────⎬\n",
       "⎩     5           10         5  ⎭"
      ]
     },
     "metadata": {},
     "output_type": "display_data"
    },
    {
     "data": {
      "image/png": "[encoded data removed]",
      "text/latex": [
       "$\\displaystyle \\left[ - \\frac{1}{5}, \\  - \\frac{13}{10}, \\  \\frac{4}{5}\\right]$"
      ],
      "text/plain": [
       "⎡      -13      ⎤\n",
       "⎢-1/5, ────, 4/5⎥\n",
       "⎣       10      ⎦"
      ]
     },
     "metadata": {},
     "output_type": "display_data"
    },
    {
     "data": {
      "image/png": "[encoded data removed]",
      "text/latex": [
       "$\\displaystyle \\frac{1}{10}$"
      ],
      "text/plain": [
       "1/10"
      ]
     },
     "metadata": {},
     "output_type": "display_data"
    },
    {
     "data": {
      "image/png": "[encoded data removed]",
      "text/latex": [
       "$\\displaystyle \\left[ 2, \\  13, \\  8, \\  10\\right]$"
      ],
      "text/plain": [
       "[2, 13, 8, 10]"
      ]
     },
     "metadata": {},
     "output_type": "display_data"
    }
   ],
   "source": [
    "from sympy import *\n",
    "\n",
    "makeSymbolsX0thruX9 = symbols('X0:%d'%4)\n",
    "#display(makeSymbolsX0thruX9[0])\n",
    "\n",
    "\n",
    "Matx = Matrix(([4,0,1,0],[10,0,0,2],[0,2,2,1]))\n",
    "\n",
    "Equa1,Equa2,Equa3 = 0,0,0\n",
    "for i in range(4):\n",
    "    Equa1 = Equa1 + Matx[i]*makeSymbolsX0thruX9[i]\n",
    "for i in range(4):\n",
    "    Equa2 = Equa2 + Matx[i+4]*makeSymbolsX0thruX9[i]\n",
    "for i in range(4):\n",
    "    Equa3 = Equa3 + Matx[i+8]*makeSymbolsX0thruX9[i]\n",
    "    \n",
    "#display(Equa1,Equa2,Equa3)\n",
    "\n",
    "Equation = []\n",
    "\n",
    "lo_sp = 0\n",
    "\n",
    "for x in range(3):\n",
    "    Equation.append(sum(Matx[i+lo_sp]*makeSymbolsX0thruX9[i] for i in range(4)))\n",
    "    lo_sp +=4\n",
    "    \n",
    "display(Equation)\n",
    "\n",
    "answer = solve([Equation[i]for i in range (3)],makeSymbolsX0thruX9)\n",
    "\n",
    "display(answer)\n",
    "\n",
    "a,b = [],[]\n",
    "cof = 0\n",
    "for i in range(3):\n",
    "    eq = answer[makeSymbolsX0thruX9[i]].subs(makeSymbolsX0thruX9[3],1)\n",
    "    a.append(eq)\n",
    "for i in range(3):\n",
    "    cof = gcd(cof,a[i])\n",
    "for i in range(3):\n",
    "    b.append(abs(a[i]/cof))\n",
    "b.append(abs(1/cof))\n",
    "\n",
    "\n",
    "display(a)\n",
    "display(cof)\n",
    "display(b)"
   ]
  },
  {
   "cell_type": "code",
   "execution_count": null,
   "metadata": {},
   "outputs": [],
   "source": []
  }
 ],
 "metadata": {
  "kernelspec": {
   "display_name": "Python 3",
   "language": "python",
   "name": "python3"
  },
  "language_info": {
   "codemirror_mode": {
    "name": "ipython",
    "version": 3
   },
   "file_extension": ".py",
   "mimetype": "text/x-python",
   "name": "python",
   "nbconvert_exporter": "python",
   "pygments_lexer": "ipython3",
   "version": "3.7.4"
  }
 },
 "nbformat": 4,
 "nbformat_minor": 2
}
