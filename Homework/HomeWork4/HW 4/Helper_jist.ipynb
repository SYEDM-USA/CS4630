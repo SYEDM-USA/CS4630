{
 "cells": [
  {
   "cell_type": "code",
   "execution_count": 5,
   "metadata": {},
   "outputs": [
    {
     "data": {
      "image/png": "[encoded data removed]",
      "text/latex": [
       "$\\displaystyle a t + v_{0}$"
      ],
      "text/plain": [
       "a⋅t + v₀"
      ]
     },
     "metadata": {},
     "output_type": "display_data"
    },
    {
     "data": {
      "image/png": "[encoded data removed]",
      "text/latex": [
       "$\\displaystyle \\frac{a t^{2}}{2} + s_{0} + t v_{0}$"
      ],
      "text/plain": [
       "   2            \n",
       "a⋅t             \n",
       "──── + s₀ + t⋅v₀\n",
       " 2              "
      ]
     },
     "metadata": {},
     "output_type": "display_data"
    },
    {
     "data": {
      "image/png": "[encoded data removed]",
      "text/latex": [
       "$\\displaystyle v_{0} \\cos{\\left(\\theta \\right)}$"
      ],
      "text/plain": [
       "v₀⋅cos(\\theta)"
      ]
     },
     "metadata": {},
     "output_type": "display_data"
    },
    {
     "data": {
      "image/png": "[encoded data removed]",
      "text/latex": [
       "$\\displaystyle - 9.8 t + v_{0} \\sin{\\left(\\theta \\right)}$"
      ],
      "text/plain": [
       "-9.8⋅t + v₀⋅sin(\\theta)"
      ]
     },
     "metadata": {},
     "output_type": "display_data"
    },
    {
     "data": {
      "image/png": "[encoded data removed]",
      "text/latex": [
       "$\\displaystyle t v_{0} \\cos{\\left(\\theta \\right)}$"
      ],
      "text/plain": [
       "t⋅v₀⋅cos(\\theta)"
      ]
     },
     "metadata": {},
     "output_type": "display_data"
    },
    {
     "data": {
      "image/png": "[encoded data removed]",
      "text/latex": [
       "$\\displaystyle - 4.9 t^{2} + t v_{0} \\sin{\\left(\\theta \\right)} + 10$"
      ],
      "text/plain": [
       "       2                        \n",
       "- 4.9⋅t  + t⋅v₀⋅sin(\\theta) + 10"
      ]
     },
     "metadata": {},
     "output_type": "display_data"
    },
    {
     "data": {
      "image/png": "[encoded data removed]",
      "text/latex": [
       "$\\displaystyle \\frac{x}{v_{0} \\cos{\\left(\\theta \\right)}}$"
      ],
      "text/plain": [
       "      x       \n",
       "──────────────\n",
       "v₀⋅cos(\\theta)"
      ]
     },
     "metadata": {},
     "output_type": "display_data"
    },
    {
     "data": {
      "image/png": "[encoded data removed]",
      "text/latex": [
       "$\\displaystyle - 0.0108888888888889 x^{2} + x + 10$"
      ],
      "text/plain": [
       "                      2         \n",
       "- 0.0108888888888889⋅x  + x + 10"
      ]
     },
     "metadata": {},
     "output_type": "display_data"
    },
    {
     "data": {
      "image/png": "[encoded data removed]",
      "text/plain": [
       "<Figure size 432x288 with 1 Axes>"
      ]
     },
     "metadata": {
      "needs_background": "light"
     },
     "output_type": "display_data"
    },
    {
     "data": {
      "image/png": "[encoded data removed]",
      "text/latex": [
       "$\\displaystyle 14.3695911111111$"
      ],
      "text/plain": [
       "14.3695911111111"
      ]
     },
     "metadata": {},
     "output_type": "display_data"
    }
   ],
   "source": [
    "from sympy import *\n",
    "import numpy as np\n",
    "import matplotlib.ticker as tck\n",
    "import matplotlib.pyplot as plt\n",
    "%matplotlib inline \n",
    "init_printing(use_latex=True)\n",
    "\n",
    "\n",
    "a, v, s, t = symbols('a, v, s, t')\n",
    "theta = symbols(\"\\\\theta\")\n",
    "v0,s0 = symbols('v0,s0')\n",
    "vx,vy,sx,sy = symbols('Vx,Vy,Sx,Sy')\n",
    "x,y = symbols('x,y')\n",
    "g = -9.8\n",
    "initial_x,initial_y,initial_velocity,intial_angle = 0,10,30,pi/4\n",
    "\n",
    "v = integrate(a,t)+v0\n",
    "display(v)\n",
    "\n",
    "\n",
    "s = integrate(v,t)+s0\n",
    "display(s)\n",
    "\n",
    "\n",
    "vx = v.subs(v0,v0*cos(theta)).subs(a,0)\n",
    "vy = v.subs(v0,v0*sin(theta)).subs(a,g)\n",
    "\n",
    "sx = s.subs(v0,v0*cos(theta)).subs(a,0).subs(s0,initial_x)\n",
    "sy = s.subs(v0,v0*sin(theta)).subs(a,g).subs(s0,initial_y)\n",
    "\n",
    "display(vx,vy)\n",
    "display(sx,sy)\n",
    "\n",
    "\n",
    "exp = x/sx.subs(t,1)\n",
    "display(exp)\n",
    "\n",
    "y = trigsimp(sy.subs(t,exp).subs(v0,initial_velocity).subs(theta,intial_angle))\n",
    "\n",
    "display(y)\n",
    "\n",
    "\n",
    "def getzero(y):\n",
    "    return(solve(y))\n",
    "    \n",
    "\n",
    "ran = getzero(y)\n",
    "\n",
    "#i = np.arange(0,int(1500/2.5))\n",
    "i = np.arange(ran[0],ran[1],0.1)\n",
    "#i = np.arange(0.0, 9.0, 0.1)\n",
    "eq = []\n",
    "for j in i:\n",
    "    eq.append(y.subs(x,j))\n",
    "\n",
    "#display(i,eq)    \n",
    "plt.plot(i,eq)\n",
    "plt.show()\n",
    "\n",
    "\n",
    "display(y.subs(x,4.6))\n"
   ]
  },
  {
   "cell_type": "code",
   "execution_count": 11,
   "metadata": {
    "scrolled": false
   },
   "outputs": [
    {
     "name": "stdout",
     "output_type": "stream",
     "text": [
      "Whats the initial projectile velocity(meters/s): 10\n",
      "Whats the height above the ground(meters): 300\n",
      "Whats the angle of the projectile(degrees): 30\n"
     ]
    },
    {
     "data": {
      "text/plain": [
       "'The Two Hardcoded Equations'"
      ]
     },
     "metadata": {},
     "output_type": "display_data"
    },
    {
     "data": {
      "image/png": "[encoded data removed]",
      "text/latex": [
       "$\\displaystyle v{\\left(t \\right)} = \\int a\\, dt$"
      ],
      "text/plain": [
       "       ⌠     \n",
       "v(t) = ⎮ a dt\n",
       "       ⌡     "
      ]
     },
     "metadata": {},
     "output_type": "display_data"
    },
    {
     "data": {
      "image/png": "[encoded data removed]",
      "text/latex": [
       "$\\displaystyle s{\\left(t \\right)} = \\int v\\, dt$"
      ],
      "text/plain": [
       "       ⌠     \n",
       "s(t) = ⎮ v dt\n",
       "       ⌡     "
      ]
     },
     "metadata": {},
     "output_type": "display_data"
    },
    {
     "data": {
      "text/plain": [
       "'The Four Derived Equations, g = -9.8'"
      ]
     },
     "metadata": {},
     "output_type": "display_data"
    },
    {
     "data": {
      "image/png": "[encoded data removed]",
      "text/latex": [
       "$\\displaystyle v{\\left(x \\right)} = v_{0} \\cos{\\left(\\theta \\right)}$"
      ],
      "text/plain": [
       "v(x) = v₀⋅cos(\\theta)"
      ]
     },
     "metadata": {},
     "output_type": "display_data"
    },
    {
     "data": {
      "image/png": "[encoded data removed]",
      "text/latex": [
       "$\\displaystyle v{\\left(y \\right)} = - 9.8 t + v_{0} \\sin{\\left(\\theta \\right)}$"
      ],
      "text/plain": [
       "v(y) = -9.8⋅t + v₀⋅sin(\\theta)"
      ]
     },
     "metadata": {},
     "output_type": "display_data"
    },
    {
     "data": {
      "image/png": "[encoded data removed]",
      "text/latex": [
       "$\\displaystyle s{\\left(x \\right)} = t v_{0} \\cos{\\left(\\theta \\right)}$"
      ],
      "text/plain": [
       "s(x) = t⋅v₀⋅cos(\\theta)"
      ]
     },
     "metadata": {},
     "output_type": "display_data"
    },
    {
     "data": {
      "image/png": "[encoded data removed]",
      "text/latex": [
       "$\\displaystyle s{\\left(y \\right)} = - 4.9 t^{2} + t v_{0} \\sin{\\left(\\theta \\right)} + 300$"
      ],
      "text/plain": [
       "              2                         \n",
       "s(y) = - 4.9⋅t  + t⋅v₀⋅sin(\\theta) + 300"
      ]
     },
     "metadata": {},
     "output_type": "display_data"
    },
    {
     "name": "stdout",
     "output_type": "stream",
     "text": [
      "Intial Velocity: 10 meters/sec\n",
      "Angle of Projectile: 30 degrees\n",
      "Height above the ground: 300 meters\n",
      "Time for max height: 0.510204 seconds\n",
      "Max Height: 301.276 meters\n",
      "Range: 72.3255 meters\n"
     ]
    },
    {
     "data": {
      "text/plain": [
       "Text(0, 50, 'Height: 301.28m \\nTime for max height: 0.51020s')"
      ]
     },
     "execution_count": 11,
     "metadata": {},
     "output_type": "execute_result"
    },
    {
     "data": {
      "image/png": "[encoded data removed]",
      "text/plain": [
       "<Figure size 576x432 with 1 Axes>"
      ]
     },
     "metadata": {
      "needs_background": "light"
     },
     "output_type": "display_data"
    }
   ],
   "source": [
    "import sympy as sp\n",
    "import numpy as np\n",
    "import matplotlib.ticker as tck\n",
    "import matplotlib.pyplot as plt\n",
    "%matplotlib inline \n",
    "sp.init_printing(use_latex=True)\n",
    "\n",
    "def printeq():\n",
    "    display('The Two Hardcoded Equations')\n",
    "    v = sp.Function('v')\n",
    "    s = sp.Function('s')\n",
    "    a,t = sp.symbols('a,t')\n",
    "    funcv = sp.Eq(v(t),sp.Integral(a,t))\n",
    "    display(funcv)\n",
    "    v = sp.Symbol('v')\n",
    "    funcs = sp.Eq(s(t),sp.Integral(v,t))\n",
    "    display(funcs)\n",
    "\n",
    "    \n",
    "def get_value():\n",
    "    initial_velocity = int(input('Whats the initial projectile velocity(meters/s): '))\n",
    "    initial_y = int(input('Whats the height above the ground(meters): '))\n",
    "    intial_angle = int(input('Whats the angle of the projectile(degrees): '))\n",
    "    intial_angle = (intial_angle*sp.pi)/180\n",
    "    return initial_y,initial_velocity,intial_angle\n",
    "\n",
    "\n",
    "initial_x = 0\n",
    "initial_y,initial_velocity,intial_angle = get_value()\n",
    "printeq()\n",
    "\n",
    "v = sp.Function('v')\n",
    "s = sp.Function('s')\n",
    "theta = sp.symbols(\"\\\\theta\")\n",
    "C1,v0,s0 = sp.symbols('C1,v0,s0')\n",
    "a,t,x,y = sp.symbols('a,t,x,y')\n",
    "g = -9.8\n",
    "\n",
    "\n",
    "func = sp.Eq(sp.Derivative(v(t),t),a)\n",
    "#display(func)\n",
    "\n",
    "v1 = (sp.dsolve(func,v(t))).subs(C1,v0)\n",
    "#display(v1)\n",
    "\n",
    "s1 = sp.dsolve(sp.Derivative(s(t),t)-sp.solve(v1,v(t))[0],s(t)).subs(C1,s0)\n",
    "#display(s1)\n",
    "\n",
    "vx = v1.subs(v0,v0*sp.cos(theta)).subs(a,0).subs(v(t),v(x))\n",
    "vy = v1.subs(v0,v0*sp.sin(theta)).subs(a,g).subs(v(t),v(y))\n",
    "\n",
    "sx = s1.subs(v0,v0*sp.cos(theta)).subs(a,0).subs(s0,initial_x).subs(s(t),s(x))\n",
    "sy = s1.subs(v0,v0*sp.sin(theta)).subs(a,g).subs(s0,initial_y).subs(s(t),s(y))\n",
    "\n",
    "display('The Four Derived Equations, g = -9.8')\n",
    "display(vx,vy)\n",
    "display(sx,sy)\n",
    "print('Intial Velocity:',initial_velocity,'meters/sec')\n",
    "print('Angle of Projectile:',intial_angle*180/sp.pi,'degrees')\n",
    "print('Height above the ground:',initial_y,'meters')\n",
    "\n",
    "t_sx = sp.solve(sx,t)\n",
    "#display(t_sx)\n",
    "\n",
    "projectile_eq = sy.subs(t,t_sx[0]).subs(theta,intial_angle).subs(v0,initial_velocity)\n",
    "#display(projectile_eq)\n",
    "\n",
    "final_eqinsert = sp.solve(sp.solve(projectile_eq,s(y))[0],s(x))\n",
    "#display(final_eqinsert)\n",
    "\n",
    "time_max_height = ((sp.solve(sp.Eq(sp.solve(vy,v(y))[0],0),t)[0]).subs(theta,intial_angle).subs(v0,initial_velocity)).evalf(6)\n",
    "\n",
    "print('Time for max height:',time_max_height,'seconds')\n",
    "\n",
    "max_height = (((sp.solve(sy,s(y))[0]).subs(theta,intial_angle).subs(v0,initial_velocity)).subs(t,time_max_height)).evalf(6)\n",
    "print('Max Height:',max_height,'meters')\n",
    "print('Range:',final_eqinsert[1].evalf(6),'meters')\n",
    "\n",
    "\n",
    "\n",
    "\n",
    "range_x = np.arange(initial_x,final_eqinsert[1],0.1)\n",
    "range_y = []\n",
    "def ploting(equation,range_x):\n",
    "    for i in range_x:\n",
    "        range_y.append(equation.subs(s(x),i))\n",
    "\n",
    "ploting(sp.solve(projectile_eq,s(y))[0],range_x)\n",
    "\n",
    "range_ = int(final_eqinsert[1])\n",
    "range_maxheight = ((sp.solve(sx,s(x))[0]).subs(t,time_max_height).subs(v0,initial_velocity).subs(theta,intial_angle)).evalf()\n",
    "#display(range_maxheight)\n",
    "\n",
    "fig = plt.figure(1,figsize=(8,6))\n",
    "ax = fig.add_subplot(111, autoscale_on=False,xlim=(-1,range_+10), ylim=(-1,int(max_height)+10))\n",
    "\n",
    "line = ax.plot(range_x,range_y)\n",
    "#plt.show()\n",
    "\n",
    "ax.annotate('angle: '+str(intial_angle*180/sp.pi)+'deg', xy=(initial_x,initial_y), xycoords='data',\n",
    "                xytext=(-100,-25), textcoords='offset points',\n",
    "                bbox=dict(boxstyle=\"round\", fc='0.8'),\n",
    "                arrowprops=dict(arrowstyle=\"->\")#,\n",
    "                                #connectionstyle=\"angle,angleA=0,angleB=0,rad=10\"),\n",
    "                )\n",
    "\n",
    "ax.annotate('v0: '+str(initial_velocity)+'m/s', xy=(int(initial_x),int(initial_y)),  xycoords='data',\n",
    "                xytext=(50,25), textcoords='offset points',\n",
    "                bbox=dict(boxstyle=\"round\", fc='0.8'),\n",
    "                arrowprops=dict(arrowstyle=\"->\")\n",
    "           )\n",
    "\n",
    "ax.annotate('Range: '+str(range_)+'m', xy=(range_,0),  xycoords='data',\n",
    "                xytext=(75,0), textcoords='offset points',\n",
    "                bbox=dict(boxstyle=\"round\", fc='0.8'),\n",
    "                arrowprops=dict(arrowstyle=\"->\")                \n",
    "           )\n",
    "\n",
    "ax.annotate('Height: '+str(max_height.evalf(5))+'m \\n'+'Time for max height: '+str(time_max_height.evalf(5))+'s', xy=(int(range_maxheight),max_height),  xycoords='data',\n",
    "                xytext=(0,50), textcoords='offset points',\n",
    "                bbox=dict(boxstyle=\"round\", fc='0.8'),\n",
    "                arrowprops=dict(arrowstyle=\"->\")                \n",
    "           )\n"
   ]
  }
 ],
 "metadata": {
  "kernelspec": {
   "display_name": "Python 3",
   "language": "python",
   "name": "python3"
  },
  "language_info": {
   "codemirror_mode": {
    "name": "ipython",
    "version": 3
   },
   "file_extension": ".py",
   "mimetype": "text/x-python",
   "name": "python",
   "nbconvert_exporter": "python",
   "pygments_lexer": "ipython3",
   "version": "3.7.4"
  }
 },
 "nbformat": 4,
 "nbformat_minor": 2
}
