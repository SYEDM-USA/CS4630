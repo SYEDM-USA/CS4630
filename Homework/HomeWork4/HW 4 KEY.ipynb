{
 "cells": [
  {
   "cell_type": "code",
   "execution_count": 2,
   "metadata": {},
   "outputs": [
    {
     "data": {
      "text/plain": [
       "'Hardcoded Equations [Velocity  & Displacement]'"
      ]
     },
     "metadata": {},
     "output_type": "display_data"
    },
    {
     "data": {
      "image/png": "[encoded data removed]",
      "text/latex": [
       "$\\displaystyle \\int a\\, dt$"
      ],
      "text/plain": [
       "⌠     \n",
       "⎮ a dt\n",
       "⌡     "
      ]
     },
     "metadata": {},
     "output_type": "display_data"
    },
    {
     "data": {
      "image/png": "[encoded data removed]",
      "text/latex": [
       "$\\displaystyle \\iint a\\, dt\\, dt$"
      ],
      "text/plain": [
       "⌠ ⌠        \n",
       "⎮ ⎮ a dt dt\n",
       "⌡ ⌡        "
      ]
     },
     "metadata": {},
     "output_type": "display_data"
    },
    {
     "name": "stdout",
     "output_type": "stream",
     "text": [
      "Velocity(m), Height(m), Angle(deg)? 100 10 45\n"
     ]
    },
    {
     "data": {
      "text/plain": [
       "'Derived ... Velocity Equations [vx, vy]:'"
      ]
     },
     "metadata": {},
     "output_type": "display_data"
    },
    {
     "data": {
      "image/png": "[encoded data removed]",
      "text/latex": [
       "$\\displaystyle v_{x0}$"
      ],
      "text/plain": [
       "vₓ₀"
      ]
     },
     "metadata": {},
     "output_type": "display_data"
    },
    {
     "data": {
      "image/png": "[encoded data removed]",
      "text/latex": [
       "$\\displaystyle - 9.8 t + v_{y0}$"
      ],
      "text/plain": [
       "-9.8⋅t + v_y0"
      ]
     },
     "metadata": {},
     "output_type": "display_data"
    },
    {
     "data": {
      "text/plain": [
       "'Derived ... Displacement Equations [sx, sy]'"
      ]
     },
     "metadata": {},
     "output_type": "display_data"
    },
    {
     "data": {
      "image/png": "[encoded data removed]",
      "text/latex": [
       "$\\displaystyle s_{x0} + t v_{x0}$"
      ],
      "text/plain": [
       "sₓ₀ + t⋅vₓ₀"
      ]
     },
     "metadata": {},
     "output_type": "display_data"
    },
    {
     "data": {
      "image/png": "[encoded data removed]",
      "text/latex": [
       "$\\displaystyle s_{y0} - 4.9 t^{2} + t v_{y0}$"
      ],
      "text/plain": [
       "            2         \n",
       "s_y0 - 4.9⋅t  + t⋅v_y0"
      ]
     },
     "metadata": {},
     "output_type": "display_data"
    },
    {
     "data": {
      "text/plain": [
       "'Time to max height (sec)'"
      ]
     },
     "metadata": {},
     "output_type": "display_data"
    },
    {
     "data": {
      "image/png": "[encoded data removed]",
      "text/latex": [
       "$\\displaystyle 7.21537531823007$"
      ],
      "text/plain": [
       "7.21537531823007"
      ]
     },
     "metadata": {},
     "output_type": "display_data"
    },
    {
     "data": {
      "text/plain": [
       "'Max height (m):'"
      ]
     },
     "metadata": {},
     "output_type": "display_data"
    },
    {
     "data": {
      "image/png": "[encoded data removed]",
      "text/latex": [
       "$\\displaystyle 265.102040816326$"
      ],
      "text/plain": [
       "265.102040816326"
      ]
     },
     "metadata": {},
     "output_type": "display_data"
    },
    {
     "data": {
      "text/plain": [
       "'Range (m):'"
      ]
     },
     "metadata": {},
     "output_type": "display_data"
    },
    {
     "data": {
      "image/png": "[encoded data removed]",
      "text/latex": [
       "$\\displaystyle 1030.31203826019$"
      ],
      "text/plain": [
       "1030.31203826019"
      ]
     },
     "metadata": {},
     "output_type": "display_data"
    },
    {
     "data": {
      "image/png": "[encoded data removed]",
      "text/plain": [
       "<Figure size 432x288 with 1 Axes>"
      ]
     },
     "metadata": {},
     "output_type": "display_data"
    }
   ],
   "source": [
    "#Homework 4 KEY barebones\n",
    "from numpy import radians, linspace\n",
    "from IPython.display import display\n",
    "from sympy import *\n",
    "%matplotlib inline\n",
    "import matplotlib.pyplot as plt\n",
    "init_printing(use_latex=True)\n",
    "\n",
    "g = -9.8\n",
    "t,  a, v, v0, vx, vx0, vy, vy0, vt = symbols ('t, a, v, v_0, v_x, v_x0, v_y, v_y0, v_t')\n",
    "s0, sx, sx0, sy, sy0, st = symbols ('s_0, s_x, s_x0, s_y, s_y0, s_t')\n",
    "\n",
    "vt = Integral(a, t)    # int(a*dt)\n",
    "st = Integral (vt, t )  # int((at + v0)dt)\n",
    "display('Hardcoded Equations [Velocity  & Displacement]', vt, st )\n",
    "\n",
    "vt = integrate(a, t) + v0     # v0 is initia velocity\n",
    "st = integrate (vt, t ) + s0  # s0 is initial displacement\n",
    "\n",
    "#Input the three quantities\n",
    "Velocity, Height, Angle = [int(next) for next in input(\"Velocity(m), Height(m), Angle(deg)? \").split()]\n",
    "#Find X and Y initial velocity components\n",
    "initialXvelocity = Velocity * cos(radians(Angle))\n",
    "initialYvelocity = Velocity * sin(radians(Angle))\n",
    "\n",
    "#Derive X & Y component equations, for velocity & displacement. Display them \n",
    "vx = vt.subs([(a, 0),  (v0, vx0)]  )              #velocity x component\n",
    "vy = vt.subs([(a, g), (v0, vy0)]  )               #velocity y component\n",
    "sx = st.subs([(a, 0), (s0, sx0),  (v0, vx0)]  )   #displacement x component\n",
    "sy = st.subs([(a, g), (s0, sy0),   (v0, vy0)]  )  #displacement y component\n",
    "display('Derived ... Velocity Equations [vx, vy]:' , vx, vy  )\n",
    "display('Derived ... Displacement Equations [sx, sy]' ,  sx, sy)\n",
    "\n",
    "#Time to max height: Use Y velocity equation [plug in 'initial Y velocity' & 't = 0'] to find time to max height\n",
    "timeToMaxHeight = solve(vy.subs([(vy0, initialYvelocity)]), t)[0]\n",
    "display('Time to max height (sec)', timeToMaxHeight)\n",
    "\n",
    "#Max Height: Use Y velocity equation [plug in 'initial Y velocity' & 'time to max height'] to find max height\n",
    "max_height = sy.subs([(sy0, Height), (t, timeToMaxHeight), (vy0, initialYvelocity)] )\n",
    "display('Max height (m):', max_height)\n",
    "\n",
    "#Time to hit ground: Use (sy) Y displacement equation [plug in 'y displacement = 0' ] to find time to ground\n",
    "timeToHitGround0 = solve(sy.subs([(sy0, Height), (vy0, initialYvelocity)] ), t)\n",
    "#Launch from ground can have an initial time to ground of t =0 ... if so do NOT use it  \n",
    "timeToHitGround0 = timeToHitGround0[1] if timeToHitGround0[1] else timeToHitGround0[0]\n",
    "\n",
    "#Range: Use (sx) X displacement equation [plug in 'initial X velocity' & 'time to ground'] to find Range\n",
    "Range = sx.subs([(sx0, 0),  (t, timeToHitGround0),  (vx0, initialXvelocity)]   )\n",
    "display('Range (m):', Range)\n",
    "\n",
    "#Plot: Use 'dispalcement equations' to compute X & Y displacement for time instances [0 ... 'time to hit ground'] \n",
    "x, y = [], []\n",
    "timeInstances = linspace(0.0, float(timeToHitGround0), num=123)\n",
    "for thisTimeInstant in timeInstances:\n",
    "    x.append(sx.subs([(sx0, 0), (t, thisTimeInstant),  (vx0, initialXvelocity)]))\n",
    "    y.append(sy.subs([(sy0, Height),  (t, thisTimeInstant),  (vy0, initialYvelocity)]))\n",
    "\n",
    "fig, ax = plt.subplots()\n",
    "fig.patch.set_facecolor('yellow')\n",
    "ax.patch.set_facecolor('yellow')\n",
    "ax.set_xlabel('Range (m)')\n",
    "ax.set_ylabel('Height (m)')\n",
    "ax.set_title('Kinematics App')\n",
    "ax.plot(x,  y)\n",
    "plt.show()"
   ]
  },
  {
   "cell_type": "code",
   "execution_count": null,
   "metadata": {},
   "outputs": [],
   "source": []
  }
 ],
 "metadata": {
  "kernelspec": {
   "display_name": "Python 3",
   "language": "python",
   "name": "python3"
  },
  "language_info": {
   "codemirror_mode": {
    "name": "ipython",
    "version": 3
   },
   "file_extension": ".py",
   "mimetype": "text/x-python",
   "name": "python",
   "nbconvert_exporter": "python",
   "pygments_lexer": "ipython3",
   "version": "3.7.4"
  }
 },
 "nbformat": 4,
 "nbformat_minor": 2
}
