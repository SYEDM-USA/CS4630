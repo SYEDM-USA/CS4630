{
 "cells": [
  {
   "cell_type": "markdown",
   "metadata": {},
   "source": [
    "# Problem 1"
   ]
  },
  {
   "cell_type": "code",
   "execution_count": 8,
   "metadata": {},
   "outputs": [
    {
     "name": "stdout",
     "output_type": "stream",
     "text": [
      "Enter Sample size: 20\n",
      "Enter expected mean: 300\n",
      "Enter observed mean: 270\n",
      "Enter Standard Deviation: 50\n",
      "Null Hypothesis: H0:μ>= 300.00 \n",
      "There is not a significant difference between the expected and observed means\n",
      "Alternate Hypothesis: H0:μ< 300.00 \n",
      "There is a significant difference between the expected and observed means\n",
      "Calculation at α = 0.05\n",
      "Critical Value at α(0.05) = 1.73\n",
      "t-statistic: -2.683282\n",
      "pvalues: 0.007355\n",
      "We reject the null hypothesis and accept the alternative hypothesis. The t-statistic of -2.683282 is in the rejection area\n"
     ]
    }
   ],
   "source": [
    "import numpy as np\n",
    "import scipy.stats as ss\n",
    "\n",
    "\n",
    "n = int(input(\"Enter Sample size: \"))\n",
    "mu = float(input(\"Enter expected mean: \"))\n",
    "mean = float(input(\"Enter observed mean: \"))\n",
    "S_D = float(input(\"Enter Standard Deviation: \"))\n",
    "alpha = 0.05\n",
    "\n",
    "print(\"Null Hypothesis: H0:μ>= %.2f \" %(mu))\n",
    "print(\"There is not a significant difference between the expected and observed means\")\n",
    "print(\"Alternate Hypothesis: H0:μ< %.2f \" %(mu))\n",
    "print(\"There is a significant difference between the expected and observed means\")\n",
    "\n",
    "print(\"Calculation at α = %.2f\" %(alpha))\n",
    "\n",
    "\n",
    "\n",
    "# define probability\n",
    "p = 1-alpha\n",
    "df = n-1\n",
    "# retrieve value <= probability\n",
    "crit_val = ss.t.ppf(p, df)\n",
    "#crit_val = ss.norm.ppf(.95)\n",
    "print(\"Critical Value at α(0.05) = %.2f\" %(crit_val))\n",
    "\n",
    "t = (mean-mu)/(S_D/np.sqrt(n))\n",
    "p = ss.t.cdf(t,n-1)\n",
    "\n",
    "print(\"t-statistic: %f\" %(t))\n",
    "print(\"pvalues: %f\" %(p))\n",
    "if(p<alpha):\n",
    "    print(\"We reject the null hypothesis and accept the alternative hypothesis. The t-statistic of %f is in the rejection area\"%(t))\n",
    "else:\n",
    "    print(\"We cannot reject the null hypothesis. The t-statistic of %f is within the nonrejection area\" %(t))\n",
    "    \n",
    "\n",
    "\n",
    "\n",
    "\n",
    "#if p <alpha ; reject null\n",
    "#conclude we do not jave enough evidence to reject vendors claim \n",
    "#print(\"The null hypothesis is rejected at confidence level %.2f, because p-value < alpha, accept alternate hypothesis\" %(alpha))\n",
    "#print(\"We do not have enough evidence to reject the null at confidence level %.2f\" %(alpha))\n",
    "\n",
    "#print(t)\n",
    "#print(p)\n",
    "#n = 20\n",
    "#nu = 300\n",
    "#H0_nu >=300\n",
    "#H1_nu <300\n",
    "#S_D = 50\n",
    "#mean = 270"
   ]
  },
  {
   "cell_type": "markdown",
   "metadata": {},
   "source": [
    "# Problem 2"
   ]
  },
  {
   "cell_type": "code",
   "execution_count": 15,
   "metadata": {},
   "outputs": [
    {
     "name": "stdout",
     "output_type": "stream",
     "text": [
      "Null Hypothesis: H0=0 ; No difference\n",
      "Alternate Hypothesis: H1!=0 ; Significant difference\n",
      "t-statistc: 4.257547\n",
      "p-value: 0.000474\n",
      "α: 0.050000\n",
      "We reject the null hypothesis and accept the alternative hypothesis at 0.050000 confidence level\n"
     ]
    }
   ],
   "source": [
    "import scipy as sc\n",
    "\n",
    "Older_Adults = [45,38,52,48,25,39,51,46,55,46]\n",
    "Younger_Adults = [34,22,15,27,37,41,24,19,26,36]\n",
    "\n",
    "\n",
    "print(\"Null Hypothesis: H0=0 ; No difference\")\n",
    "print(\"Alternate Hypothesis: H1!=0 ; Significant difference\")\n",
    "\n",
    "\n",
    "statistic, pvalue = sc.stats.ttest_ind(Older_Adults, Younger_Adults)\n",
    "alpha = 0.05\n",
    "\n",
    "print(\"t-statistc: %f\"%(statistic))\n",
    "print(\"p-value: %f\"%(pvalue))\n",
    "print(\"α: %f\"%(alpha))\n",
    "\n",
    "\n",
    "if(pvalue<alpha):\n",
    "    print(\"We reject the null hypothesis and accept the alternative hypothesis at %f confidence level\"%(alpha))\n",
    "else:\n",
    "    print(\"We cannot reject the null hypothesis at %f confidence level\"%(alpha))\n",
    "    \n",
    "    \n",
    "#print(statistic, pvalue)\n",
    "# if p value < 0.05 , we reject null hypothesis \n",
    "# null hypothesis : nu1 = nu2\n",
    "#null   nu1 old average = nu2 young average \n",
    "#alternate nu1 old average != nu2 young average \n",
    "#conc =  there is difference in average"
   ]
  },
  {
   "cell_type": "markdown",
   "metadata": {},
   "source": [
    "# Problem 3"
   ]
  },
  {
   "cell_type": "code",
   "execution_count": 14,
   "metadata": {},
   "outputs": [
    {
     "name": "stdout",
     "output_type": "stream",
     "text": [
      "Null Hypothesis: H0=0 ; No relationship\n",
      "Alternate Hypothesis: H1!=0 ; Significant relationship\n",
      "slope: 1.149102    intercept: -0.350240     pvalue: 0.000000      S.E: 0.153142    t-stat: 7.503518\n",
      "We reject the null hypothesis and accept the alternative hypothesis at 0.050000 confidence level\n"
     ]
    }
   ],
   "source": [
    "#import scipy as sc\n",
    "from scipy import stats\n",
    "import numpy as np\n",
    "\n",
    "file_raw = open(\"Problem 3 Input.txt\", \"r\") \n",
    "n =73\n",
    "alpha = 0.05\n",
    "\n",
    "print(\"Null Hypothesis: H0=0 ; No relationship\")\n",
    "print(\"Alternate Hypothesis: H1!=0 ; Significant relationship\")\n",
    "\n",
    "heart_arr,kidney_size= [] ,[]\n",
    "for x in file_raw:\n",
    "    heart_arr.append(float((x.split())[0]))\n",
    "    kidney_size.append(float((x.split())[1]))\n",
    "    \n",
    "slope, intercept, r_value, p_value, std_err = sc.stats.linregress(kidney_size,heart_arr)\n",
    "\n",
    "\n",
    "t_stat = slope/std_err\n",
    "\n",
    "pval = stats.t.sf(np.abs(t_stat), n-1)*2\n",
    "\n",
    "#print(pval)\n",
    "print(\"slope: %f    intercept: %f     pvalue: %f      S.E: %f    t-stat: %f\" % (slope, intercept,pval, std_err,t_stat))\n",
    "\n",
    "\n",
    "\n",
    "\n",
    "if(pval<alpha):\n",
    "    print(\"We reject the null hypothesis and accept the alternative hypothesis at %f confidence level\"%(alpha))\n",
    "else:\n",
    "    print(\"We cannot reject the null hypothesis at %f confidence level\"%(alpha))\n",
    "\n",
    "\n",
    "\n",
    "\n",
    "\n",
    "\n",
    "\n",
    "\n",
    "#alpha is the critical value, \n",
    "#null and alternate \n",
    "#null = H0:slope = 0\n",
    "#alternate = H1:slope!= 0\n",
    "#as p value is less than alpha , reject the null. \n",
    "#We have sufficient evidence to conclude that slope is not equal to 0\n",
    "\n",
    "#y = heart size dependent \n",
    "#x= kidney size independent "
   ]
  }
 ],
 "metadata": {
  "kernelspec": {
   "display_name": "Python 3",
   "language": "python",
   "name": "python3"
  },
  "language_info": {
   "codemirror_mode": {
    "name": "ipython",
    "version": 3
   },
   "file_extension": ".py",
   "mimetype": "text/x-python",
   "name": "python",
   "nbconvert_exporter": "python",
   "pygments_lexer": "ipython3",
   "version": "3.7.4"
  }
 },
 "nbformat": 4,
 "nbformat_minor": 2
}
