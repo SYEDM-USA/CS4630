{
 "cells": [
  {
   "cell_type": "code",
   "execution_count": 20,
   "metadata": {},
   "outputs": [
    {
     "name": "stdout",
     "output_type": "stream",
     "text": [
      "PROBLEM #1\n",
      "\n",
      "Null Hypothesis H0: mu = mean life of the batteries under normal use = 300 hours.\n",
      "Alternate Hypothesis Ha: mu not 300 hours.\n",
      "\n",
      "⍺ = 0.05\n",
      "t-value = -2.683\n",
      "critical values = ± 2.093\n",
      "p-value = 0.0147\n",
      "\n",
      "The null hypothesis is     rejected w  alpha=  0.05\n",
      "    since t-value (-2.683) falls  outside  CValue (± 2.093)\n"
     ]
    }
   ],
   "source": [
    "#HW 7 KEY barebones\n",
    "#Problem 1 \n",
    "\n",
    "import numpy as np\n",
    "import scipy.stats as stats\n",
    "import math\n",
    "\n",
    "# GIVEN:\n",
    "meanSample = 270      # SAMPLE MEAN BATTERY LIFE SPAN\n",
    "meanClaim = 300       # CLAIMED MEAN BATTERY LIFE SPAN\n",
    "stdDevSample = 50     # STANDARD DEVIATION OF THE SAMPLES\n",
    "numberSample = 20     # NUMBER OF SAMPLES\n",
    "alpha = 0.05          # LEVEL OF SIGNIFICANCE\n",
    "\n",
    "# CRITICAL VALUE FOR ALPHA = 0.05   2-TAILED SO USE ALPHA / 2)\n",
    "criticalValue = stats.t.isf([alpha / 2], [[numberSample - 1]])[0][0]\n",
    "\n",
    "# CALCULATE THE T-VALUE\n",
    "tvalue = (meanSample - meanClaim) / (stdDevSample / np.sqrt(numberSample))  # t-statistic for mean\n",
    "\n",
    "# GET THE P-VALUE FROM THE T-VALUE & DEGREES OF FREEDOM (n - 1)\n",
    "pvalue = stats.t.sf(np.abs(tvalue), numberSample - 1) * 2  # two-sided pvalue = Prob(abs(t)>tt)\n",
    "\n",
    "# PRINT THE RESULTS\n",
    "print('PROBLEM #1\\n')\n",
    "print('Null Hypothesis H0: mu = mean life of the batteries under normal use = 300 hours.')\n",
    "print('Alternate Hypothesis Ha: mu not 300 hours.\\n')\n",
    "print('⍺ = %1.2f' %(alpha))\n",
    "print('t-value = %1.3f' %(tvalue))\n",
    "print('critical values = ± %1.3f' %(criticalValue))\n",
    "print('p-value = %1.4f' %(pvalue))\n",
    "\n",
    "# DECIDE IF THE NULL HYPOTHESIS IS REJECTED\n",
    "string1 = ' '\n",
    "string2 = ' outside '\n",
    "if np.abs(tvalue) < criticalValue: #do not reject\n",
    "    string1 = ' not '\n",
    "    string2 = ' between '\n",
    "   \n",
    "print('\\nThe null hypothesis is ', string1, ' rejected w  alpha= ', alpha)\n",
    "print ('    since t-value (%1.3f) falls'  %(tvalue), string2, 'CValue (± %1.3f)' %(criticalValue))\n"
   ]
  },
  {
   "cell_type": "code",
   "execution_count": 21,
   "metadata": {},
   "outputs": [
    {
     "name": "stdout",
     "output_type": "stream",
     "text": [
      "PROBLEM #2\n",
      "\n",
      "Null Hypothesis H0: mu1 = mu2 [Life satisfaction scores for older people are same as for younger people.]\n",
      "Alternate Hypothesis Ha: mu1 <> mu 2 [Life satisfaction for older different younger people.]\n",
      "\n",
      "⍺ = 0.05\n",
      "t-value = 4.258\n",
      "critical values = ± 2.262\n",
      "p-value = 0.000474\n",
      "\n",
      "The null hypothesis is     rejected w  alpha=  0.05\n",
      "    since t-value (4.258) falls  outside  CValue (± 2.262)\n"
     ]
    }
   ],
   "source": [
    "\n",
    "# PROBLEM #2\n",
    "\n",
    "import numpy as np\n",
    "import scipy.stats as stats\n",
    "import math\n",
    "\n",
    "# GIVEN\n",
    "older = np.array([45, 38, 52, 48, 25, 39, 51, 46, 55, 46])\n",
    "younger = np.array([34, 22, 15, 27, 37, 41, 24, 19, 26, 36])\n",
    "alpha = 0.05          # LEVEL OF SIGNIFICANCE\n",
    "n = 10\n",
    "\n",
    "# CRITICAL VALUE FOR ALPHA = 0.05   2-TAILED SO USE ALPHA / 2\n",
    "criticalValue = stats.t.isf([alpha / 2], [[n - 1]])[0][0]\n",
    "\n",
    "# GET THE T-VALUE & P-VALUE FROM THE DATA SETS\n",
    "results = stats.ttest_ind(older, younger)\n",
    "tvalue = results[0]\n",
    "pvalue = results[1]\n",
    "\n",
    "# PRINT THE RESULTS\n",
    "print('PROBLEM #2\\n')\n",
    "print('Null Hypothesis H0: mu1 = mu2 [Life satisfaction scores for older people are same as for younger people.]')\n",
    "print('Alternate Hypothesis Ha: mu1 <> mu 2 [Life satisfaction for older different younger people.]\\n')\n",
    "print('⍺ = %1.2f' %(alpha))\n",
    "print('t-value = %1.3f' %(tvalue))\n",
    "print('critical values = ± %1.3f' %(criticalValue))\n",
    "print('p-value = %1.6f' %(pvalue))\n",
    "\n",
    "# DECIDE IF THE NULL HYPOTHESIS IS REJECTED\n",
    "string1 = ' '\n",
    "string2 = ' outside '\n",
    "if np.abs(tvalue) < criticalValue: #do not reject\n",
    "    string1 = ' not '\n",
    "    string2 = ' between '\n",
    "   \n",
    "print('\\nThe null hypothesis is ', string1, ' rejected w  alpha= ', alpha)\n",
    "print ('    since t-value (%1.3f) falls'  %(tvalue), string2, 'CValue (± %1.3f)' %(criticalValue))\n"
   ]
  },
  {
   "cell_type": "code",
   "execution_count": 24,
   "metadata": {},
   "outputs": [
    {
     "name": "stdout",
     "output_type": "stream",
     "text": [
      "PROBLEM #3\n",
      "\n",
      "Null hypothesis H0: population correlation coefficient (p) = 0\n",
      "Alternative hypothesis Ha: population correlation coefficient (p) <> 0\n",
      "pvalue, alpha, tvalue:  1.3888342734671936e-10 0.05 7.503518065629367\n",
      "\n",
      "The null hypothesis is     rejected w  alpha=  0.05\n",
      "    since t-value (7.504) falls  outside  CValue (± 1.994)\n"
     ]
    }
   ],
   "source": [
    "import numpy as np\n",
    "import scipy.stats as stats\n",
    "import math\n",
    "\n",
    "nhamsters = 73\n",
    "x = []\n",
    "y = []\n",
    "data = open(\"Problem 3 Input.txt\")\n",
    "for line in data.readlines():\n",
    "    line = line.strip().split()\n",
    "    x.append(float(line[0]))\n",
    "    y.append(float(line[1]))\n",
    "data.close()\n",
    "\n",
    "print('PROBLEM #3\\n')\n",
    "print(\"Null hypothesis H0: population correlation coefficient (p) = 0\")\n",
    "print(\"Alternative hypothesis Ha: population correlation coefficient (p) <> 0\")\n",
    "\n",
    "#linear regression \n",
    "slope, intercept, rvalue, pvalue, stderror = stats.linregress(x, y)\n",
    "tvalue = slope/std_err\n",
    "\n",
    "df = nhamsters - 2 \n",
    "criticalValue = stats.t.isf(alpha/2, df)\n",
    "\n",
    "\n",
    "print(\"pvalue, alpha, tvalue: \", pvalue, alpha, tvalue)\n",
    "\n",
    "# DECIDE IF THE NULL HYPOTHESIS IS REJECTED\n",
    "string1 = ' '\n",
    "string2 = ' outside '\n",
    "if np.abs(tvalue) < criticalValue: #do not reject\n",
    "    string1 = ' not '\n",
    "    string2 = ' between '\n",
    "   \n",
    "print('\\nThe null hypothesis is ', string1, ' rejected w  alpha= ', alpha)\n",
    "print ('    since t-value (%1.3f) falls'  %(tvalue), string2, 'CValue (± %1.3f)' %(criticalValue))\n",
    "\n"
   ]
  },
  {
   "cell_type": "code",
   "execution_count": null,
   "metadata": {},
   "outputs": [],
   "source": []
  },
  {
   "cell_type": "code",
   "execution_count": null,
   "metadata": {},
   "outputs": [],
   "source": []
  }
 ],
 "metadata": {
  "kernelspec": {
   "display_name": "Python 3",
   "language": "python",
   "name": "python3"
  },
  "language_info": {
   "codemirror_mode": {
    "name": "ipython",
    "version": 3
   },
   "file_extension": ".py",
   "mimetype": "text/x-python",
   "name": "python",
   "nbconvert_exporter": "python",
   "pygments_lexer": "ipython3",
   "version": "3.7.4"
  }
 },
 "nbformat": 4,
 "nbformat_minor": 2
}
