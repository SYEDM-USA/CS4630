{
 "cells": [
  {
   "cell_type": "markdown",
   "metadata": {},
   "source": [
    "# Problem 2"
   ]
  },
  {
   "cell_type": "code",
   "execution_count": 12,
   "metadata": {},
   "outputs": [
    {
     "name": "stdout",
     "output_type": "stream",
     "text": [
      "4.257546665558161 0.0004736633119019225\n"
     ]
    }
   ],
   "source": [
    "import scipy as sc\n",
    "\n",
    "Older_Adults = [45,38,52,48,25,39,51,46,55,46]\n",
    "Younger_Adults = [34,22,15,27,37,41,24,19,26,36]\n",
    "\n",
    "statistic, pvalue = sc.stats.ttest_ind(Older_Adults, Younger_Adults)\n",
    "\n",
    "print(statistic, pvalue)\n",
    "\n",
    "# if p value < 0.05 , we reject null hypothesis \n",
    "# null hypothesis : nu1 = nu2\n",
    "#null   nu1 old average = nu2 young average \n",
    "#alternate nu1 old average != nu2 young average \n",
    "#conc =  there is difference in average"
   ]
  },
  {
   "cell_type": "markdown",
   "metadata": {},
   "source": [
    "# Problem 1\n"
   ]
  },
  {
   "cell_type": "code",
   "execution_count": 5,
   "metadata": {},
   "outputs": [
    {
     "name": "stdout",
     "output_type": "stream",
     "text": [
      "0.007354953707415694\n",
      "-2.683281572999748\n"
     ]
    }
   ],
   "source": [
    "import numpy as np\n",
    "import scipy.stats as ss\n",
    "\n",
    "\n",
    "n = 20\n",
    "nu = 300\n",
    "#H0_nu >=300\n",
    "#H1_nu <300\n",
    "S_D = 50\n",
    "mean = 270\n",
    "\n",
    "t = (mean-nu)/(S_D/np.sqrt(n))\n",
    "\n",
    "p = ss.t.cdf(t,n-1)\n",
    "print(p)\n",
    "\n",
    "\n",
    "#if p <alpha ; reject null\n",
    "#conclude we do not jave enough evidence to reject vendors claim \n",
    "\n",
    "\n",
    "print(t)"
   ]
  },
  {
   "cell_type": "code",
   "execution_count": null,
   "metadata": {},
   "outputs": [],
   "source": [
    "#import scipy as sc\n",
    "from scipy import stats\n",
    "import numpy as np\n",
    "\n",
    "file_raw = open(\"Problem 3 Input.txt\", \"r\") \n",
    "n =73\n",
    "alpha = 0.05\n",
    "\n",
    "\n",
    "heart_arr,kidney_size= [] ,[]\n",
    "for x in file_raw:\n",
    "    heart_arr.append(float((x.split())[0]))\n",
    "    kidney_size.append(float((x.split())[1]))\n",
    "    \n",
    "slope, intercept, r_value, p_value, std_err = sc.stats.linregress(kidney_size,heart_arr)\n",
    "\n",
    "t_stat = slope/std_err\n",
    "print(\"slope: %f    intercept: %f     pvalue: %f      S.E: %f    t-stat: %f\" % (slope, intercept,p_value, std_err,t_stat))\n",
    "\n",
    "\n",
    "pval = stats.t.sf(np.abs(t_stat), n-1)*2\n",
    "print(pval)\n",
    "\n",
    "#alpha is the critical value, \n",
    "#null and alternate \n",
    "#null = H0:slope = 0\n",
    "#alternate = H1:slope!= 0\n",
    "#as p value is less than alpha , reject the null. \n",
    "#We have sufficient evidence to conclude that slope is not equal to 0\n",
    "\n",
    "#y = heart size dependent \n",
    "#x= kidney size independent "
   ]
  }
 ],
 "metadata": {
  "kernelspec": {
   "display_name": "Python 3",
   "language": "python",
   "name": "python3"
  },
  "language_info": {
   "codemirror_mode": {
    "name": "ipython",
    "version": 3
   },
   "file_extension": ".py",
   "mimetype": "text/x-python",
   "name": "python",
   "nbconvert_exporter": "python",
   "pygments_lexer": "ipython3",
   "version": "3.7.4"
  }
 },
 "nbformat": 4,
 "nbformat_minor": 2
}
