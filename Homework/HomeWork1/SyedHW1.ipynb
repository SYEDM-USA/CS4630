{
 "cells": [
  {
   "cell_type": "code",
   "execution_count": 1,
   "metadata": {},
   "outputs": [],
   "source": [
    "from tkinter import *\n",
    "from tkinter.ttk import *\n",
    "#Making the window for the GUI appliation\n",
    "window = Tk()\n",
    "window.title(\"Homework 1\")\n",
    "window.geometry('400x250')\n",
    "\n",
    "\n",
    "# Function when you click the btnCell\n",
    "# which makes the function to execute to find index\n",
    "def clicked():\n",
    "    calculated_position = find_index(inputcell.get(),\"CAG\")\n",
    "    positions = str(calculated_position)\n",
    "    outputtext.configure(text = \"CAG at: \"+ positions)\n",
    "\n",
    "# The function which finds and returns the array with all the place where CAG IS found\n",
    "def find_index(in_str, find_str):\n",
    "    position = []\n",
    "    length = len(in_str)\n",
    "    index = 0\n",
    "    while index < length:\n",
    "        i = in_str.find(find_str, index)\n",
    "        if i == -1:\n",
    "            return position\n",
    "        position.append(i)\n",
    "        index = i + 1\n",
    "    return position\n",
    "\n",
    "# The first line in the GUI ask the user to input the string of character of mRNA\n",
    "inputtext = Label(window,text = \"Enter mRNA Sequence \")\n",
    "inputtext.grid(sticky = \"W\",column = 0, row =0)\n",
    "#Actual box to inout the character\n",
    "inputcell = Entry(window)\n",
    "inputcell.grid(column = 1, row =0)\n",
    "\n",
    "\n",
    "#Second line in the GUI which diplays the CAG in the mRNA sequence\n",
    "outputtext = Label(window, text = \"CAG at\")\n",
    "outputtext.grid(sticky = \"W\",column = 0, row = 1)\n",
    "\n",
    "\n",
    "\n",
    "# Find button to start the program to find CAG in the mRNA\n",
    "btnCell = Button(window, text=\"FIND\", command=clicked)\n",
    "btnCell.grid(column = 3, row=0)\n",
    "\n",
    "#Execute\n",
    "window.mainloop()\n"
   ]
  },
  {
   "cell_type": "code",
   "execution_count": null,
   "metadata": {},
   "outputs": [],
   "source": []
  }
 ],
 "metadata": {
  "kernelspec": {
   "display_name": "Python 3",
   "language": "python",
   "name": "python3"
  },
  "language_info": {
   "codemirror_mode": {
    "name": "ipython",
    "version": 3
   },
   "file_extension": ".py",
   "mimetype": "text/x-python",
   "name": "python",
   "nbconvert_exporter": "python",
   "pygments_lexer": "ipython3",
   "version": "3.7.4"
  }
 },
 "nbformat": 4,
 "nbformat_minor": 2
}
