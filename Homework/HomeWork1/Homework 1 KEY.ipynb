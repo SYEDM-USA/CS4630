{
 "cells": [
  {
   "cell_type": "code",
   "execution_count": null,
   "metadata": {},
   "outputs": [],
   "source": [
    "from tkinter import *\n",
    "from tkinter.ttk import *\n",
    "import re\n",
    "window = Tk()\n",
    "window.title(\"MRNA HW 1\")\n",
    "window.geometry('300x250')\n",
    "\n",
    "def clicked():\n",
    "  output.delete(0, END)\n",
    "  mRNA= input.get()\n",
    "  myOutput = ([mRNA.find(\"CAG\", i, i+3) \\\n",
    "    for i in range(0, len(mRNA)) if mRNA.find(\"CAG\", i, i+3) !=-1 ])\n",
    "  output.insert(0,myOutput)\n",
    "\n",
    "lblCell = Label(window, text=\"Input\")\n",
    "lblCell.grid(column=0, row=0)\n",
    "lblCell = Label(window, text = \"Ouput\")\n",
    "lblCell.grid(column = 0, row = 2)\n",
    "\n",
    "btnCell = Button(window, text = \"Find CAG\", command = clicked)\n",
    "btnCell.grid(column = 2, row = 0)\n",
    "\n",
    "input = Entry(window, width = 30)\n",
    "input.grid(column = 1, row = 0)\n",
    "output = Entry(window, width = 30)\n",
    "output.grid(column = 1, row = 2)\n",
    "\n",
    "window.mainloop()\n"
   ]
  },
  {
   "cell_type": "code",
   "execution_count": null,
   "metadata": {},
   "outputs": [],
   "source": []
  },
  {
   "cell_type": "code",
   "execution_count": null,
   "metadata": {},
   "outputs": [],
   "source": []
  },
  {
   "cell_type": "code",
   "execution_count": null,
   "metadata": {},
   "outputs": [],
   "source": []
  },
  {
   "cell_type": "code",
   "execution_count": null,
   "metadata": {},
   "outputs": [],
   "source": []
  },
  {
   "cell_type": "code",
   "execution_count": null,
   "metadata": {},
   "outputs": [],
   "source": []
  },
  {
   "cell_type": "code",
   "execution_count": null,
   "metadata": {},
   "outputs": [],
   "source": []
  }
 ],
 "metadata": {
  "kernelspec": {
   "display_name": "Python 3",
   "language": "python",
   "name": "python3"
  },
  "language_info": {
   "codemirror_mode": {
    "name": "ipython",
    "version": 3
   },
   "file_extension": ".py",
   "mimetype": "text/x-python",
   "name": "python",
   "nbconvert_exporter": "python",
   "pygments_lexer": "ipython3",
   "version": "3.7.4"
  }
 },
 "nbformat": 4,
 "nbformat_minor": 2
}
