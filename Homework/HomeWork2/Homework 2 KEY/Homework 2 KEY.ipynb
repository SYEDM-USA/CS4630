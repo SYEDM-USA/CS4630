{
 "cells": [
  {
   "cell_type": "code",
   "execution_count": 1,
   "metadata": {},
   "outputs": [],
   "source": [
    "#Homework 2 KEY - barebones\n",
    "from tkinter import *\n",
    "from tkinter.ttk import *\n",
    "from Helper1 import *\n",
    "\n",
    "atomicMassDict = symbolAndMass('PeriodicTableData.xlsx')\n",
    "window = Tk()\n",
    "window.title('Stoichiometry APP - barebones')\n",
    "window.geometry('750x200')\n",
    "\n",
    "#Create GUI - 2 x 6 matrix input/output cells and 3rd row button\n",
    "myInputOutputCells = [[0 for x in range(0,6)] for x in range(0,2)] #matrix of 2 x 6; row 0: 0..5, row 1: 0..5\n",
    "for rowNo in range (0,2):   #create the matirx-based user interface\n",
    " for colNo in range(0, 6):\n",
    "    nextCell = Entry(window, width=10)\n",
    "    nextCell.grid(column = colNo, row = rowNo, padx = 5, pady = 1)\n",
    "    myInputOutputCells[rowNo][colNo] = nextCell\n",
    "\n",
    "def buttonClick ():\n",
    "    \n",
    "    #get input compounds in 1st rwo; get lab measurement, its index from 2nd row\n",
    "    myCompounds =   [myInputOutputCells[0][colNo].get() for colNo in range (0,6) ] \n",
    "    myMeasurements = [myInputOutputCells[1][colNo].get() for colNo in range (0,6) ] \n",
    "    labCellIndex = next((colNo for colNo, x in enumerate(myMeasurements) if x), None) # lab measurement's index\n",
    "    labCompound = molesAndCompound (myCompounds[labCellIndex])  #[moles, compoundName]\n",
    "    labWtInMoles = float (myMeasurements [labCellIndex])/molWeight (labCompound[1], atomicMassDict)\n",
    "    \n",
    "    #Do stoichiometric calculation & populate (up to 6 cells of) output row\n",
    "    Avogadro = 6.022 * 10 ** 23\n",
    "    for colNo in range (0,6):\n",
    "       if not myMeasurements[colNo] and myCompounds[colNo]: #check if output row cell needs fill-in?\n",
    "        \n",
    "          thisCompound = molesAndCompound (myCompounds[colNo])     \n",
    "          multFactor = (Avogadro if displayMolecules.get() else 1.0)\n",
    "          thisCompoundsWtInMoles =  (thisCompound[0] / labCompound[0]) * labWtInMoles * multFactor\n",
    "          myInputOutputCells[1][colNo].insert(0, '{:.3e}'.format( thisCompoundsWtInMoles ) )\n",
    "   \n",
    "def molWeight (compound, atomicMassDict):\n",
    "  atoms = atomCount(compound)\n",
    "  weight = 0\n",
    "  for key in atoms.keys():\n",
    "     weight += atoms[key] * float(atomicMassDict[key]) \n",
    "  return weight\n",
    "     \n",
    "displayMolecules = IntVar()\n",
    "Checkbutton(window, text='Molecules?', variable=displayMolecules, onvalue=1, offvalue=0).grid(column=0, row=3)\n",
    "Button(window, text='Compute', command = buttonClick ).grid(column=1, row=3, sticky=W, padx=4) \n",
    "window.mainloop()"
   ]
  },
  {
   "cell_type": "code",
   "execution_count": null,
   "metadata": {},
   "outputs": [],
   "source": []
  },
  {
   "cell_type": "code",
   "execution_count": 1,
   "metadata": {},
   "outputs": [
    {
     "name": "stdout",
     "output_type": "stream",
     "text": [
      "{z: 2, x: -y - 1}\n"
     ]
    }
   ],
   "source": [
    "from sympy import *\n",
    "\n",
    "x, y, z = symbols('x, y, z')\n",
    "eq1 = Eq(x + y + z, 1)             # x + y + z  = 1\n",
    "eq2 = Eq(x + y + 2 * z, 3)         # x + y + 2z = 3\n",
    "ans = solve((eq1, eq2), (x, y, z))\n",
    "print(ans)\n"
   ]
  },
  {
   "cell_type": "code",
   "execution_count": null,
   "metadata": {},
   "outputs": [],
   "source": []
  }
 ],
 "metadata": {
  "kernelspec": {
   "display_name": "Python 3",
   "language": "python",
   "name": "python3"
  },
  "language_info": {
   "codemirror_mode": {
    "name": "ipython",
    "version": 3
   },
   "file_extension": ".py",
   "mimetype": "text/x-python",
   "name": "python",
   "nbconvert_exporter": "python",
   "pygments_lexer": "ipython3",
   "version": "3.7.4"
  }
 },
 "nbformat": 4,
 "nbformat_minor": 2
}
