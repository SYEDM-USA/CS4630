{
 "cells": [
  {
   "cell_type": "code",
   "execution_count": null,
   "metadata": {},
   "outputs": [],
   "source": [
    "from tkinter import *\n",
    "from tkinter.ttk import *\n",
    "from Helper1 import symbolAndMass, atomCount, molesAndCompound\n",
    "import re\n",
    "\n",
    "window = Tk()\n",
    "window.title(\"Chemical Equations HW 2\")\n",
    "window.geometry('900x300')\n",
    "\n",
    "hash_periodic = symbolAndMass('PeriodicTableData.xlsx')"
   ]
  },
  {
   "cell_type": "code",
   "execution_count": null,
   "metadata": {},
   "outputs": [],
   "source": [
    "from tkinter import*\n",
    "from tkinter.ttk import*\n",
    "window = Tk()\n",
    "window.title(\"Homework 1\")\n",
    "window.geometry ('300x200')\n",
    "\n",
    "   \n",
    "\n",
    "   \n",
    "def function1():\n",
    "    position_1=function2(inputcell.get(), \"CAG\")\n",
    "    POSITION = str(position_1)\n",
    "    outputcell.configure(text=POSITION)\n",
    "   \n",
    "def function2(Input, find):\n",
    "    pos=[]\n",
    "    length=len(Input)\n",
    "    i,j=0,0\n",
    "    while(i < length):\n",
    "        j=Input.find(find, i)\n",
    "        if j==-1:\n",
    "            return pos\n",
    "        pos.append(j)\n",
    "        i=j+1\n",
    "       \n",
    "    return pos\n",
    "   \n",
    "\n",
    "\n",
    "   \n",
    "   \n",
    "inputtext=Label(window, text = \"Enter mRNA sequence \")\n",
    "inputtext.grid(column =0, row=0)\n",
    "inputcell=Entry(window, width = 10)\n",
    "inputcell.grid(column =1, row =0)\n",
    "\n",
    "position_1= []\n",
    "\n",
    "outputtext=Label(window, text = \"CAG index\")\n",
    "outputtext.grid(sticky= \"W\", column =0, row =1)\n",
    "outputcell=Label(window, text=position_1)\n",
    "outputcell.grid(column =1, row = 1)\n",
    "\n",
    "btncell=Button(window, text = \"Try me?\", command=function1)\n",
    "btncell.grid(column=3, row =0)\n",
    "\n",
    "window.mainloop()"
   ]
  }
 ],
 "metadata": {
  "kernelspec": {
   "display_name": "Python 3",
   "language": "python",
   "name": "python3"
  },
  "language_info": {
   "codemirror_mode": {
    "name": "ipython",
    "version": 3
   },
   "file_extension": ".py",
   "mimetype": "text/x-python",
   "name": "python",
   "nbconvert_exporter": "python",
   "pygments_lexer": "ipython3",
   "version": "3.7.4"
  }
 },
 "nbformat": 4,
 "nbformat_minor": 2
}
